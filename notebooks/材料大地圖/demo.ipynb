{
 "cells": [
  {
   "cell_type": "code",
   "execution_count": 66,
   "metadata": {},
   "outputs": [],
   "source": [
    "from innolux import *"
   ]
  },
  {
   "cell_type": "code",
   "execution_count": 67,
   "metadata": {},
   "outputs": [
    {
     "name": "stderr",
     "output_type": "stream",
     "text": [
      "Could not determine dtype for column 5, falling back to string\n",
      "Could not determine dtype for column 11, falling back to string\n"
     ]
    }
   ],
   "source": [
    "mgd_db = pl.read_excel(data_path / \"材料大地圖\" / \"demo.xlsx\", sheet_name=\"mgd_db\")\n",
    "isd_attribute_db = pl.read_excel(data_path / \"材料大地圖\" / \"demo.xlsx\", sheet_name=\"isd_attribute_db\")\n",
    "combo_db = pl.read_excel(data_path / \"材料大地圖\" / \"combo_db_20250911.xlsx\")"
   ]
  },
  {
   "cell_type": "code",
   "execution_count": 37,
   "metadata": {},
   "outputs": [
    {
     "data": {
      "text/html": [
       "<div><style>\n",
       ".dataframe > thead > tr,\n",
       ".dataframe > tbody > tr {\n",
       "  text-align: right;\n",
       "  white-space: pre-wrap;\n",
       "}\n",
       "</style>\n",
       "<small>shape: (324, 12)</small><table border=\"1\" class=\"dataframe\"><thead><tr><th>GROUP_ID</th><th>COMBO_SYS_ID</th><th>ISD_STATE_KEY</th><th>APPLICATION</th><th>液晶MODE</th><th>MASK_ID</th><th>搭配資料ID</th><th>項目ID</th><th>項目名稱</th><th>項目資料ID</th><th>資料名稱</th><th>FAB</th></tr><tr><td>str</td><td>str</td><td>str</td><td>str</td><td>str</td><td>str</td><td>str</td><td>str</td><td>str</td><td>str</td><td>str</td><td>str</td></tr></thead><tbody><tr><td>&quot;MIG_000001&quot;</td><td>&quot;1901_00003&quot;</td><td>&quot;ACTIVE&quot;</td><td>&quot;AA_OEM&quot;</td><td>&quot;NOT_USE (無液晶)&quot;</td><td>null</td><td>&quot;MGD_000001&quot;</td><td>&quot;ITM_000061&quot;</td><td>&quot;PI 型號&quot;</td><td>&quot;NONE&quot;</td><td>&quot;NONE(無製程)&quot;</td><td>null</td></tr><tr><td>&quot;MIG_000001&quot;</td><td>&quot;1901_00003&quot;</td><td>&quot;ACTIVE&quot;</td><td>&quot;AA_OEM&quot;</td><td>&quot;NOT_USE (無液晶)&quot;</td><td>null</td><td>&quot;MGD_000001&quot;</td><td>&quot;ITM_000062&quot;</td><td>&quot;毛輪布型號&quot;</td><td>&quot;NONE&quot;</td><td>&quot;NONE(無製程)&quot;</td><td>null</td></tr><tr><td>&quot;MIG_000001&quot;</td><td>&quot;1901_00003&quot;</td><td>&quot;ACTIVE&quot;</td><td>&quot;AA_OEM&quot;</td><td>&quot;NOT_USE (無液晶)&quot;</td><td>null</td><td>&quot;MGD_000001&quot;</td><td>&quot;ITM_000064&quot;</td><td>&quot;LC 型號&quot;</td><td>&quot;NONE&quot;</td><td>&quot;NONE(無製程)&quot;</td><td>null</td></tr><tr><td>&quot;MIG_000001&quot;</td><td>&quot;1901_00003&quot;</td><td>&quot;ACTIVE&quot;</td><td>&quot;AA_OEM&quot;</td><td>&quot;NOT_USE (無液晶)&quot;</td><td>null</td><td>&quot;MGD_000001&quot;</td><td>&quot;ITM_000071&quot;</td><td>&quot;SEAL 型號&quot;</td><td>&quot;NONE&quot;</td><td>&quot;NONE(無製程)&quot;</td><td>null</td></tr><tr><td>&quot;MIG_000001&quot;</td><td>&quot;1901_00016&quot;</td><td>&quot;ACTIVE&quot;</td><td>&quot;NB&quot;</td><td>&quot;AAS&quot;</td><td>null</td><td>&quot;MGD_000024&quot;</td><td>&quot;ITM_000061&quot;</td><td>&quot;PI 型號&quot;</td><td>&quot;ISD_000425&quot;</td><td>&quot;SE-6414&quot;</td><td>null</td></tr><tr><td>&hellip;</td><td>&hellip;</td><td>&hellip;</td><td>&hellip;</td><td>&hellip;</td><td>&hellip;</td><td>&hellip;</td><td>&hellip;</td><td>&hellip;</td><td>&hellip;</td><td>&hellip;</td><td>&hellip;</td></tr><tr><td>&quot;MIG_000001&quot;</td><td>&quot;2403_00023&quot;</td><td>&quot;ACTIVE&quot;</td><td>&quot;NB&quot;</td><td>&quot;PA_AAS&quot;</td><td>&quot;G034 B版光罩&quot;</td><td>&quot;MGD_001299&quot;</td><td>&quot;ITM_000071&quot;</td><td>&quot;SEAL 型號&quot;</td><td>&quot;ISD_018690&quot;</td><td>&quot;S-WB141(318B)&quot;</td><td>&quot;LCD-T6&quot;</td></tr><tr><td>&quot;MIG_000001&quot;</td><td>&quot;2412_00013&quot;</td><td>&quot;ACTIVE&quot;</td><td>&quot;NB&quot;</td><td>&quot;ECB&quot;</td><td>&quot;E086&quot;</td><td>&quot;MGD_001302&quot;</td><td>&quot;ITM_000061&quot;</td><td>&quot;PI 型號&quot;</td><td>&quot;ISD_000423&quot;</td><td>&quot;SE-6414&quot;</td><td>&quot;LCD-03&quot;</td></tr><tr><td>&quot;MIG_000001&quot;</td><td>&quot;2412_00013&quot;</td><td>&quot;ACTIVE&quot;</td><td>&quot;NB&quot;</td><td>&quot;ECB&quot;</td><td>&quot;E086&quot;</td><td>&quot;MGD_001302&quot;</td><td>&quot;ITM_000062&quot;</td><td>&quot;毛輪布型號&quot;</td><td>&quot;ISD_011099&quot;</td><td>&quot;Y20-130&quot;</td><td>&quot;LCD-03&quot;</td></tr><tr><td>&quot;MIG_000001&quot;</td><td>&quot;2412_00013&quot;</td><td>&quot;ACTIVE&quot;</td><td>&quot;NB&quot;</td><td>&quot;ECB&quot;</td><td>&quot;E086&quot;</td><td>&quot;MGD_001302&quot;</td><td>&quot;ITM_000064&quot;</td><td>&quot;LC 型號&quot;</td><td>&quot;ISD_018387&quot;</td><td>&quot;ZCM-5571XX&quot;</td><td>&quot;LCD-03&quot;</td></tr><tr><td>&quot;MIG_000001&quot;</td><td>&quot;2412_00013&quot;</td><td>&quot;ACTIVE&quot;</td><td>&quot;NB&quot;</td><td>&quot;ECB&quot;</td><td>&quot;E086&quot;</td><td>&quot;MGD_001302&quot;</td><td>&quot;ITM_000071&quot;</td><td>&quot;SEAL 型號&quot;</td><td>&quot;ISD_017542&quot;</td><td>&quot;W/R 723K1M&quot;</td><td>&quot;LCD-03&quot;</td></tr></tbody></table></div>"
      ],
      "text/plain": [
       "shape: (324, 12)\n",
       "┌────────────┬────────────┬───────────┬───────────┬───┬───────────┬───────────┬───────────┬────────┐\n",
       "│ GROUP_ID   ┆ COMBO_SYS_ ┆ ISD_STATE ┆ APPLICATI ┆ … ┆ 項目名稱  ┆ 項目資料I ┆ 資料名稱  ┆ FAB    │\n",
       "│ ---        ┆ ID         ┆ _KEY      ┆ ON        ┆   ┆ ---       ┆ D         ┆ ---       ┆ ---    │\n",
       "│ str        ┆ ---        ┆ ---       ┆ ---       ┆   ┆ str       ┆ ---       ┆ str       ┆ str    │\n",
       "│            ┆ str        ┆ str       ┆ str       ┆   ┆           ┆ str       ┆           ┆        │\n",
       "╞════════════╪════════════╪═══════════╪═══════════╪═══╪═══════════╪═══════════╪═══════════╪════════╡\n",
       "│ MIG_000001 ┆ 1901_00003 ┆ ACTIVE    ┆ AA_OEM    ┆ … ┆ PI 型號   ┆ NONE      ┆ NONE(無製 ┆ null   │\n",
       "│            ┆            ┆           ┆           ┆   ┆           ┆           ┆ 程)       ┆        │\n",
       "│ MIG_000001 ┆ 1901_00003 ┆ ACTIVE    ┆ AA_OEM    ┆ … ┆ 毛輪布型  ┆ NONE      ┆ NONE(無製 ┆ null   │\n",
       "│            ┆            ┆           ┆           ┆   ┆ 號        ┆           ┆ 程)       ┆        │\n",
       "│ MIG_000001 ┆ 1901_00003 ┆ ACTIVE    ┆ AA_OEM    ┆ … ┆ LC 型號   ┆ NONE      ┆ NONE(無製 ┆ null   │\n",
       "│            ┆            ┆           ┆           ┆   ┆           ┆           ┆ 程)       ┆        │\n",
       "│ MIG_000001 ┆ 1901_00003 ┆ ACTIVE    ┆ AA_OEM    ┆ … ┆ SEAL 型號 ┆ NONE      ┆ NONE(無製 ┆ null   │\n",
       "│            ┆            ┆           ┆           ┆   ┆           ┆           ┆ 程)       ┆        │\n",
       "│ MIG_000001 ┆ 1901_00016 ┆ ACTIVE    ┆ NB        ┆ … ┆ PI 型號   ┆ ISD_00042 ┆ SE-6414   ┆ null   │\n",
       "│            ┆            ┆           ┆           ┆   ┆           ┆ 5         ┆           ┆        │\n",
       "│ …          ┆ …          ┆ …         ┆ …         ┆ … ┆ …         ┆ …         ┆ …         ┆ …      │\n",
       "│ MIG_000001 ┆ 2403_00023 ┆ ACTIVE    ┆ NB        ┆ … ┆ SEAL 型號 ┆ ISD_01869 ┆ S-WB141(3 ┆ LCD-T6 │\n",
       "│            ┆            ┆           ┆           ┆   ┆           ┆ 0         ┆ 18B)      ┆        │\n",
       "│ MIG_000001 ┆ 2412_00013 ┆ ACTIVE    ┆ NB        ┆ … ┆ PI 型號   ┆ ISD_00042 ┆ SE-6414   ┆ LCD-03 │\n",
       "│            ┆            ┆           ┆           ┆   ┆           ┆ 3         ┆           ┆        │\n",
       "│ MIG_000001 ┆ 2412_00013 ┆ ACTIVE    ┆ NB        ┆ … ┆ 毛輪布型  ┆ ISD_01109 ┆ Y20-130   ┆ LCD-03 │\n",
       "│            ┆            ┆           ┆           ┆   ┆ 號        ┆ 9         ┆           ┆        │\n",
       "│ MIG_000001 ┆ 2412_00013 ┆ ACTIVE    ┆ NB        ┆ … ┆ LC 型號   ┆ ISD_01838 ┆ ZCM-5571X ┆ LCD-03 │\n",
       "│            ┆            ┆           ┆           ┆   ┆           ┆ 7         ┆ X         ┆        │\n",
       "│ MIG_000001 ┆ 2412_00013 ┆ ACTIVE    ┆ NB        ┆ … ┆ SEAL 型號 ┆ ISD_01754 ┆ W/R       ┆ LCD-03 │\n",
       "│            ┆            ┆           ┆           ┆   ┆           ┆ 2         ┆ 723K1M    ┆        │\n",
       "└────────────┴────────────┴───────────┴───────────┴───┴───────────┴───────────┴───────────┴────────┘"
      ]
     },
     "execution_count": 37,
     "metadata": {},
     "output_type": "execute_result"
    }
   ],
   "source": [
    "mgd_db"
   ]
  },
  {
   "cell_type": "code",
   "execution_count": 47,
   "metadata": {},
   "outputs": [
    {
     "data": {
      "text/html": [
       "<div><style>\n",
       ".dataframe > thead > tr,\n",
       ".dataframe > tbody > tr {\n",
       "  text-align: right;\n",
       "  white-space: pre-wrap;\n",
       "}\n",
       "</style>\n",
       "<small>shape: (82, 9)</small><table border=\"1\" class=\"dataframe\"><thead><tr><th>搭配資料ID</th><th>使用廠區</th><th>應用別</th><th>PI 型號</th><th>PI Phase</th><th>LC 型號</th><th>LC Phase</th><th>SEAL 型號</th><th>SEAL Phase</th></tr><tr><td>str</td><td>str</td><td>str</td><td>str</td><td>str</td><td>str</td><td>str</td><td>str</td><td>str</td></tr></thead><tbody><tr><td>&quot;MGD_000001&quot;</td><td>null</td><td>&quot;AA_OEM&quot;</td><td>&quot;NONE(無製程)&quot;</td><td>&quot;RELEASED&quot;</td><td>&quot;NONE(無製程)&quot;</td><td>&quot;RELEASED&quot;</td><td>&quot;NONE(無製程)&quot;</td><td>&quot;RELEASED&quot;</td></tr><tr><td>&quot;MGD_000024&quot;</td><td>null</td><td>&quot;NB&quot;</td><td>&quot;SE-6414&quot;</td><td>&quot;RELEASED&quot;</td><td>&quot;ZCM-5522XX&quot;</td><td>&quot;RELEASED&quot;</td><td>&quot;W/R 723K1M&quot;</td><td>&quot;RELEASED&quot;</td></tr><tr><td>&quot;MGD_000054&quot;</td><td>null</td><td>&quot;Medical&quot;</td><td>&quot;SE-6414&quot;</td><td>&quot;RELEASED&quot;</td><td>&quot;LCT-09-1060&quot;</td><td>&quot;RELEASED&quot;</td><td>&quot;W/R 723K1M&quot;</td><td>&quot;RELEASED&quot;</td></tr><tr><td>&quot;MGD_000066&quot;</td><td>null</td><td>&quot;NB&quot;</td><td>&quot;SE-6414&quot;</td><td>&quot;RELEASED&quot;</td><td>&quot;LCT-11-2596&quot;</td><td>&quot;RELEASED&quot;</td><td>&quot;W/R 723K1M&quot;</td><td>&quot;RELEASED&quot;</td></tr><tr><td>&quot;MGD_000071&quot;</td><td>null</td><td>&quot;CE&quot;</td><td>&quot;SE-5811&quot;</td><td>&quot;RELEASED&quot;</td><td>&quot;LCT-11-362&quot;</td><td>&quot;RELEASED&quot;</td><td>&quot;S-WH18&quot;</td><td>&quot;RELEASED&quot;</td></tr><tr><td>&hellip;</td><td>&hellip;</td><td>&hellip;</td><td>&hellip;</td><td>&hellip;</td><td>&hellip;</td><td>&hellip;</td><td>&hellip;</td><td>&hellip;</td></tr><tr><td>&quot;MGD_001293&quot;</td><td>&quot;LCD-T2&quot;</td><td>&quot;NB&quot;</td><td>&quot;AL7171&quot;</td><td>&quot;RELEASED&quot;</td><td>&quot;ZCM-5522XX&quot;</td><td>&quot;RELEASED&quot;</td><td>&quot;W/R 723K1M&quot;</td><td>&quot;RELEASED&quot;</td></tr><tr><td>&quot;MGD_001294&quot;</td><td>&quot;LCD-T2&quot;</td><td>&quot;NB&quot;</td><td>&quot;AL7171&quot;</td><td>&quot;RELEASED&quot;</td><td>&quot;ZCM-5522XX&quot;</td><td>&quot;RELEASED&quot;</td><td>&quot;S-WB141(318B)&quot;</td><td>&quot;RELEASED&quot;</td></tr><tr><td>&quot;MGD_001298&quot;</td><td>&quot;LCD-T6&quot;</td><td>&quot;NB&quot;</td><td>&quot;NRB-U238(5521)_RB005&quot;</td><td>&quot;RELEASED&quot;</td><td>&quot;LCT-13-1386&quot;</td><td>&quot;RELEASED&quot;</td><td>&quot;S-WB141(318B)&quot;</td><td>&quot;RELEASED&quot;</td></tr><tr><td>&quot;MGD_001299&quot;</td><td>&quot;LCD-T6&quot;</td><td>&quot;NB&quot;</td><td>&quot;NRB-U973(0625)_RB024&quot;</td><td>&quot;RELEASED&quot;</td><td>&quot;LCT-17-941&quot;</td><td>&quot;RELEASED&quot;</td><td>&quot;S-WB141(318B)&quot;</td><td>&quot;RELEASED&quot;</td></tr><tr><td>&quot;MGD_001302&quot;</td><td>&quot;LCD-03&quot;</td><td>&quot;NB&quot;</td><td>&quot;SE-6414&quot;</td><td>&quot;RELEASED&quot;</td><td>&quot;ZCM-5571XX&quot;</td><td>&quot;RELEASED&quot;</td><td>&quot;W/R 723K1M&quot;</td><td>&quot;RELEASED&quot;</td></tr></tbody></table></div>"
      ],
      "text/plain": [
       "shape: (82, 9)\n",
       "┌────────────┬──────────┬─────────┬────────────┬───┬────────────┬──────────┬───────────┬───────────┐\n",
       "│ 搭配資料ID ┆ 使用廠區 ┆ 應用別  ┆ PI 型號    ┆ … ┆ LC 型號    ┆ LC Phase ┆ SEAL 型號 ┆ SEAL      │\n",
       "│ ---        ┆ ---      ┆ ---     ┆ ---        ┆   ┆ ---        ┆ ---      ┆ ---       ┆ Phase     │\n",
       "│ str        ┆ str      ┆ str     ┆ str        ┆   ┆ str        ┆ str      ┆ str       ┆ ---       │\n",
       "│            ┆          ┆         ┆            ┆   ┆            ┆          ┆           ┆ str       │\n",
       "╞════════════╪══════════╪═════════╪════════════╪═══╪════════════╪══════════╪═══════════╪═══════════╡\n",
       "│ MGD_000001 ┆ null     ┆ AA_OEM  ┆ NONE(無製  ┆ … ┆ NONE(無製  ┆ RELEASED ┆ NONE(無製 ┆ RELEASED  │\n",
       "│            ┆          ┆         ┆ 程)        ┆   ┆ 程)        ┆          ┆ 程)       ┆           │\n",
       "│ MGD_000024 ┆ null     ┆ NB      ┆ SE-6414    ┆ … ┆ ZCM-5522XX ┆ RELEASED ┆ W/R       ┆ RELEASED  │\n",
       "│            ┆          ┆         ┆            ┆   ┆            ┆          ┆ 723K1M    ┆           │\n",
       "│ MGD_000054 ┆ null     ┆ Medical ┆ SE-6414    ┆ … ┆ LCT-09-106 ┆ RELEASED ┆ W/R       ┆ RELEASED  │\n",
       "│            ┆          ┆         ┆            ┆   ┆ 0          ┆          ┆ 723K1M    ┆           │\n",
       "│ MGD_000066 ┆ null     ┆ NB      ┆ SE-6414    ┆ … ┆ LCT-11-259 ┆ RELEASED ┆ W/R       ┆ RELEASED  │\n",
       "│            ┆          ┆         ┆            ┆   ┆ 6          ┆          ┆ 723K1M    ┆           │\n",
       "│ MGD_000071 ┆ null     ┆ CE      ┆ SE-5811    ┆ … ┆ LCT-11-362 ┆ RELEASED ┆ S-WH18    ┆ RELEASED  │\n",
       "│ …          ┆ …        ┆ …       ┆ …          ┆ … ┆ …          ┆ …        ┆ …         ┆ …         │\n",
       "│ MGD_001293 ┆ LCD-T2   ┆ NB      ┆ AL7171     ┆ … ┆ ZCM-5522XX ┆ RELEASED ┆ W/R       ┆ RELEASED  │\n",
       "│            ┆          ┆         ┆            ┆   ┆            ┆          ┆ 723K1M    ┆           │\n",
       "│ MGD_001294 ┆ LCD-T2   ┆ NB      ┆ AL7171     ┆ … ┆ ZCM-5522XX ┆ RELEASED ┆ S-WB141(3 ┆ RELEASED  │\n",
       "│            ┆          ┆         ┆            ┆   ┆            ┆          ┆ 18B)      ┆           │\n",
       "│ MGD_001298 ┆ LCD-T6   ┆ NB      ┆ NRB-U238(5 ┆ … ┆ LCT-13-138 ┆ RELEASED ┆ S-WB141(3 ┆ RELEASED  │\n",
       "│            ┆          ┆         ┆ 521)_RB005 ┆   ┆ 6          ┆          ┆ 18B)      ┆           │\n",
       "│ MGD_001299 ┆ LCD-T6   ┆ NB      ┆ NRB-U973(0 ┆ … ┆ LCT-17-941 ┆ RELEASED ┆ S-WB141(3 ┆ RELEASED  │\n",
       "│            ┆          ┆         ┆ 625)_RB024 ┆   ┆            ┆          ┆ 18B)      ┆           │\n",
       "│ MGD_001302 ┆ LCD-03   ┆ NB      ┆ SE-6414    ┆ … ┆ ZCM-5571XX ┆ RELEASED ┆ W/R       ┆ RELEASED  │\n",
       "│            ┆          ┆         ┆            ┆   ┆            ┆          ┆ 723K1M    ┆           │\n",
       "└────────────┴──────────┴─────────┴────────────┴───┴────────────┴──────────┴───────────┴───────────┘"
      ]
     },
     "execution_count": 47,
     "metadata": {},
     "output_type": "execute_result"
    }
   ],
   "source": [
    "(\n",
    "    mgd_db.filter(\n",
    "        # pl.col(\"資料名稱\") == 'LCT-15-1098',\n",
    "        # pl.col(\"搭配資料ID\").is_in([\"MGD_000434\", \"MGD_000737\", \"MGD_000863\"])\n",
    "        # pl.col(\"FAB\").is_not_null(),\n",
    "    )\n",
    "    .select(\n",
    "        \"搭配資料ID\",\n",
    "        \"FAB\",\n",
    "        \"APPLICATION\",\n",
    "        \"項目ID\",\n",
    "        \"項目名稱\",\n",
    "        \"項目資料ID\",\n",
    "        \"資料名稱\",\n",
    "    )\n",
    "    .pivot(\n",
    "        index=[\"搭配資料ID\", \"FAB\", \"APPLICATION\"],\n",
    "        on=[\"項目名稱\"],\n",
    "        values=\"資料名稱\",\n",
    "        aggregate_function=\"first\"\n",
    "    )\n",
    "    .with_columns(\n",
    "        pl.lit(\"RELEASED\").alias(\"PI Phase\"),\n",
    "        pl.lit(\"RELEASED\").alias(\"LC Phase\"),\n",
    "        pl.lit(\"RELEASED\").alias(\"SEAL Phase\"),\n",
    "    )\n",
    "    .select(\n",
    "        \"搭配資料ID\",\n",
    "        pl.col(\"FAB\").alias(\"使用廠區\"),\n",
    "        pl.col(\"APPLICATION\").alias(\"應用別\"),\n",
    "        \"PI 型號\",\n",
    "        \"PI Phase\",\n",
    "        \"LC 型號\",\n",
    "        \"LC Phase\",\n",
    "        \"SEAL 型號\",\n",
    "        \"SEAL Phase\",\n",
    "    )\n",
    ")"
   ]
  },
  {
   "cell_type": "code",
   "execution_count": 41,
   "metadata": {},
   "outputs": [
    {
     "data": {
      "text/html": [
       "<div><style>\n",
       ".dataframe > thead > tr,\n",
       ".dataframe > tbody > tr {\n",
       "  text-align: right;\n",
       "  white-space: pre-wrap;\n",
       "}\n",
       "</style>\n",
       "<small>shape: (1, 19)</small><table border=\"1\" class=\"dataframe\"><thead><tr><th>COMBOID</th><th>STATE_KEY</th><th>MASKID</th><th>MODELNAME</th><th>ITEMS_PHASE_KEY</th><th>APPLICATION</th><th>CF_FAB</th><th>LCD_FAB</th><th>LC_MODE</th><th>ITM_000061_DATA</th><th>ITM_000061_PHASE</th><th>ITM_000064_DATA</th><th>ITM_000064_PHASE</th><th>ITM_000050_DATA</th><th>ITM_000050_PHASE</th><th>ITM_000071_DATA</th><th>ITM_000071_PHASE</th><th>ITM_000062_DATA</th><th>ITM_000062_PHASE</th></tr><tr><td>str</td><td>str</td><td>str</td><td>str</td><td>str</td><td>str</td><td>str</td><td>str</td><td>str</td><td>str</td><td>str</td><td>str</td><td>str</td><td>str</td><td>str</td><td>str</td><td>str</td><td>str</td><td>str</td></tr></thead><tbody><tr><td>&quot;COMBOID&quot;</td><td>&quot;STATE_KEY&quot;</td><td>&quot;MASKID&quot;</td><td>&quot;MODELNAME&quot;</td><td>&quot;Overall_Phase&quot;</td><td>&quot;APPLICATION&quot;</td><td>&quot;CF_FAB&quot;</td><td>&quot;LCD_FAB&quot;</td><td>&quot;LC_MODE&quot;</td><td>&quot;PI型號&quot;</td><td>&quot;PI_Phase&quot;</td><td>&quot;LC型號&quot;</td><td>&quot;LC_Phase&quot;</td><td>&quot;OC型號&quot;</td><td>&quot;OC_Phase&quot;</td><td>&quot;SEAL型號&quot;</td><td>&quot;SEAL_Phase&quot;</td><td>&quot;RubCloth型號&quot;</td><td>&quot;RubCloth_Phase&quot;</td></tr></tbody></table></div>"
      ],
      "text/plain": [
       "shape: (1, 19)\n",
       "┌─────────┬───────────┬────────┬───────────┬───┬────────────┬────────────┬────────────┬────────────┐\n",
       "│ COMBOID ┆ STATE_KEY ┆ MASKID ┆ MODELNAME ┆ … ┆ ITM_000071 ┆ ITM_000071 ┆ ITM_000062 ┆ ITM_000062 │\n",
       "│ ---     ┆ ---       ┆ ---    ┆ ---       ┆   ┆ _DATA      ┆ _PHASE     ┆ _DATA      ┆ _PHASE     │\n",
       "│ str     ┆ str       ┆ str    ┆ str       ┆   ┆ ---        ┆ ---        ┆ ---        ┆ ---        │\n",
       "│         ┆           ┆        ┆           ┆   ┆ str        ┆ str        ┆ str        ┆ str        │\n",
       "╞═════════╪═══════════╪════════╪═══════════╪═══╪════════════╪════════════╪════════════╪════════════╡\n",
       "│ COMBOID ┆ STATE_KEY ┆ MASKID ┆ MODELNAME ┆ … ┆ SEAL型號   ┆ SEAL_Phase ┆ RubCloth型 ┆ RubCloth_P │\n",
       "│         ┆           ┆        ┆           ┆   ┆            ┆            ┆ 號         ┆ hase       │\n",
       "└─────────┴───────────┴────────┴───────────┴───┴────────────┴────────────┴────────────┴────────────┘"
      ]
     },
     "execution_count": 41,
     "metadata": {},
     "output_type": "execute_result"
    }
   ],
   "source": [
    "combo_db.head(1)"
   ]
  },
  {
   "cell_type": "markdown",
   "metadata": {},
   "source": [
    "## 資料組合的問題\n",
    "\n",
    "原本是想將量產的由 MGD 來，OC 由 combo 來補；但要由 combo 補的前提就是要核對 應用別, PI, LC, SEAL 是否一致；\n",
    "如此的話所有資料由 combo 來是否即可？"
   ]
  },
  {
   "cell_type": "code",
   "execution_count": 63,
   "metadata": {},
   "outputs": [
    {
     "data": {
      "text/html": [
       "<div><style>\n",
       ".dataframe > thead > tr,\n",
       ".dataframe > tbody > tr {\n",
       "  text-align: right;\n",
       "  white-space: pre-wrap;\n",
       "}\n",
       "</style>\n",
       "<small>shape: (13, 9)</small><table border=\"1\" class=\"dataframe\"><thead><tr><th>使用廠區</th><th>應用別</th><th>LC 型號</th><th>Vop</th><th>Tni</th><th>Tcn</th><th>Cell Gap</th><th>RT</th><th>GTG</th></tr><tr><td>str</td><td>str</td><td>str</td><td>f64</td><td>f64</td><td>i64</td><td>f64</td><td>f64</td><td>f64</td></tr></thead><tbody><tr><td>&quot;LCD-03&quot;</td><td>&quot;NB&quot;</td><td>&quot;LCT-15-1098&quot;</td><td>5.5</td><td>85.1</td><td>-30</td><td>2.85</td><td>25.0</td><td>null</td></tr><tr><td>&quot;LCD-05&quot;</td><td>&quot;NB&quot;</td><td>&quot;LCT-15-1098&quot;</td><td>5.0</td><td>85.1</td><td>-30</td><td>3.1</td><td>25.0</td><td>null</td></tr><tr><td>&quot;LCD-05&quot;</td><td>&quot;MP&quot;</td><td>&quot;LCT-15-1098&quot;</td><td>5.5</td><td>85.1</td><td>-30</td><td>3.1</td><td>25.0</td><td>null</td></tr><tr><td>&quot;LCD-05&quot;</td><td>&quot;Tablet&quot;</td><td>&quot;LCT-15-1098&quot;</td><td>5.5</td><td>85.1</td><td>-30</td><td>3.1</td><td>25.0</td><td>null</td></tr><tr><td>&quot;LCD-T1&quot;</td><td>&quot;Tablet&quot;</td><td>&quot;LCT-15-1098&quot;</td><td>5.5</td><td>85.1</td><td>-30</td><td>3.1</td><td>25.0</td><td>null</td></tr><tr><td>&hellip;</td><td>&hellip;</td><td>&hellip;</td><td>&hellip;</td><td>&hellip;</td><td>&hellip;</td><td>&hellip;</td><td>&hellip;</td><td>&hellip;</td></tr><tr><td>&quot;LCD-T2&quot;</td><td>&quot;Tablet&quot;</td><td>&quot;LCT-15-1098&quot;</td><td>5.5</td><td>85.1</td><td>-30</td><td>3.1</td><td>25.0</td><td>null</td></tr><tr><td>&quot;LCD-T2&quot;</td><td>&quot;MP&quot;</td><td>&quot;LCT-15-1098&quot;</td><td>5.5</td><td>85.1</td><td>-30</td><td>3.1</td><td>25.0</td><td>null</td></tr><tr><td>&quot;LCD-T3&quot;</td><td>&quot;MP&quot;</td><td>&quot;LCT-15-1098&quot;</td><td>5.5</td><td>85.1</td><td>-30</td><td>3.1</td><td>25.0</td><td>null</td></tr><tr><td>&quot;LCD-T3&quot;</td><td>&quot;CE&quot;</td><td>&quot;LCT-15-1098&quot;</td><td>5.5</td><td>85.1</td><td>-30</td><td>3.1</td><td>25.0</td><td>null</td></tr><tr><td>&quot;LCD-T3&quot;</td><td>&quot;Tablet&quot;</td><td>&quot;LCT-15-1098&quot;</td><td>5.5</td><td>85.1</td><td>-30</td><td>3.1</td><td>25.0</td><td>null</td></tr></tbody></table></div>"
      ],
      "text/plain": [
       "shape: (13, 9)\n",
       "┌──────────┬────────┬─────────────┬─────┬───┬─────┬──────────┬──────┬──────┐\n",
       "│ 使用廠區 ┆ 應用別 ┆ LC 型號     ┆ Vop ┆ … ┆ Tcn ┆ Cell Gap ┆ RT   ┆ GTG  │\n",
       "│ ---      ┆ ---    ┆ ---         ┆ --- ┆   ┆ --- ┆ ---      ┆ ---  ┆ ---  │\n",
       "│ str      ┆ str    ┆ str         ┆ f64 ┆   ┆ i64 ┆ f64      ┆ f64  ┆ f64  │\n",
       "╞══════════╪════════╪═════════════╪═════╪═══╪═════╪══════════╪══════╪══════╡\n",
       "│ LCD-03   ┆ NB     ┆ LCT-15-1098 ┆ 5.5 ┆ … ┆ -30 ┆ 2.85     ┆ 25.0 ┆ null │\n",
       "│ LCD-05   ┆ NB     ┆ LCT-15-1098 ┆ 5.0 ┆ … ┆ -30 ┆ 3.1      ┆ 25.0 ┆ null │\n",
       "│ LCD-05   ┆ MP     ┆ LCT-15-1098 ┆ 5.5 ┆ … ┆ -30 ┆ 3.1      ┆ 25.0 ┆ null │\n",
       "│ LCD-05   ┆ Tablet ┆ LCT-15-1098 ┆ 5.5 ┆ … ┆ -30 ┆ 3.1      ┆ 25.0 ┆ null │\n",
       "│ LCD-T1   ┆ Tablet ┆ LCT-15-1098 ┆ 5.5 ┆ … ┆ -30 ┆ 3.1      ┆ 25.0 ┆ null │\n",
       "│ …        ┆ …      ┆ …           ┆ …   ┆ … ┆ …   ┆ …        ┆ …    ┆ …    │\n",
       "│ LCD-T2   ┆ Tablet ┆ LCT-15-1098 ┆ 5.5 ┆ … ┆ -30 ┆ 3.1      ┆ 25.0 ┆ null │\n",
       "│ LCD-T2   ┆ MP     ┆ LCT-15-1098 ┆ 5.5 ┆ … ┆ -30 ┆ 3.1      ┆ 25.0 ┆ null │\n",
       "│ LCD-T3   ┆ MP     ┆ LCT-15-1098 ┆ 5.5 ┆ … ┆ -30 ┆ 3.1      ┆ 25.0 ┆ null │\n",
       "│ LCD-T3   ┆ CE     ┆ LCT-15-1098 ┆ 5.5 ┆ … ┆ -30 ┆ 3.1      ┆ 25.0 ┆ null │\n",
       "│ LCD-T3   ┆ Tablet ┆ LCT-15-1098 ┆ 5.5 ┆ … ┆ -30 ┆ 3.1      ┆ 25.0 ┆ null │\n",
       "└──────────┴────────┴─────────────┴─────┴───┴─────┴──────────┴──────┴──────┘"
      ]
     },
     "execution_count": 63,
     "metadata": {},
     "output_type": "execute_result"
    }
   ],
   "source": [
    "(\n",
    "    isd_attribute_db\n",
    "    .select(\n",
    "        pl.col(\"廠別\").alias(\"使用廠區\"),\n",
    "        pl.col(\"APPLICATION\").alias(\"應用別\"),\n",
    "        pl.col(\"資料名稱\").alias(\"LC 型號\"),\n",
    "        pl.col(\"VOP_V\").alias(\"Vop\"),\n",
    "        pl.col(\"TNI_C\").alias(\"Tni\"),\n",
    "        pl.col(\"LTS_C\").alias(\"Tcn\"),\n",
    "        pl.col(\"CELL_GAP\").alias(\"Cell Gap\"),\n",
    "        pl.col(\"RT_MS\").alias(\"RT\"),\n",
    "        pl.when(pl.col(\"GTG_RT\") == 0).then(None).otherwise(pl.col(\"GTG_RT\"))\n",
    "        .alias(\"GTG\"),\n",
    "    )\n",
    "    .filter(\n",
    "        pl.col(\"LC 型號\") == 'LCT-15-1098',\n",
    "    )\n",
    ")\n"
   ]
  },
  {
   "cell_type": "code",
   "execution_count": 75,
   "metadata": {},
   "outputs": [
    {
     "data": {
      "text/plain": [
       "<xlsxwriter.workbook.Workbook at 0x292a44a9950>"
      ]
     },
     "execution_count": 75,
     "metadata": {},
     "output_type": "execute_result"
    }
   ],
   "source": [
    "(\n",
    "    combo_db\n",
    "    .select(\n",
    "        # \"COMBOID\",\n",
    "        pl.col(\"LCD_FAB\").alias(\"使用廠區\"),\n",
    "        pl.col(\"LC_MODE\").alias(\"LC Mode\"),\n",
    "        pl.col(\"APPLICATION\").alias(\"應用別\"),\n",
    "        pl.col(\"ITM_000050_DATA\").alias(\"OC 型號\"),\n",
    "        pl.col(\"ITM_000050_PHASE\").alias(\"OC Phase\"),\n",
    "        pl.col(\"ITM_000061_DATA\").alias(\"PI 型號\"),\n",
    "        pl.col(\"ITM_000061_PHASE\").alias(\"PI Phase\"),\n",
    "        pl.col(\"ITM_000064_DATA\").alias(\"LC 型號\"),\n",
    "        pl.col(\"ITM_000064_PHASE\").alias(\"LC Phase\"),\n",
    "        pl.col(\"ITM_000071_DATA\").alias(\"SEAL 型號\"),\n",
    "        pl.col(\"ITM_000071_PHASE\").alias(\"SEAL Phase\"),\n",
    "    )\n",
    "    .unique(maintain_order=True)\n",
    "    .join(\n",
    "        isd_attribute_db\n",
    "        .select(\n",
    "            pl.col(\"廠別\").alias(\"使用廠區\"),\n",
    "            pl.col(\"APPLICATION\").alias(\"應用別\"),\n",
    "            pl.col(\"正負型液晶\").alias(\"Type (pLC/nLC)\"),\n",
    "            pl.col(\"資料名稱\").alias(\"LC 型號\"),\n",
    "            pl.col(\"VOP_V\").alias(\"Vop\"),\n",
    "            pl.col(\"TNI_C\").alias(\"Tni\"),\n",
    "            pl.col(\"LTS_C\").alias(\"Tcn\"),\n",
    "            pl.col(\"CELL_GAP\").alias(\"Cell Gap\"),\n",
    "            pl.col(\"RT_MS\").alias(\"RT\"),\n",
    "            pl.when(pl.col(\"GTG_RT\") == 0).then(None).otherwise(pl.col(\"GTG_RT\"))\n",
    "            .alias(\"GTG\"),\n",
    "        ),\n",
    "        on=['使用廠區', '應用別', 'LC 型號'],\n",
    "    )\n",
    "    .select(\n",
    "        \"使用廠區\",\n",
    "        \"LC Mode\",\n",
    "        \"應用別\",\n",
    "        \"Type (pLC/nLC)\",\n",
    "        \"OC 型號\",\n",
    "        \"OC Phase\",\n",
    "        \"PI 型號\",\n",
    "        \"PI Phase\",\n",
    "        \"LC 型號\",\n",
    "        \"LC Phase\",\n",
    "        \"SEAL 型號\",\n",
    "        \"SEAL Phase\",\n",
    "        \"Vop\",\n",
    "        \"Tni\",\n",
    "        \"Tcn\",\n",
    "        \"Cell Gap\",\n",
    "        \"RT\",\n",
    "        \"GTG\",\n",
    "    )\n",
    ").write_excel('demo_20250918.xlsx')"
   ]
  },
  {
   "cell_type": "code",
   "execution_count": 74,
   "metadata": {},
   "outputs": [
    {
     "data": {
      "text/html": [
       "<div><style>\n",
       ".dataframe > thead > tr,\n",
       ".dataframe > tbody > tr {\n",
       "  text-align: right;\n",
       "  white-space: pre-wrap;\n",
       "}\n",
       "</style>\n",
       "<small>shape: (322, 18)</small><table border=\"1\" class=\"dataframe\"><thead><tr><th>使用廠區</th><th>LC Mode</th><th>應用別</th><th>Type (pLC/nLC)</th><th>OC 型號</th><th>OC Phase</th><th>PI 型號</th><th>PI Phase</th><th>LC 型號</th><th>LC Phase</th><th>SEAL 型號</th><th>SEAL Phase</th><th>Vop</th><th>Tni</th><th>Tcn</th><th>Cell Gap</th><th>RT</th><th>GTG</th></tr><tr><td>str</td><td>str</td><td>str</td><td>str</td><td>str</td><td>str</td><td>str</td><td>str</td><td>str</td><td>str</td><td>str</td><td>str</td><td>f64</td><td>f64</td><td>i64</td><td>f64</td><td>f64</td><td>f64</td></tr></thead><tbody><tr><td>&quot;LCD-07&quot;</td><td>&quot;NPVA&quot;</td><td>&quot;TV&quot;</td><td>&quot;nLC&quot;</td><td>&quot;NOT_USE&quot;</td><td>&quot;RELEASED&quot;</td><td>&quot;AL65308-R1&quot;</td><td>&quot;RELEASED&quot;</td><td>&quot;LCT-12-1667&quot;</td><td>&quot;RELEASED&quot;</td><td>&quot;W/R 723K1M&quot;</td><td>&quot;RELEASED&quot;</td><td>8.0</td><td>75.2</td><td>-20</td><td>3.5</td><td>16.0</td><td>9.0</td></tr><tr><td>&quot;LCD-07&quot;</td><td>&quot;NPVA&quot;</td><td>&quot;TV&quot;</td><td>&quot;nLC&quot;</td><td>&quot;NOT_USE&quot;</td><td>&quot;RELEASED&quot;</td><td>&quot;AL67001&quot;</td><td>&quot;RELEASED&quot;</td><td>&quot;LCT-12-1667&quot;</td><td>&quot;RELEASED&quot;</td><td>&quot;W/R 723K1M&quot;</td><td>&quot;RELEASED&quot;</td><td>8.0</td><td>75.2</td><td>-20</td><td>3.5</td><td>16.0</td><td>9.0</td></tr><tr><td>&quot;LCD-8B&quot;</td><td>&quot;NPVA&quot;</td><td>&quot;TV&quot;</td><td>&quot;nLC&quot;</td><td>&quot;NOT_USE&quot;</td><td>&quot;RELEASED&quot;</td><td>&quot;AL67105&quot;</td><td>&quot;RELEASED&quot;</td><td>&quot;LCT-12-1667&quot;</td><td>&quot;RELEASED&quot;</td><td>&quot;W/R 723K1M&quot;</td><td>&quot;RELEASED&quot;</td><td>8.0</td><td>75.2</td><td>-20</td><td>3.5</td><td>16.0</td><td>9.0</td></tr><tr><td>&quot;LCD-04&quot;</td><td>&quot;PA_AAS&quot;</td><td>&quot;MNT&quot;</td><td>&quot;pLC&quot;</td><td>&quot;SS3727-R24SLBQ&quot;</td><td>&quot;RELEASED&quot;</td><td>&quot;NRB-W185(068A)_RB089&quot;</td><td>&quot;TR3&quot;</td><td>&quot;BHR92800&quot;</td><td>&quot;RELEASED&quot;</td><td>&quot;W/R 723K1M&quot;</td><td>&quot;RELEASED&quot;</td><td>6.0</td><td>73.9</td><td>-20</td><td>3.2</td><td>14.0</td><td>null</td></tr><tr><td>&quot;LCD-04&quot;</td><td>&quot;AAS&quot;</td><td>&quot;MNT&quot;</td><td>&quot;pLC&quot;</td><td>&quot;SS3727-R24SLB&quot;</td><td>&quot;RELEASED&quot;</td><td>&quot;SE-6414&quot;</td><td>&quot;RELEASED&quot;</td><td>&quot;BHR92800&quot;</td><td>&quot;RELEASED&quot;</td><td>&quot;W/R 723K1M&quot;</td><td>&quot;RELEASED&quot;</td><td>6.0</td><td>73.9</td><td>-20</td><td>3.2</td><td>14.0</td><td>null</td></tr><tr><td>&hellip;</td><td>&hellip;</td><td>&hellip;</td><td>&hellip;</td><td>&hellip;</td><td>&hellip;</td><td>&hellip;</td><td>&hellip;</td><td>&hellip;</td><td>&hellip;</td><td>&hellip;</td><td>&hellip;</td><td>&hellip;</td><td>&hellip;</td><td>&hellip;</td><td>&hellip;</td><td>&hellip;</td><td>&hellip;</td></tr><tr><td>&quot;LCD-T1&quot;</td><td>&quot;PA_AAS&quot;</td><td>&quot;NB&quot;</td><td>&quot;nLC&quot;</td><td>&quot;TG2269-SA2&quot;</td><td>&quot;TR3&quot;</td><td>&quot;AL7171&quot;</td><td>&quot;TR3&quot;</td><td>&quot;ZIX-7061XX&quot;</td><td>&quot;TR3&quot;</td><td>&quot;S-WB141(318B)&quot;</td><td>&quot;TR3&quot;</td><td>6.0</td><td>75.0</td><td>-20</td><td>3.3</td><td>25.0</td><td>22.0</td></tr><tr><td>&quot;LCD-03&quot;</td><td>&quot;AAS&quot;</td><td>&quot;NB&quot;</td><td>&quot;pLC&quot;</td><td>&quot;NOT_USE&quot;</td><td>&quot;RELEASED&quot;</td><td>&quot;SE-6414&quot;</td><td>&quot;RELEASED&quot;</td><td>&quot;ZCM-5617XX&quot;</td><td>&quot;TR3&quot;</td><td>&quot;W/R 723K1M&quot;</td><td>&quot;RELEASED&quot;</td><td>10.0</td><td>116.0</td><td>-20</td><td>5.0</td><td>30.0</td><td>null</td></tr><tr><td>&quot;LCD-03&quot;</td><td>&quot;AAS&quot;</td><td>&quot;IA&quot;</td><td>&quot;pLC&quot;</td><td>&quot;SS3727-R24SLBQ&quot;</td><td>&quot;RELEASED&quot;</td><td>&quot;SE-6414&quot;</td><td>&quot;RELEASED&quot;</td><td>&quot;ZCM-5581XX&quot;</td><td>&quot;TR4&quot;</td><td>&quot;W/R 723K1M&quot;</td><td>&quot;RELEASED&quot;</td><td>6.0</td><td>100.0</td><td>-40</td><td>3.2</td><td>25.0</td><td>null</td></tr><tr><td>&quot;LCD-8A&quot;</td><td>&quot;PA_AAS&quot;</td><td>&quot;MNT&quot;</td><td>&quot;pLC&quot;</td><td>&quot;SS3727-R24SLBQ&quot;</td><td>&quot;RELEASED&quot;</td><td>&quot;AL7173-R1&quot;</td><td>&quot;TR3&quot;</td><td>&quot;BQA25069&quot;</td><td>&quot;TR3&quot;</td><td>&quot;S-WB141(318B)&quot;</td><td>&quot;RELEASED&quot;</td><td>7.0</td><td>113.8</td><td>-20</td><td>3.4</td><td>18.0</td><td>14.0</td></tr><tr><td>&quot;LCD-05&quot;</td><td>&quot;PA_AAS&quot;</td><td>&quot;Medical&quot;</td><td>&quot;nLC&quot;</td><td>&quot;TG2269-SA2&quot;</td><td>&quot;TR3&quot;</td><td>&quot;AL7171&quot;</td><td>&quot;TR3&quot;</td><td>&quot;ZCM-7268XX&quot;</td><td>&quot;TR3&quot;</td><td>&quot;W/R 723K1M&quot;</td><td>&quot;RELEASED&quot;</td><td>8.3</td><td>119.4</td><td>-20</td><td>3.4</td><td>25.0</td><td>null</td></tr></tbody></table></div>"
      ],
      "text/plain": [
       "shape: (322, 18)\n",
       "┌──────────┬─────────┬─────────┬────────────────┬───┬─────┬──────────┬──────┬──────┐\n",
       "│ 使用廠區 ┆ LC Mode ┆ 應用別  ┆ Type (pLC/nLC) ┆ … ┆ Tcn ┆ Cell Gap ┆ RT   ┆ GTG  │\n",
       "│ ---      ┆ ---     ┆ ---     ┆ ---            ┆   ┆ --- ┆ ---      ┆ ---  ┆ ---  │\n",
       "│ str      ┆ str     ┆ str     ┆ str            ┆   ┆ i64 ┆ f64      ┆ f64  ┆ f64  │\n",
       "╞══════════╪═════════╪═════════╪════════════════╪═══╪═════╪══════════╪══════╪══════╡\n",
       "│ LCD-07   ┆ NPVA    ┆ TV      ┆ nLC            ┆ … ┆ -20 ┆ 3.5      ┆ 16.0 ┆ 9.0  │\n",
       "│ LCD-07   ┆ NPVA    ┆ TV      ┆ nLC            ┆ … ┆ -20 ┆ 3.5      ┆ 16.0 ┆ 9.0  │\n",
       "│ LCD-8B   ┆ NPVA    ┆ TV      ┆ nLC            ┆ … ┆ -20 ┆ 3.5      ┆ 16.0 ┆ 9.0  │\n",
       "│ LCD-04   ┆ PA_AAS  ┆ MNT     ┆ pLC            ┆ … ┆ -20 ┆ 3.2      ┆ 14.0 ┆ null │\n",
       "│ LCD-04   ┆ AAS     ┆ MNT     ┆ pLC            ┆ … ┆ -20 ┆ 3.2      ┆ 14.0 ┆ null │\n",
       "│ …        ┆ …       ┆ …       ┆ …              ┆ … ┆ …   ┆ …        ┆ …    ┆ …    │\n",
       "│ LCD-T1   ┆ PA_AAS  ┆ NB      ┆ nLC            ┆ … ┆ -20 ┆ 3.3      ┆ 25.0 ┆ 22.0 │\n",
       "│ LCD-03   ┆ AAS     ┆ NB      ┆ pLC            ┆ … ┆ -20 ┆ 5.0      ┆ 30.0 ┆ null │\n",
       "│ LCD-03   ┆ AAS     ┆ IA      ┆ pLC            ┆ … ┆ -40 ┆ 3.2      ┆ 25.0 ┆ null │\n",
       "│ LCD-8A   ┆ PA_AAS  ┆ MNT     ┆ pLC            ┆ … ┆ -20 ┆ 3.4      ┆ 18.0 ┆ 14.0 │\n",
       "│ LCD-05   ┆ PA_AAS  ┆ Medical ┆ nLC            ┆ … ┆ -20 ┆ 3.4      ┆ 25.0 ┆ null │\n",
       "└──────────┴─────────┴─────────┴────────────────┴───┴─────┴──────────┴──────┴──────┘"
      ]
     },
     "execution_count": 74,
     "metadata": {},
     "output_type": "execute_result"
    }
   ],
   "source": [
    "(\n",
    "    combo_db\n",
    "    .select(\n",
    "        # \"COMBOID\",\n",
    "        pl.col(\"LCD_FAB\").alias(\"使用廠區\"),\n",
    "        pl.col(\"LC_MODE\").alias(\"LC Mode\"),\n",
    "        pl.col(\"APPLICATION\").alias(\"應用別\"),\n",
    "        pl.col(\"ITM_000050_DATA\").alias(\"OC 型號\"),\n",
    "        pl.col(\"ITM_000050_PHASE\").alias(\"OC Phase\"),\n",
    "        pl.col(\"ITM_000061_DATA\").alias(\"PI 型號\"),\n",
    "        pl.col(\"ITM_000061_PHASE\").alias(\"PI Phase\"),\n",
    "        pl.col(\"ITM_000064_DATA\").alias(\"LC 型號\"),\n",
    "        pl.col(\"ITM_000064_PHASE\").alias(\"LC Phase\"),\n",
    "        pl.col(\"ITM_000071_DATA\").alias(\"SEAL 型號\"),\n",
    "        pl.col(\"ITM_000071_PHASE\").alias(\"SEAL Phase\"),\n",
    "    )\n",
    "    .unique(maintain_order=True)\n",
    "    .join(\n",
    "        isd_attribute_db\n",
    "        .select(\n",
    "            pl.col(\"廠別\").alias(\"使用廠區\"),\n",
    "            pl.col(\"APPLICATION\").alias(\"應用別\"),\n",
    "            pl.col(\"正負型液晶\").alias(\"Type (pLC/nLC)\"),\n",
    "            pl.col(\"資料名稱\").alias(\"LC 型號\"),\n",
    "            pl.col(\"VOP_V\").alias(\"Vop\"),\n",
    "            pl.col(\"TNI_C\").alias(\"Tni\"),\n",
    "            pl.col(\"LTS_C\").alias(\"Tcn\"),\n",
    "            pl.col(\"CELL_GAP\").alias(\"Cell Gap\"),\n",
    "            pl.col(\"RT_MS\").alias(\"RT\"),\n",
    "            pl.when(pl.col(\"GTG_RT\") == 0).then(None).otherwise(pl.col(\"GTG_RT\"))\n",
    "            .alias(\"GTG\"),\n",
    "        ),\n",
    "        on=['使用廠區', '應用別', 'LC 型號'],\n",
    "    )\n",
    "    .select(\n",
    "        \"使用廠區\",\n",
    "        \"LC Mode\",\n",
    "        \"應用別\",\n",
    "        \"Type (pLC/nLC)\",\n",
    "        \"OC 型號\",\n",
    "        \"OC Phase\",\n",
    "        \"PI 型號\",\n",
    "        \"PI Phase\",\n",
    "        \"LC 型號\",\n",
    "        \"LC Phase\",\n",
    "        \"SEAL 型號\",\n",
    "        \"SEAL Phase\",\n",
    "        \"Vop\",\n",
    "        \"Tni\",\n",
    "        \"Tcn\",\n",
    "        \"Cell Gap\",\n",
    "        \"RT\",\n",
    "        \"GTG\",\n",
    "    )\n",
    ")"
   ]
  },
  {
   "cell_type": "code",
   "execution_count": 73,
   "metadata": {},
   "outputs": [
    {
     "data": {
      "text/html": [
       "<div><style>\n",
       ".dataframe > thead > tr,\n",
       ".dataframe > tbody > tr {\n",
       "  text-align: right;\n",
       "  white-space: pre-wrap;\n",
       "}\n",
       "</style>\n",
       "<small>shape: (696, 19)</small><table border=\"1\" class=\"dataframe\"><thead><tr><th>COMBOID</th><th>STATE_KEY</th><th>MASKID</th><th>MODELNAME</th><th>ITEMS_PHASE_KEY</th><th>APPLICATION</th><th>CF_FAB</th><th>LCD_FAB</th><th>LC_MODE</th><th>ITM_000061_DATA</th><th>ITM_000061_PHASE</th><th>ITM_000064_DATA</th><th>ITM_000064_PHASE</th><th>ITM_000050_DATA</th><th>ITM_000050_PHASE</th><th>ITM_000071_DATA</th><th>ITM_000071_PHASE</th><th>ITM_000062_DATA</th><th>ITM_000062_PHASE</th></tr><tr><td>str</td><td>str</td><td>str</td><td>str</td><td>str</td><td>str</td><td>str</td><td>str</td><td>str</td><td>str</td><td>str</td><td>str</td><td>str</td><td>str</td><td>str</td><td>str</td><td>str</td><td>str</td><td>str</td></tr></thead><tbody><tr><td>&quot;COMBOID&quot;</td><td>&quot;STATE_KEY&quot;</td><td>&quot;MASKID&quot;</td><td>&quot;MODELNAME&quot;</td><td>&quot;Overall_Phase&quot;</td><td>&quot;APPLICATION&quot;</td><td>&quot;CF_FAB&quot;</td><td>&quot;LCD_FAB&quot;</td><td>&quot;LC_MODE&quot;</td><td>&quot;PI型號&quot;</td><td>&quot;PI_Phase&quot;</td><td>&quot;LC型號&quot;</td><td>&quot;LC_Phase&quot;</td><td>&quot;OC型號&quot;</td><td>&quot;OC_Phase&quot;</td><td>&quot;SEAL型號&quot;</td><td>&quot;SEAL_Phase&quot;</td><td>&quot;RubCloth型號&quot;</td><td>&quot;RubCloth_Phase&quot;</td></tr><tr><td>&quot;2405_00018&quot;</td><td>&quot;FILED&quot;</td><td>&quot;R034&quot;</td><td>&quot;M270HCJ-PDB&quot;</td><td>&quot;TR3&quot;</td><td>&quot;MNT&quot;</td><td>&quot;CF-8A&quot;</td><td>&quot;LCD-8A&quot;</td><td>&quot;AAS&quot;</td><td>&quot;AL7171&quot;</td><td>&quot;TR4&quot;</td><td>&quot;BHR92800&quot;</td><td>&quot;RELEASED&quot;</td><td>&quot;SS3727-R24SLBQ&quot;</td><td>&quot;RELEASED&quot;</td><td>&quot;S-WB141(318B)&quot;</td><td>&quot;RELEASED&quot;</td><td>&quot;NOT_USE&quot;</td><td>&quot;RELEASED&quot;</td></tr><tr><td>&quot;2305_00001&quot;</td><td>&quot;FILED&quot;</td><td>&quot;N819 AL7171&quot;</td><td>&quot;M238KCA-L8B&quot;</td><td>&quot;TR3&quot;</td><td>&quot;MNT&quot;</td><td>&quot;CF-8A&quot;</td><td>&quot;LCD-8A&quot;</td><td>&quot;PA_AAS&quot;</td><td>&quot;AL7171&quot;</td><td>&quot;TR4&quot;</td><td>&quot;BHR92800&quot;</td><td>&quot;RELEASED&quot;</td><td>&quot;SS3727-R24SLBQ&quot;</td><td>&quot;RELEASED&quot;</td><td>&quot;W/R 723K1M&quot;</td><td>&quot;RELEASED&quot;</td><td>&quot;NOT_USE&quot;</td><td>&quot;RELEASED&quot;</td></tr><tr><td>&quot;2001_00003&quot;</td><td>&quot;FILED&quot;</td><td>&quot;R011&quot;</td><td>&quot;M270KCJ-L5B&quot;</td><td>&quot;TR3&quot;</td><td>&quot;MNT&quot;</td><td>&quot;CF-T2&quot;</td><td>&quot;LCD-T2&quot;</td><td>&quot;PA_IPS&quot;</td><td>&quot;NRB-W185(068A)_RB089&quot;</td><td>&quot;TR3&quot;</td><td>&quot;BHR92800&quot;</td><td>&quot;RELEASED&quot;</td><td>&quot;SS3727-R24SLB&quot;</td><td>&quot;RELEASED&quot;</td><td>&quot;W/R 723K1M&quot;</td><td>&quot;RELEASED&quot;</td><td>&quot;NOT_USE&quot;</td><td>&quot;RELEASED&quot;</td></tr><tr><td>&quot;2106_00002&quot;</td><td>&quot;FILED&quot;</td><td>&quot;N817&quot;</td><td>&quot;M238HCA-LCZ&quot;</td><td>&quot;TR3&quot;</td><td>&quot;MNT&quot;</td><td>&quot;CF-8A&quot;</td><td>&quot;LCD-8A&quot;</td><td>&quot;PA_AAS&quot;</td><td>&quot;NRB-W185(068A)_RB089&quot;</td><td>&quot;RELEASED&quot;</td><td>&quot;BHR92800&quot;</td><td>&quot;RELEASED&quot;</td><td>&quot;SS3727-R24SLBQ&quot;</td><td>&quot;RELEASED&quot;</td><td>&quot;W/R 723K1M&quot;</td><td>&quot;RELEASED&quot;</td><td>&quot;NOT_USE&quot;</td><td>&quot;RELEASED&quot;</td></tr><tr><td>&hellip;</td><td>&hellip;</td><td>&hellip;</td><td>&hellip;</td><td>&hellip;</td><td>&hellip;</td><td>&hellip;</td><td>&hellip;</td><td>&hellip;</td><td>&hellip;</td><td>&hellip;</td><td>&hellip;</td><td>&hellip;</td><td>&hellip;</td><td>&hellip;</td><td>&hellip;</td><td>&hellip;</td><td>&hellip;</td><td>&hellip;</td></tr><tr><td>&quot;2308_00005&quot;</td><td>&quot;FILED&quot;</td><td>&quot;5050&quot;</td><td>&quot;AE050ND-01B&quot;</td><td>&quot;TR3&quot;</td><td>&quot;Avionics&quot;</td><td>&quot;CF-T3&quot;</td><td>&quot;LCD-T3&quot;</td><td>&quot;TN&quot;</td><td>&quot;SE-7492H&quot;</td><td>&quot;RELEASED&quot;</td><td>&quot;ZTO-5074LA&quot;</td><td>&quot;RELEASED&quot;</td><td>&quot;NOT_USE&quot;</td><td>&quot;RELEASED&quot;</td><td>&quot;W/R 723K1M&quot;</td><td>&quot;TR3&quot;</td><td>&quot;MK-0012&quot;</td><td>&quot;RELEASED&quot;</td></tr><tr><td>&quot;2206_00015&quot;</td><td>&quot;FILED&quot;</td><td>&quot;1612&quot;</td><td>&quot;WZ016AA-01C&quot;</td><td>&quot;TR3&quot;</td><td>&quot;CE&quot;</td><td>&quot;CF-T3&quot;</td><td>&quot;LCD-T3&quot;</td><td>&quot;ECB&quot;</td><td>&quot;SE-7492H&quot;</td><td>&quot;RELEASED&quot;</td><td>&quot;ZTO-5197LA&quot;</td><td>&quot;RELEASED&quot;</td><td>&quot;NOT_USE&quot;</td><td>&quot;RELEASED&quot;</td><td>&quot;W/R 723K1M&quot;</td><td>&quot;RELEASED&quot;</td><td>&quot;MK-0012&quot;</td><td>&quot;RELEASED&quot;</td></tr><tr><td>&quot;2112_00004&quot;</td><td>&quot;FILED&quot;</td><td>&quot;1103&quot;</td><td>&quot;WE011AZ-01B&quot;</td><td>&quot;TR4&quot;</td><td>&quot;CE&quot;</td><td>&quot;CF-T3&quot;</td><td>&quot;LCD-T3&quot;</td><td>&quot;PA_AAS&quot;</td><td>&quot;SE-7492H&quot;</td><td>&quot;RELEASED&quot;</td><td>&quot;ZTO-5197LA&quot;</td><td>&quot;RELEASED&quot;</td><td>&quot;TG2288-SA1&quot;</td><td>&quot;RELEASED&quot;</td><td>&quot;W/R 723K1M&quot;</td><td>&quot;RELEASED&quot;</td><td>&quot;MK-0012&quot;</td><td>&quot;RELEASED&quot;</td></tr><tr><td>&quot;2303_00014&quot;</td><td>&quot;FILED&quot;</td><td>&quot;2033&quot;</td><td>&quot; ZJ020AE-01A &quot;</td><td>&quot;TR3&quot;</td><td>&quot;CE&quot;</td><td>&quot;CF-T3&quot;</td><td>&quot;LCD-T3&quot;</td><td>&quot;ECB&quot;</td><td>&quot;SE-7492H&quot;</td><td>&quot;RELEASED&quot;</td><td>&quot;ZTO-5197LA&quot;</td><td>&quot;RELEASED&quot;</td><td>&quot;TG2288-SA1&quot;</td><td>&quot;RELEASED&quot;</td><td>&quot;W/R 723K1M&quot;</td><td>&quot;RELEASED&quot;</td><td>&quot;MK-0012&quot;</td><td>&quot;RELEASED&quot;</td></tr><tr><td>&quot;2209_00002&quot;</td><td>&quot;FILED&quot;</td><td>&quot;1610&quot;</td><td>&quot;ZT016BC-01A&quot;</td><td>&quot;TR3&quot;</td><td>&quot;CE&quot;</td><td>&quot;CF-T3&quot;</td><td>&quot;LCD-T3&quot;</td><td>&quot;ECB&quot;</td><td>&quot;SE-7492H&quot;</td><td>&quot;RELEASED&quot;</td><td>&quot;ZTO-5200XX&quot;</td><td>&quot;TR3&quot;</td><td>&quot;NOT_USE&quot;</td><td>&quot;RELEASED&quot;</td><td>&quot;W/R 723K1M&quot;</td><td>&quot;RELEASED&quot;</td><td>&quot;MK-0012&quot;</td><td>&quot;RELEASED&quot;</td></tr></tbody></table></div>"
      ],
      "text/plain": [
       "shape: (696, 19)\n",
       "┌───────────┬───────────┬───────────┬───────────┬───┬───────────┬───────────┬───────────┬──────────┐\n",
       "│ COMBOID   ┆ STATE_KEY ┆ MASKID    ┆ MODELNAME ┆ … ┆ ITM_00007 ┆ ITM_00007 ┆ ITM_00006 ┆ ITM_0000 │\n",
       "│ ---       ┆ ---       ┆ ---       ┆ ---       ┆   ┆ 1_DATA    ┆ 1_PHASE   ┆ 2_DATA    ┆ 62_PHASE │\n",
       "│ str       ┆ str       ┆ str       ┆ str       ┆   ┆ ---       ┆ ---       ┆ ---       ┆ ---      │\n",
       "│           ┆           ┆           ┆           ┆   ┆ str       ┆ str       ┆ str       ┆ str      │\n",
       "╞═══════════╪═══════════╪═══════════╪═══════════╪═══╪═══════════╪═══════════╪═══════════╪══════════╡\n",
       "│ COMBOID   ┆ STATE_KEY ┆ MASKID    ┆ MODELNAME ┆ … ┆ SEAL型號  ┆ SEAL_Phas ┆ RubCloth  ┆ RubCloth │\n",
       "│           ┆           ┆           ┆           ┆   ┆           ┆ e         ┆ 型號      ┆ _Phase   │\n",
       "│ 2405_0001 ┆ FILED     ┆ R034      ┆ M270HCJ-P ┆ … ┆ S-WB141(3 ┆ RELEASED  ┆ NOT_USE   ┆ RELEASED │\n",
       "│ 8         ┆           ┆           ┆ DB        ┆   ┆ 18B)      ┆           ┆           ┆          │\n",
       "│ 2305_0000 ┆ FILED     ┆ N819      ┆ M238KCA-L ┆ … ┆ W/R       ┆ RELEASED  ┆ NOT_USE   ┆ RELEASED │\n",
       "│ 1         ┆           ┆ AL7171    ┆ 8B        ┆   ┆ 723K1M    ┆           ┆           ┆          │\n",
       "│ 2001_0000 ┆ FILED     ┆ R011      ┆ M270KCJ-L ┆ … ┆ W/R       ┆ RELEASED  ┆ NOT_USE   ┆ RELEASED │\n",
       "│ 3         ┆           ┆           ┆ 5B        ┆   ┆ 723K1M    ┆           ┆           ┆          │\n",
       "│ 2106_0000 ┆ FILED     ┆ N817      ┆ M238HCA-L ┆ … ┆ W/R       ┆ RELEASED  ┆ NOT_USE   ┆ RELEASED │\n",
       "│ 2         ┆           ┆           ┆ CZ        ┆   ┆ 723K1M    ┆           ┆           ┆          │\n",
       "│ …         ┆ …         ┆ …         ┆ …         ┆ … ┆ …         ┆ …         ┆ …         ┆ …        │\n",
       "│ 2308_0000 ┆ FILED     ┆ 5050      ┆ AE050ND-0 ┆ … ┆ W/R       ┆ TR3       ┆ MK-0012   ┆ RELEASED │\n",
       "│ 5         ┆           ┆           ┆ 1B        ┆   ┆ 723K1M    ┆           ┆           ┆          │\n",
       "│ 2206_0001 ┆ FILED     ┆ 1612      ┆ WZ016AA-0 ┆ … ┆ W/R       ┆ RELEASED  ┆ MK-0012   ┆ RELEASED │\n",
       "│ 5         ┆           ┆           ┆ 1C        ┆   ┆ 723K1M    ┆           ┆           ┆          │\n",
       "│ 2112_0000 ┆ FILED     ┆ 1103      ┆ WE011AZ-0 ┆ … ┆ W/R       ┆ RELEASED  ┆ MK-0012   ┆ RELEASED │\n",
       "│ 4         ┆           ┆           ┆ 1B        ┆   ┆ 723K1M    ┆           ┆           ┆          │\n",
       "│ 2303_0001 ┆ FILED     ┆ 2033      ┆  ZJ020AE- ┆ … ┆ W/R       ┆ RELEASED  ┆ MK-0012   ┆ RELEASED │\n",
       "│ 4         ┆           ┆           ┆ 01A       ┆   ┆ 723K1M    ┆           ┆           ┆          │\n",
       "│ 2209_0000 ┆ FILED     ┆ 1610      ┆ ZT016BC-0 ┆ … ┆ W/R       ┆ RELEASED  ┆ MK-0012   ┆ RELEASED │\n",
       "│ 2         ┆           ┆           ┆ 1A        ┆   ┆ 723K1M    ┆           ┆           ┆          │\n",
       "└───────────┴───────────┴───────────┴───────────┴───┴───────────┴───────────┴───────────┴──────────┘"
      ]
     },
     "execution_count": 73,
     "metadata": {},
     "output_type": "execute_result"
    }
   ],
   "source": [
    "combo_db"
   ]
  }
 ],
 "metadata": {
  "kernelspec": {
   "display_name": "innolux",
   "language": "python",
   "name": "python3"
  },
  "language_info": {
   "codemirror_mode": {
    "name": "ipython",
    "version": 3
   },
   "file_extension": ".py",
   "mimetype": "text/x-python",
   "name": "python",
   "nbconvert_exporter": "python",
   "pygments_lexer": "ipython3",
   "version": "3.13.3"
  }
 },
 "nbformat": 4,
 "nbformat_minor": 2
}
