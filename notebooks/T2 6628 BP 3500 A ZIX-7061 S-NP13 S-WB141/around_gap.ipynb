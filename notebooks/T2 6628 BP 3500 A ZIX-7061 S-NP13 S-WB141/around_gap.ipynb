{
 "cells": [
  {
   "cell_type": "code",
   "execution_count": 1,
   "metadata": {},
   "outputs": [],
   "source": [
    "%load_ext autoreload\n",
    "%autoreload 2\n",
    "from innolux import *"
   ]
  },
  {
   "cell_type": "code",
   "execution_count": 28,
   "metadata": {},
   "outputs": [],
   "source": [
    "class SealAnalysis:\n",
    "    class Table:\n",
    "        @staticmethod\n",
    "        def generate_delta_table(df: pl.DataFrame, condition: str | None = None) -> pl.DataFrame:\n",
    "            delta_gap = {\n",
    "                \"Condition\": [],\n",
    "                \"ID\": [],\n",
    "                \"Location\": [],\n",
    "                \"Class\": [],\n",
    "                \"Delta(um)\": [],\n",
    "            }\n",
    "            \n",
    "            for glass_id in df['ID'].unique():\n",
    "                delta_gap['ID'] += [glass_id] * 8\n",
    "                delta_gap['Class'] += ['first - max', 'max - avg'] * 4\n",
    "                if condition is None:\n",
    "                    cond = df.filter(pl.col(\"ID\") == glass_id)[0,'Condition']\n",
    "                else:\n",
    "                    cond = df.filter(pl.col(\"ID\") == glass_id)[0,condition]\n",
    "                delta_gap['Condition'] += [cond] * 8\n",
    "                \n",
    "                for location in ['up', 'down', 'left', 'right']:\n",
    "                    tmp_df = df.filter(\n",
    "                        pl.col('ID') == glass_id,\n",
    "                        pl.col('Location') == location,\n",
    "                        # (pl.col('Measure Order') % 20 > 4) | (pl.col('Measure Order') % 20 == 0),\n",
    "                        pl.col('RMS(%)') < 1,\n",
    "                    )\n",
    "                    first = tmp_df[0,3]\n",
    "                    avg = tmp_df[-10:,3].mean()\n",
    "                    max_ = tmp_df[:,3].max()\n",
    "                    delta_gap['Location'] += [location] * 2\n",
    "                    delta_gap['Delta(um)'] += [first - max_, max_ - avg]\n",
    "                    \n",
    "            \n",
    "            return pl.DataFrame(delta_gap)\n",
    "    class Plot:\n",
    "        @staticmethod\n",
    "        def around_gap(df: pl.DataFrame, **params):\n",
    "            figs = []\n",
    "            for cond in df['Condition'].unique():\n",
    "                print(cond)\n",
    "                figs.append(px.scatter(\n",
    "                    df.filter(pl.col('Condition')==cond),\n",
    "                    color_continuous_scale=px.colors.sequential.Jet,\n",
    "                    # color_discrete_sequence=px.colors.sequential.Jet,\n",
    "                    **params,\n",
    "                ))\n",
    "                figs[-1].update_layout(yaxis_range=(3.1, 3.5))\n",
    "                figs[-1].show()\n",
    "            return figs\n",
    "        \n",
    "        @staticmethod\n",
    "        def around_delta(df: pl.DataFrame, **params):\n",
    "            conds = df['Condition'].unique()\n",
    "            fig = make_subplots(rows=1, cols=len(conds), shared_yaxes=True)\n",
    "            for index, cond in enumerate(conds):\n",
    "                print(cond)\n",
    "                tmp_df = df.filter(pl.col('Condition')==cond)\n",
    "                sub_fig = px.box(\n",
    "                    tmp_df,\n",
    "                    **params\n",
    "                )\n",
    "                for trace in sub_fig.data:\n",
    "                    fig.add_trace(trace, row=1, col=index+1)\n",
    "            return fig"
   ]
  },
  {
   "cell_type": "code",
   "execution_count": 6,
   "metadata": {},
   "outputs": [],
   "source": [
    "import plotly.io as pio \n",
    "pio.renderers.default = \"vscode\""
   ]
  },
  {
   "cell_type": "code",
   "execution_count": 12,
   "metadata": {},
   "outputs": [
    {
     "data": {
      "text/html": [
       "<div><style>\n",
       ".dataframe > thead > tr,\n",
       ".dataframe > tbody > tr {\n",
       "  text-align: right;\n",
       "  white-space: pre-wrap;\n",
       "}\n",
       "</style>\n",
       "<small>shape: (1_397, 10)</small><table border=\"1\" class=\"dataframe\"><thead><tr><th>ID</th><th>Measure Order</th><th>Location</th><th>Cell Gap(um)</th><th>Dist to Edge(mm)</th><th>RMS(%)</th><th>Panel ID</th><th>Condition</th><th>Cross Area</th><th>GRADE</th></tr><tr><td>str</td><td>i64</td><td>str</td><td>f64</td><td>i64</td><td>f64</td><td>str</td><td>str</td><td>str</td><td>str</td></tr></thead><tbody><tr><td>&quot;210FB5&quot;</td><td>0</td><td>&quot;center&quot;</td><td>3.149687</td><td>0</td><td>0.248483</td><td>&quot;660L2AP50FN210FB5&quot;</td><td>&quot;LCT-15-1098 + S-WB141&quot;</td><td>&quot;2320&quot;</td><td>&quot;NG&quot;</td></tr><tr><td>&quot;210FB5&quot;</td><td>1</td><td>&quot;up&quot;</td><td>3.189865</td><td>0</td><td>0.773582</td><td>&quot;660L2AP50FN210FB5&quot;</td><td>&quot;LCT-15-1098 + S-WB141&quot;</td><td>&quot;2320&quot;</td><td>&quot;NG&quot;</td></tr><tr><td>&quot;210FB5&quot;</td><td>2</td><td>&quot;up&quot;</td><td>3.195987</td><td>1</td><td>0.239258</td><td>&quot;660L2AP50FN210FB5&quot;</td><td>&quot;LCT-15-1098 + S-WB141&quot;</td><td>&quot;2320&quot;</td><td>&quot;NG&quot;</td></tr><tr><td>&quot;210FB5&quot;</td><td>3</td><td>&quot;up&quot;</td><td>3.191534</td><td>2</td><td>0.231841</td><td>&quot;660L2AP50FN210FB5&quot;</td><td>&quot;LCT-15-1098 + S-WB141&quot;</td><td>&quot;2320&quot;</td><td>&quot;NG&quot;</td></tr><tr><td>&quot;210FB5&quot;</td><td>4</td><td>&quot;up&quot;</td><td>3.185135</td><td>3</td><td>0.253972</td><td>&quot;660L2AP50FN210FB5&quot;</td><td>&quot;LCT-15-1098 + S-WB141&quot;</td><td>&quot;2320&quot;</td><td>&quot;NG&quot;</td></tr><tr><td>&hellip;</td><td>&hellip;</td><td>&hellip;</td><td>&hellip;</td><td>&hellip;</td><td>&hellip;</td><td>&hellip;</td><td>&hellip;</td><td>&hellip;</td><td>&hellip;</td></tr><tr><td>&quot;215C96&quot;</td><td>76</td><td>&quot;right&quot;</td><td>3.235699</td><td>15</td><td>0.237454</td><td>&quot;660L2AP50FN215C96&quot;</td><td>&quot;ZIX-7061XX + S-WB141&quot;</td><td>&quot;2418&quot;</td><td>&quot;G1&quot;</td></tr><tr><td>&quot;215C96&quot;</td><td>77</td><td>&quot;right&quot;</td><td>3.235278</td><td>16</td><td>0.236192</td><td>&quot;660L2AP50FN215C96&quot;</td><td>&quot;ZIX-7061XX + S-WB141&quot;</td><td>&quot;2418&quot;</td><td>&quot;G1&quot;</td></tr><tr><td>&quot;215C96&quot;</td><td>78</td><td>&quot;right&quot;</td><td>3.235292</td><td>17</td><td>0.238952</td><td>&quot;660L2AP50FN215C96&quot;</td><td>&quot;ZIX-7061XX + S-WB141&quot;</td><td>&quot;2418&quot;</td><td>&quot;G1&quot;</td></tr><tr><td>&quot;215C96&quot;</td><td>79</td><td>&quot;right&quot;</td><td>3.235208</td><td>18</td><td>0.239464</td><td>&quot;660L2AP50FN215C96&quot;</td><td>&quot;ZIX-7061XX + S-WB141&quot;</td><td>&quot;2418&quot;</td><td>&quot;G1&quot;</td></tr><tr><td>&quot;215C96&quot;</td><td>80</td><td>&quot;right&quot;</td><td>3.234336</td><td>19</td><td>0.243897</td><td>&quot;660L2AP50FN215C96&quot;</td><td>&quot;ZIX-7061XX + S-WB141&quot;</td><td>&quot;2418&quot;</td><td>&quot;G1&quot;</td></tr></tbody></table></div>"
      ],
      "text/plain": [
       "shape: (1_397, 10)\n",
       "┌────────┬─────────┬──────────┬──────────┬───┬────────────────┬───────────────┬────────────┬───────┐\n",
       "│ ID     ┆ Measure ┆ Location ┆ Cell     ┆ … ┆ Panel ID       ┆ Condition     ┆ Cross Area ┆ GRADE │\n",
       "│ ---    ┆ Order   ┆ ---      ┆ Gap(um)  ┆   ┆ ---            ┆ ---           ┆ ---        ┆ ---   │\n",
       "│ str    ┆ ---     ┆ str      ┆ ---      ┆   ┆ str            ┆ str           ┆ str        ┆ str   │\n",
       "│        ┆ i64     ┆          ┆ f64      ┆   ┆                ┆               ┆            ┆       │\n",
       "╞════════╪═════════╪══════════╪══════════╪═══╪════════════════╪═══════════════╪════════════╪═══════╡\n",
       "│ 210FB5 ┆ 0       ┆ center   ┆ 3.149687 ┆ … ┆ 660L2AP50FN210 ┆ LCT-15-1098 + ┆ 2320       ┆ NG    │\n",
       "│        ┆         ┆          ┆          ┆   ┆ FB5            ┆ S-WB141       ┆            ┆       │\n",
       "│ 210FB5 ┆ 1       ┆ up       ┆ 3.189865 ┆ … ┆ 660L2AP50FN210 ┆ LCT-15-1098 + ┆ 2320       ┆ NG    │\n",
       "│        ┆         ┆          ┆          ┆   ┆ FB5            ┆ S-WB141       ┆            ┆       │\n",
       "│ 210FB5 ┆ 2       ┆ up       ┆ 3.195987 ┆ … ┆ 660L2AP50FN210 ┆ LCT-15-1098 + ┆ 2320       ┆ NG    │\n",
       "│        ┆         ┆          ┆          ┆   ┆ FB5            ┆ S-WB141       ┆            ┆       │\n",
       "│ 210FB5 ┆ 3       ┆ up       ┆ 3.191534 ┆ … ┆ 660L2AP50FN210 ┆ LCT-15-1098 + ┆ 2320       ┆ NG    │\n",
       "│        ┆         ┆          ┆          ┆   ┆ FB5            ┆ S-WB141       ┆            ┆       │\n",
       "│ 210FB5 ┆ 4       ┆ up       ┆ 3.185135 ┆ … ┆ 660L2AP50FN210 ┆ LCT-15-1098 + ┆ 2320       ┆ NG    │\n",
       "│        ┆         ┆          ┆          ┆   ┆ FB5            ┆ S-WB141       ┆            ┆       │\n",
       "│ …      ┆ …       ┆ …        ┆ …        ┆ … ┆ …              ┆ …             ┆ …          ┆ …     │\n",
       "│ 215C96 ┆ 76      ┆ right    ┆ 3.235699 ┆ … ┆ 660L2AP50FN215 ┆ ZIX-7061XX +  ┆ 2418       ┆ G1    │\n",
       "│        ┆         ┆          ┆          ┆   ┆ C96            ┆ S-WB141       ┆            ┆       │\n",
       "│ 215C96 ┆ 77      ┆ right    ┆ 3.235278 ┆ … ┆ 660L2AP50FN215 ┆ ZIX-7061XX +  ┆ 2418       ┆ G1    │\n",
       "│        ┆         ┆          ┆          ┆   ┆ C96            ┆ S-WB141       ┆            ┆       │\n",
       "│ 215C96 ┆ 78      ┆ right    ┆ 3.235292 ┆ … ┆ 660L2AP50FN215 ┆ ZIX-7061XX +  ┆ 2418       ┆ G1    │\n",
       "│        ┆         ┆          ┆          ┆   ┆ C96            ┆ S-WB141       ┆            ┆       │\n",
       "│ 215C96 ┆ 79      ┆ right    ┆ 3.235208 ┆ … ┆ 660L2AP50FN215 ┆ ZIX-7061XX +  ┆ 2418       ┆ G1    │\n",
       "│        ┆         ┆          ┆          ┆   ┆ C96            ┆ S-WB141       ┆            ┆       │\n",
       "│ 215C96 ┆ 80      ┆ right    ┆ 3.234336 ┆ … ┆ 660L2AP50FN215 ┆ ZIX-7061XX +  ┆ 2418       ┆ G1    │\n",
       "│        ┆         ┆          ┆          ┆   ┆ C96            ┆ S-WB141       ┆            ┆       │\n",
       "└────────┴─────────┴──────────┴──────────┴───┴────────────────┴───────────────┴────────────┴───────┘"
      ]
     },
     "execution_count": 12,
     "metadata": {},
     "output_type": "execute_result"
    }
   ],
   "source": [
    "around_gap = pl.read_excel(data_path / \"T2 6628 BP 3500 A ZIX-7061 S-NP13 S-WB141\" / \"around_gap_summary_20250903.xlsx\")\n",
    "around_gap"
   ]
  },
  {
   "cell_type": "code",
   "execution_count": 24,
   "metadata": {},
   "outputs": [
    {
     "data": {
      "text/plain": [
       "'ZIX-7061XX + S-WB141'"
      ]
     },
     "execution_count": 24,
     "metadata": {},
     "output_type": "execute_result"
    }
   ],
   "source": [
    "around_gap.filter(pl.col(\"Panel ID\") == \"660L2AP50FN215C96\")[0,'Condition']"
   ]
  },
  {
   "cell_type": "code",
   "execution_count": 45,
   "metadata": {},
   "outputs": [
    {
     "name": "stdout",
     "output_type": "stream",
     "text": [
      "ZIX-7061XX + S-WB141\n"
     ]
    },
    {
     "data": {
      "application/vnd.plotly.v1+json": {
       "config": {
        "plotlyServerURL": "https://plot.ly"
       },
       "data": [
        {
         "hovertemplate": "GRADE=NG<br>Measure Order=%{x}<br>Cell Gap(um)=%{y}<extra></extra>",
         "legendgroup": "NG",
         "marker": {
          "color": "#636efa",
          "symbol": "circle"
         },
         "mode": "markers",
         "name": "NG",
         "orientation": "v",
         "showlegend": true,
         "type": "scatter",
         "x": {
          "bdata": "AAECAwQFBgcICQoLDA0ODxAREhMUFhcYGRobHB0eHyAhIiMkJSYnKCorLC0uLzAxMjM0NTY3ODk6Ozw+P0BBQkNERUZHSElKS0xNTk9QAAECAwQFBgcICQoLDA0ODxAREhMUFhcYGRobHB0eHyAhIiMkJSYnKCorLC0uLzAxMjM0NTY3ODk6Ozw+P0BBQkNERUZHSElKS0xNTk9QAAECAwQFBgcICQoLDA0ODxAREhMUFhcYGRobHB0eHyAhIiMkJSYnKCorLC0uLzAxMjM0NTY3ODk6Ozw+P0BBQkNERUZHSElKS0xNTk9Q",
          "dtype": "i1"
         },
         "xaxis": "x",
         "y": {
          "bdata": "qTP3kPC9CUBinpW04tsJQAPMfAc/sQlAjjulg/WfCUDECyJS044JQEykNJvHgQlAxf8dUaF6CUD4+e/Ba3cJQFfO3hltdQlAZ7Yr9MFyCUCjPskdNnEJQA1TW+ogbwlAg6RPq+hvCUCiYweVuG4JQHdkrDb/bwlAwhIPKJtyCUBgyVUsfnMJQJp63SIwdglA7KS+LO10CUB7h9uhYXEJQFCqfToecwlA+ptQiIAjCkCRD3o2q/4JQHSV7q6z4QlAFY4glWLHCUAeGhajrrUJQOf7qfHSrQlAA5gycECrCUDTpBR0e6kJQEIFhxdEpAlASbvRx3ygCUASpFLsaJwJQOnX1k//mQlA6x9EMuSYCUB07QvohZsJQCsXKv9anglAjfD2IASkCUCAuoEC76QJQC8012mkpQlAXATG+gamCUChhQSMLm8KQEq4kEdw4wlAshLzrKTVCUBs7X2qCs0JQPq3y37dyQlA6rDCLR/JCUB2jCsujsoJQL9iDRe5xwlAmDCale3DCUDXicvxCsQJQEJ8YMd/wQlAwQKYMnDACUB9BP7w878JQHobmx2pvglADqMgeHy7CUC+LViqC7gJQJcC0v4HuAlAI0vmWN61CUALKqp+pbMJQM4bJ4V5LwpAk1Z8Q+HzCUC1bRgFweMJQCh9IeS83wlARbqfU5DfCUBi2GFM+tsJQPuQt1z92AlAWrqCbcTTCUCCrn0BvdAJQBQGZRpNzglA9u0kIvzLCUD0wMdgxckJQJzEILByyAlAJEOOrWfICUDbFmU2yMQJQE8jLZW3wwlA/isrTUrBCUD4cTRHVr4JQPW4b7VOvAlAe2gfK/jNCUA3iUFg5bAJQFpFf2jmyQlABU62gTuwCUBo5sk1BZIJQLwEpz6QfAlAc4V3uYhvCUBClZo90GoJQHztmSUBaglAfJv+7EdqCUByUS0iimkJQNk/TwMGaQlA9YO6SKFsCUBuF5rrNHIJQM8VpYRgdQlAWHIVi990CUBODTSfc3cJQKWHodXJeQlAYobGE0F8CUBDdXPxt30JQC1cVmEzgAlAqknwhjQKCkAboDTUKOQJQBTq6SPwxwlA+kSeJF2zCUD+KOrMPaQJQBg/jXvzmwlA0uP3Nv2ZCUC0PA/uzpoJQC+FB82umwlAtmlsrwWdCUBPH4E//JwJQNLI5xVPnQlAwvuqXKicCUDCwd7EkJwJQBEAHHv2nAlANNjUeVScCUCbAwRz9JgJQEjElEiilwlA6lkQyvuYCUBWD5iHTHkKQDOmYI2z6QlA4UbKFknbCUAtIR/0bNYJQPLqHAOy1wlAqFFIMqvXCUC3KLNBJtkJQHr/HydM2AlA+u/Ba5fWCUAqOLwgItUJQBoxs89j1AlAEheARunSCUBehCnKpdEJQPrTRnU60AlAePATB9DPCUCPF9LhIcwJQM+j4v+OyAlAe2r11VXBCUCzKOyi6MEJQK8I/reSHQpAX5m36jr0CUAvFRvzOuIJQAn7dhIR3glA9ntinSrfCUCVKHtLOd8JQCqLwi6K3glAAtTUsrXeCUArhNVYwtoJQCQO2UC62AlAQPz89+DVCUDUJ7nDJtIJQGouNxjq0AlA/8pKk1LQCUCID+z4L9AJQHjwEwfQzwlAsD2zJEDNCUCt+IbCZ8sJQCfaVUj5yQlA4nZoWIy6CUAw8x38xAEKQFIMkGgC5QlAmGvRArTNCUBQGJRpNLkJQOJZgoyAqglAskrpmV6iCUDogvqWOZ0JQFQZxt0gmglAlBYuq7CZCUD2X+emzZgJQGzrp/+smQlASn1Z2qmZCUA4MSQnE5cJQBwkRPmClglA5SuBlNiVCUAj+UogJZYJQHwNwXEZlwlAh/4JLlaUCUDF5uPaUJEJQBedLLXejwlAk8SScvcZCkAFUmLX9vYJQGOa6V4n1QlAn1bRH5q5CUAPDvYmhqQJQM0+j1GemQlAIUCGjh2UCUDp7job8o8JQAStwJDVjQlAy0dS0sOQCUDp7job8o8JQAE1tWytjwlAd554zhaQCUBdNc8R+Y4JQP5g4Ln3kAlAoN6Mmq+SCUCgibDh6ZUJQMB1xYzwlglAsz9QbtuXCUAxfERMiYQKQHoX78ft9wlAhNcubTjsCUDRsYNKXOcJQEjCvp1E5AlAusDlsWbkCUAPSMK+neQJQFiqC3iZ4QlAOGVuvhHdCUCqCg3EstkJQPDfvDjx1QlAbeS6KeXVCUBVTKWfcNYJQDdPdcjN0AlAymyQSUbOCUDO/GoOEMwJQIxJfy+FxwlAy73ArFDECUBngXaHFMMJQD+rzJTWPwpApS+EnPf/CUBtIF1sWukJQIb/dAMF3glAHottUtHYCUAgKLfte9QJQAAd5ssL0AlA1EUKZeHLCUAqdF5jl8gJQNnpB3WRwglAOutTjsnCCUCHNgAbEMEJQIAqbtxivglAwsHexJC8CUBUxyqlZ7oJQHv18dB3twlAqpm1FJC2CUCphCf0+rMJQI4ev7fprwlA",
          "dtype": "f8"
         },
         "yaxis": "y"
        },
        {
         "hovertemplate": "GRADE=G1<br>Measure Order=%{x}<br>Cell Gap(um)=%{y}<extra></extra>",
         "legendgroup": "G1",
         "marker": {
          "color": "#EF553B",
          "symbol": "circle"
         },
         "mode": "markers",
         "name": "G1",
         "orientation": "v",
         "showlegend": true,
         "type": "scatter",
         "x": {
          "bdata": "AAECAwQFBgcICQoLDA0ODxAREhMUFhcYGRobHB0eHyAhIiMkJSYnKCorLC0uLzAxMjM0NTY3ODk6Ozw+P0BBQkNERUZHSElKS0xNTk9QAAECAwQFBgcICQoLDA0ODxAREhMUFhcYGRobHB0eHyAhIiMkJSYnKCorLC0uLzAxMjM0NTY3ODk6Ozw+P0BBQkNERUZHSElKS0xNTk9Q",
          "dtype": "i1"
         },
         "xaxis": "x",
         "y": {
          "bdata": "/yCSIce2CUA0vcRYpv8JQIcW2c730wlAC/FIvDy9CUCaIyu/DKYJQJXYtb3dkglAFmniHeCJCUC0dAXbiIcJQMMpc/ONiAlAbAiOy7iJCUDOF3svvogJQPs8RnnmhQlAMlpHVROECUCEgefew4UJQMFY38DkhglAoUeMnluICUCLFqBtNYsJQLvx7shYjQlAAmVTrvCOCUAnamluhZAJQD4kfO9vkAlAh/pd2JoNCkBe8dQjDe4JQNYdi21S0QlAn1kSoKa2CUA/VvDbEKMJQDmYTYBhmQlAA1/RrdeUCUB7vma5bJQJQAA8okJ1kwlA0XXhB+eTCUCC5QgZyJMJQHFV2XdFkAlAesTouYWOCUDVzjC1pY4JQAw+zcmLjAlAYRqGj4iJCUA2PSgoRYsJQGu28pL/iQlATrNAu0OKCUD52ch1U4oKQHXHYptU9AlADmd+NQfoCUCbkNYYdOIJQO4kIvyL4AlAzHnGvmTjCUAV4/xNKOQJQHDOiNLe4AlAmNpSB3ndCUAtQNtq1tkJQKkvSzs11wlAOs5twr3SCUC8lSU6y8wJQOQViJ6UyQlA/FQVGojFCUAlPKHXn8QJQFwclZuoxQlANxd/2xPECUBngXaHFMMJQMK9Mm/VVQpA6pJxjGQPCkANxLKZQ/IJQKG+ZU6X5QlAzSA+sOPfCUD8xAH0+94JQPKVQErs2glAPusaLQfaCUAwuycPC9UJQOChKNAn0glAQGmoUUjSCUDQKcjPRs4JQD0q/u+IyglAnieeswXECUC/1TpxOb4JQBCSBUzgtglATwKbc/CsCUA2rRQCuaQJQB2SWiiZnAlAmu/gJw7gCUDBcRk3NfAJQMl3KXXJ+AlATIxl+iXiCUBtVKcDWc8JQDXSUnk7wglAMe9xpgm7CUCS5o9pbboJQO0qpPykuglAT64pkNm5CUCbPdAKDLkJQAUVVb/SuQlAkuaPaW26CUAuA85SsrwJQDSGOUGbvAlAhjlBmxy+CUBYVMTpJLsJQFiR0QFJuAlAsVOsGoS5CUB0sz9QbrsJQPlISnoYuglAl+Kqsu/qCUC6ERYVcdoJQCQNbmsLzwlARDF5A8y8CUDxoURLHq8JQEEuceSBqAlACYuKOJ2kCUBy4NVyZ6YJQJVm8zgMpglAks8rnnqkCUA8vOfAcqQJQNrjhXR4qAlAmgXaHVKsCUDoacAg6bMJQHxHjQkxtwlABHRfzmy3CUCwjXiym7kJQNDSFWwjvglA8KZbdoi/CUCDbcST3WwKQOXtCKcF7wlA3nNgOULmCUAyx/KueuAJQGIx6lp73wlArwW9N4bgCUBYHqSnyOEJQNJwytx84wlA3zKny2LiCUC4WbxYGOIJQHswKT4+4QlAHLEWnwLgCUAArmTHRuAJQM2spYC03wlA8gaY+Q7eCUAKZeHra90JQNkHWRZM3AlAVyQmqOHbCUCKWMSww9gJQKRUwhN6PQpAKQezCTAMCkDtf4C1avcJQNNrs7ES8wlAuyU5YFfzCUBNvtnmxvQJQCTvHMpQ9QlAV9EfmnnyCUASMpBnl+8JQPBquTMT7AlA+62dKAnpCUCuK2aEt+cJQCEgX0IF5wlASSwpd5/jCUBnmUUotuIJQA6/m27Z4QlAXRWoxeDhCUCAD167tOEJQCI0go3r3wlA",
          "dtype": "f8"
         },
         "yaxis": "y"
        }
       ],
       "layout": {
        "legend": {
         "title": {
          "text": "GRADE"
         },
         "tracegroupgap": 0
        },
        "margin": {
         "t": 60
        },
        "template": {
         "data": {
          "bar": [
           {
            "error_x": {
             "color": "#2a3f5f"
            },
            "error_y": {
             "color": "#2a3f5f"
            },
            "marker": {
             "line": {
              "color": "#E5ECF6",
              "width": 0.5
             },
             "pattern": {
              "fillmode": "overlay",
              "size": 10,
              "solidity": 0.2
             }
            },
            "type": "bar"
           }
          ],
          "barpolar": [
           {
            "marker": {
             "line": {
              "color": "#E5ECF6",
              "width": 0.5
             },
             "pattern": {
              "fillmode": "overlay",
              "size": 10,
              "solidity": 0.2
             }
            },
            "type": "barpolar"
           }
          ],
          "carpet": [
           {
            "aaxis": {
             "endlinecolor": "#2a3f5f",
             "gridcolor": "white",
             "linecolor": "white",
             "minorgridcolor": "white",
             "startlinecolor": "#2a3f5f"
            },
            "baxis": {
             "endlinecolor": "#2a3f5f",
             "gridcolor": "white",
             "linecolor": "white",
             "minorgridcolor": "white",
             "startlinecolor": "#2a3f5f"
            },
            "type": "carpet"
           }
          ],
          "choropleth": [
           {
            "colorbar": {
             "outlinewidth": 0,
             "ticks": ""
            },
            "type": "choropleth"
           }
          ],
          "contour": [
           {
            "colorbar": {
             "outlinewidth": 0,
             "ticks": ""
            },
            "colorscale": [
             [
              0,
              "#0d0887"
             ],
             [
              0.1111111111111111,
              "#46039f"
             ],
             [
              0.2222222222222222,
              "#7201a8"
             ],
             [
              0.3333333333333333,
              "#9c179e"
             ],
             [
              0.4444444444444444,
              "#bd3786"
             ],
             [
              0.5555555555555556,
              "#d8576b"
             ],
             [
              0.6666666666666666,
              "#ed7953"
             ],
             [
              0.7777777777777778,
              "#fb9f3a"
             ],
             [
              0.8888888888888888,
              "#fdca26"
             ],
             [
              1,
              "#f0f921"
             ]
            ],
            "type": "contour"
           }
          ],
          "contourcarpet": [
           {
            "colorbar": {
             "outlinewidth": 0,
             "ticks": ""
            },
            "type": "contourcarpet"
           }
          ],
          "heatmap": [
           {
            "colorbar": {
             "outlinewidth": 0,
             "ticks": ""
            },
            "colorscale": [
             [
              0,
              "#0d0887"
             ],
             [
              0.1111111111111111,
              "#46039f"
             ],
             [
              0.2222222222222222,
              "#7201a8"
             ],
             [
              0.3333333333333333,
              "#9c179e"
             ],
             [
              0.4444444444444444,
              "#bd3786"
             ],
             [
              0.5555555555555556,
              "#d8576b"
             ],
             [
              0.6666666666666666,
              "#ed7953"
             ],
             [
              0.7777777777777778,
              "#fb9f3a"
             ],
             [
              0.8888888888888888,
              "#fdca26"
             ],
             [
              1,
              "#f0f921"
             ]
            ],
            "type": "heatmap"
           }
          ],
          "histogram": [
           {
            "marker": {
             "pattern": {
              "fillmode": "overlay",
              "size": 10,
              "solidity": 0.2
             }
            },
            "type": "histogram"
           }
          ],
          "histogram2d": [
           {
            "colorbar": {
             "outlinewidth": 0,
             "ticks": ""
            },
            "colorscale": [
             [
              0,
              "#0d0887"
             ],
             [
              0.1111111111111111,
              "#46039f"
             ],
             [
              0.2222222222222222,
              "#7201a8"
             ],
             [
              0.3333333333333333,
              "#9c179e"
             ],
             [
              0.4444444444444444,
              "#bd3786"
             ],
             [
              0.5555555555555556,
              "#d8576b"
             ],
             [
              0.6666666666666666,
              "#ed7953"
             ],
             [
              0.7777777777777778,
              "#fb9f3a"
             ],
             [
              0.8888888888888888,
              "#fdca26"
             ],
             [
              1,
              "#f0f921"
             ]
            ],
            "type": "histogram2d"
           }
          ],
          "histogram2dcontour": [
           {
            "colorbar": {
             "outlinewidth": 0,
             "ticks": ""
            },
            "colorscale": [
             [
              0,
              "#0d0887"
             ],
             [
              0.1111111111111111,
              "#46039f"
             ],
             [
              0.2222222222222222,
              "#7201a8"
             ],
             [
              0.3333333333333333,
              "#9c179e"
             ],
             [
              0.4444444444444444,
              "#bd3786"
             ],
             [
              0.5555555555555556,
              "#d8576b"
             ],
             [
              0.6666666666666666,
              "#ed7953"
             ],
             [
              0.7777777777777778,
              "#fb9f3a"
             ],
             [
              0.8888888888888888,
              "#fdca26"
             ],
             [
              1,
              "#f0f921"
             ]
            ],
            "type": "histogram2dcontour"
           }
          ],
          "mesh3d": [
           {
            "colorbar": {
             "outlinewidth": 0,
             "ticks": ""
            },
            "type": "mesh3d"
           }
          ],
          "parcoords": [
           {
            "line": {
             "colorbar": {
              "outlinewidth": 0,
              "ticks": ""
             }
            },
            "type": "parcoords"
           }
          ],
          "pie": [
           {
            "automargin": true,
            "type": "pie"
           }
          ],
          "scatter": [
           {
            "fillpattern": {
             "fillmode": "overlay",
             "size": 10,
             "solidity": 0.2
            },
            "type": "scatter"
           }
          ],
          "scatter3d": [
           {
            "line": {
             "colorbar": {
              "outlinewidth": 0,
              "ticks": ""
             }
            },
            "marker": {
             "colorbar": {
              "outlinewidth": 0,
              "ticks": ""
             }
            },
            "type": "scatter3d"
           }
          ],
          "scattercarpet": [
           {
            "marker": {
             "colorbar": {
              "outlinewidth": 0,
              "ticks": ""
             }
            },
            "type": "scattercarpet"
           }
          ],
          "scattergeo": [
           {
            "marker": {
             "colorbar": {
              "outlinewidth": 0,
              "ticks": ""
             }
            },
            "type": "scattergeo"
           }
          ],
          "scattergl": [
           {
            "marker": {
             "colorbar": {
              "outlinewidth": 0,
              "ticks": ""
             }
            },
            "type": "scattergl"
           }
          ],
          "scattermap": [
           {
            "marker": {
             "colorbar": {
              "outlinewidth": 0,
              "ticks": ""
             }
            },
            "type": "scattermap"
           }
          ],
          "scattermapbox": [
           {
            "marker": {
             "colorbar": {
              "outlinewidth": 0,
              "ticks": ""
             }
            },
            "type": "scattermapbox"
           }
          ],
          "scatterpolar": [
           {
            "marker": {
             "colorbar": {
              "outlinewidth": 0,
              "ticks": ""
             }
            },
            "type": "scatterpolar"
           }
          ],
          "scatterpolargl": [
           {
            "marker": {
             "colorbar": {
              "outlinewidth": 0,
              "ticks": ""
             }
            },
            "type": "scatterpolargl"
           }
          ],
          "scatterternary": [
           {
            "marker": {
             "colorbar": {
              "outlinewidth": 0,
              "ticks": ""
             }
            },
            "type": "scatterternary"
           }
          ],
          "surface": [
           {
            "colorbar": {
             "outlinewidth": 0,
             "ticks": ""
            },
            "colorscale": [
             [
              0,
              "#0d0887"
             ],
             [
              0.1111111111111111,
              "#46039f"
             ],
             [
              0.2222222222222222,
              "#7201a8"
             ],
             [
              0.3333333333333333,
              "#9c179e"
             ],
             [
              0.4444444444444444,
              "#bd3786"
             ],
             [
              0.5555555555555556,
              "#d8576b"
             ],
             [
              0.6666666666666666,
              "#ed7953"
             ],
             [
              0.7777777777777778,
              "#fb9f3a"
             ],
             [
              0.8888888888888888,
              "#fdca26"
             ],
             [
              1,
              "#f0f921"
             ]
            ],
            "type": "surface"
           }
          ],
          "table": [
           {
            "cells": {
             "fill": {
              "color": "#EBF0F8"
             },
             "line": {
              "color": "white"
             }
            },
            "header": {
             "fill": {
              "color": "#C8D4E3"
             },
             "line": {
              "color": "white"
             }
            },
            "type": "table"
           }
          ]
         },
         "layout": {
          "annotationdefaults": {
           "arrowcolor": "#2a3f5f",
           "arrowhead": 0,
           "arrowwidth": 1
          },
          "autotypenumbers": "strict",
          "coloraxis": {
           "colorbar": {
            "outlinewidth": 0,
            "ticks": ""
           }
          },
          "colorscale": {
           "diverging": [
            [
             0,
             "#8e0152"
            ],
            [
             0.1,
             "#c51b7d"
            ],
            [
             0.2,
             "#de77ae"
            ],
            [
             0.3,
             "#f1b6da"
            ],
            [
             0.4,
             "#fde0ef"
            ],
            [
             0.5,
             "#f7f7f7"
            ],
            [
             0.6,
             "#e6f5d0"
            ],
            [
             0.7,
             "#b8e186"
            ],
            [
             0.8,
             "#7fbc41"
            ],
            [
             0.9,
             "#4d9221"
            ],
            [
             1,
             "#276419"
            ]
           ],
           "sequential": [
            [
             0,
             "#0d0887"
            ],
            [
             0.1111111111111111,
             "#46039f"
            ],
            [
             0.2222222222222222,
             "#7201a8"
            ],
            [
             0.3333333333333333,
             "#9c179e"
            ],
            [
             0.4444444444444444,
             "#bd3786"
            ],
            [
             0.5555555555555556,
             "#d8576b"
            ],
            [
             0.6666666666666666,
             "#ed7953"
            ],
            [
             0.7777777777777778,
             "#fb9f3a"
            ],
            [
             0.8888888888888888,
             "#fdca26"
            ],
            [
             1,
             "#f0f921"
            ]
           ],
           "sequentialminus": [
            [
             0,
             "#0d0887"
            ],
            [
             0.1111111111111111,
             "#46039f"
            ],
            [
             0.2222222222222222,
             "#7201a8"
            ],
            [
             0.3333333333333333,
             "#9c179e"
            ],
            [
             0.4444444444444444,
             "#bd3786"
            ],
            [
             0.5555555555555556,
             "#d8576b"
            ],
            [
             0.6666666666666666,
             "#ed7953"
            ],
            [
             0.7777777777777778,
             "#fb9f3a"
            ],
            [
             0.8888888888888888,
             "#fdca26"
            ],
            [
             1,
             "#f0f921"
            ]
           ]
          },
          "colorway": [
           "#636efa",
           "#EF553B",
           "#00cc96",
           "#ab63fa",
           "#FFA15A",
           "#19d3f3",
           "#FF6692",
           "#B6E880",
           "#FF97FF",
           "#FECB52"
          ],
          "font": {
           "color": "#2a3f5f"
          },
          "geo": {
           "bgcolor": "white",
           "lakecolor": "white",
           "landcolor": "#E5ECF6",
           "showlakes": true,
           "showland": true,
           "subunitcolor": "white"
          },
          "hoverlabel": {
           "align": "left"
          },
          "hovermode": "closest",
          "mapbox": {
           "style": "light"
          },
          "paper_bgcolor": "white",
          "plot_bgcolor": "#E5ECF6",
          "polar": {
           "angularaxis": {
            "gridcolor": "white",
            "linecolor": "white",
            "ticks": ""
           },
           "bgcolor": "#E5ECF6",
           "radialaxis": {
            "gridcolor": "white",
            "linecolor": "white",
            "ticks": ""
           }
          },
          "scene": {
           "xaxis": {
            "backgroundcolor": "#E5ECF6",
            "gridcolor": "white",
            "gridwidth": 2,
            "linecolor": "white",
            "showbackground": true,
            "ticks": "",
            "zerolinecolor": "white"
           },
           "yaxis": {
            "backgroundcolor": "#E5ECF6",
            "gridcolor": "white",
            "gridwidth": 2,
            "linecolor": "white",
            "showbackground": true,
            "ticks": "",
            "zerolinecolor": "white"
           },
           "zaxis": {
            "backgroundcolor": "#E5ECF6",
            "gridcolor": "white",
            "gridwidth": 2,
            "linecolor": "white",
            "showbackground": true,
            "ticks": "",
            "zerolinecolor": "white"
           }
          },
          "shapedefaults": {
           "line": {
            "color": "#2a3f5f"
           }
          },
          "ternary": {
           "aaxis": {
            "gridcolor": "white",
            "linecolor": "white",
            "ticks": ""
           },
           "baxis": {
            "gridcolor": "white",
            "linecolor": "white",
            "ticks": ""
           },
           "bgcolor": "#E5ECF6",
           "caxis": {
            "gridcolor": "white",
            "linecolor": "white",
            "ticks": ""
           }
          },
          "title": {
           "x": 0.05
          },
          "xaxis": {
           "automargin": true,
           "gridcolor": "white",
           "linecolor": "white",
           "ticks": "",
           "title": {
            "standoff": 15
           },
           "zerolinecolor": "white",
           "zerolinewidth": 2
          },
          "yaxis": {
           "automargin": true,
           "gridcolor": "white",
           "linecolor": "white",
           "ticks": "",
           "title": {
            "standoff": 15
           },
           "zerolinecolor": "white",
           "zerolinewidth": 2
          }
         }
        },
        "xaxis": {
         "anchor": "y",
         "domain": [
          0,
          1
         ],
         "title": {
          "text": "Measure Order"
         }
        },
        "yaxis": {
         "anchor": "x",
         "domain": [
          0,
          1
         ],
         "range": [
          3.1,
          3.5
         ],
         "title": {
          "text": "Cell Gap(um)"
         }
        }
       }
      }
     },
     "metadata": {},
     "output_type": "display_data"
    },
    {
     "name": "stdout",
     "output_type": "stream",
     "text": [
      "ZIX-7061XX + S-NP13\n"
     ]
    },
    {
     "data": {
      "application/vnd.plotly.v1+json": {
       "config": {
        "plotlyServerURL": "https://plot.ly"
       },
       "data": [
        {
         "hovertemplate": "GRADE=G1<br>Measure Order=%{x}<br>Cell Gap(um)=%{y}<extra></extra>",
         "legendgroup": "G1",
         "marker": {
          "color": "#636efa",
          "symbol": "circle"
         },
         "mode": "markers",
         "name": "G1",
         "orientation": "v",
         "showlegend": true,
         "type": "scatter",
         "x": {
          "bdata": "AAECAwQFBgcICQoLDA0ODxAREhMUFhcYGRobHB0eHyAhIiMkJSYnKCorLC0uLzAxMjM0NTY3ODk6Ozw+P0BBQkNERUZHSElKS0xNTk9QAAIDBAUGBwgJCgsMDQ4PEBESExQWFxgZGhscHR4fICEiIyQlJicoKissLS4vMDEyMzQ1Njc4OTo7PD4/QEFCQ0RFRkdISUpLTE1OT1AAAgMEBQYHCAkKCwwNDg8QERITFBYXGBkaGxwdHh8gISIjJCUmJygqKywtLi8wMTIzNDU2Nzg5Ojs8Pj9AQUJDREVGR0hJSktMTU5PUAABAgMEBQYHCAkKCwwNDg8QERITFBYXGBkaGxwdHh8gISIjJCUmJygqKywtLi8wMTIzNDU2Nzg5Ojs8Pj9AQUJDREVGR0hJSktMTU5PUAABAgMEBQYHCAkKCwwNDg8QERITFBYXGBkaGxwdHh8gISIjJCUmJygqKywtLi8wMTIzNDU2Nzg5Ojs8Pj9AQUJDREVGR0hJSktMTU5PUA==",
          "dtype": "i1"
         },
         "xaxis": "x",
         "y": {
          "bdata": "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",
          "dtype": "f8"
         },
         "yaxis": "y"
        },
        {
         "hovertemplate": "GRADE=NG<br>Measure Order=%{x}<br>Cell Gap(um)=%{y}<extra></extra>",
         "legendgroup": "NG",
         "marker": {
          "color": "#EF553B",
          "symbol": "circle"
         },
         "mode": "markers",
         "name": "NG",
         "orientation": "v",
         "showlegend": true,
         "type": "scatter",
         "x": {
          "bdata": "AAIDBAUGBwgJCgsMDQ4PEBESExQWFxgZGhscHR4fICEiIyQlJicoKissLS4vMDEyMzQ1Njc4OTo7PD4/QEFCQ0RFRkdISUpLTE1OT1AAAgMEBQYHCAkKCwwNDg8QERITFBYXGBkaGxwdHh8gISIjJCUmJygqKywtLi8wMTIzNDU2Nzg5Ojs8Pj9AQUJDREVGR0hJSktMTU5PUA==",
          "dtype": "i1"
         },
         "xaxis": "x",
         "y": {
          "bdata": "jgHZ693fCUADsWzmkNQJQLnjTX6LzglAPKQYINHECUAdWI6QgbwJQKvoD808uQlAPzbJj/i1CUBgOq3boLYJQPa0w1+TtQlAA5mdRe+0CUCLxW8KK7UJQCjwTj49tglAmDWxwFe0CUC3Q8Ni1LUJQGOa6V4ntQlAqHNFKSG4CUD6YBkburkJQAjm6PF7uwlAZFdaRuq9CUBs0Jfe/rwJQMeDLXb7LApAI7pnXaMlCkDmr5C5MigKQLx4P26/HApAMswJ2uQQCkCk/Q+wVg0KQOARFaqbCwpAP+YDAp0JCkAuHAjJAgYKQPKZ7J+nAQpAngjiPJwACkBLd9fZkP8JQMo329yY/glAmMKDZtf9CUAO9buwNfsJQIGXGTbK+glAcHuCxHb3CUBXCKuxhPUJQOWYLO4/8glA86ykFd8wCkDO4O8Xs8UJQJq1FJD2vwlAfSJPkq65CUAv4dBbPLwJQArWOJuOwAlAi/1l9+TBCUAJUb6ghcQJQCAL0SFwxAlAev1JfO7ECUCk4ZS5+cYJQEIJM23/yglAlumXiLfOCUBfz9csl80JQL3CgvsBzwlA1h2LbVLRCUAgelImNdQJQGB3uvPE0wlA4X8r2bHRCUC3uMZnsv8JQGeY2lIH2QlAHccPlUbMCUCj5UAPtc0JQKHa4ET0ywlAyQVn8PfLCUAdO6jEdcwJQKcIcHoXzwlARgckYd/OCUBfCaTErs0JQLvx7shYzQlAuamB5nPOCUCmttRBXs8JQL2qs1pgzwlAx/SEJR7QCUAiF5zB388JQIrL8QpEzwlA9katMH3PCUA4Z0Rpb9AJQJkoQup2tglA5NnlWx+2CUDxLawb764JQAMIH0q0pAlAca/MW3WdCUA8o61KIpsJQMnGgy12mwlAgjtQpzyaCUCz0qQUdJsJQO9v0F59nAlAvD5z1qecCUCI9UatMJ0JQFGGqphKnwlAVFc+y/OgCUAcmUf+YKAJQHqM8szLoQlARzmYTYChCUBtqBjnb6IJQOEoeXWOoQlAajANw0ekCUBZwtoYO+EJQEJfevtz0QlAYwys4/jBCUCvRKD6B7EJQF73ViQmqAlAQj9Tr1ukCUBsskY9RKMJQAyP/SyWoglAM1Naf0ugCUDQfTmzXaEJQKdc4V0uoglAe6TBbW2hCUBS7dPxmKEJQDQPYJFfnwlAu0VgrG+gCUCqDrkZbqAJQC/ej9svnwlAkzXqIRqdCUBxytx8I5oJQIpz1NFxNQpAEoWWdf+4CUAMIHwo0bIJQHJO7KF9rAlArTJTWn+rCUC7tyIxQa0JQEdWfhmMsQlAGD4ipkSyCUC9baZCPLIJQME3TZ8dsAlAg/bq46GvCUBTliGOdbEJQFEU6BN5sglA5UaRtYayCUCRe7q6Y7EJQAlP6PUnsQlApBmLprOzCUAs9MEyNrQJQHf0v1yLtglAwwyNJ4IYCkCs5c5MMNwJQFrz4y8tyglAlrTiGwq/CUBQOpFgqrkJQB7/BYIAuQlANs6mI4C7CUBE96xrtLwJQKRv0jQouglAP+QtVz+2CUAR5KCEmbYJQGoy422ltwlAjlw3pby2CUBYchWL37QJQIHQevgysQlA5pE/GHiuCUB2w7ZFma0JQHB6F+/HrQlAKQezCTCsCUA=",
          "dtype": "f8"
         },
         "yaxis": "y"
        }
       ],
       "layout": {
        "legend": {
         "title": {
          "text": "GRADE"
         },
         "tracegroupgap": 0
        },
        "margin": {
         "t": 60
        },
        "template": {
         "data": {
          "bar": [
           {
            "error_x": {
             "color": "#2a3f5f"
            },
            "error_y": {
             "color": "#2a3f5f"
            },
            "marker": {
             "line": {
              "color": "#E5ECF6",
              "width": 0.5
             },
             "pattern": {
              "fillmode": "overlay",
              "size": 10,
              "solidity": 0.2
             }
            },
            "type": "bar"
           }
          ],
          "barpolar": [
           {
            "marker": {
             "line": {
              "color": "#E5ECF6",
              "width": 0.5
             },
             "pattern": {
              "fillmode": "overlay",
              "size": 10,
              "solidity": 0.2
             }
            },
            "type": "barpolar"
           }
          ],
          "carpet": [
           {
            "aaxis": {
             "endlinecolor": "#2a3f5f",
             "gridcolor": "white",
             "linecolor": "white",
             "minorgridcolor": "white",
             "startlinecolor": "#2a3f5f"
            },
            "baxis": {
             "endlinecolor": "#2a3f5f",
             "gridcolor": "white",
             "linecolor": "white",
             "minorgridcolor": "white",
             "startlinecolor": "#2a3f5f"
            },
            "type": "carpet"
           }
          ],
          "choropleth": [
           {
            "colorbar": {
             "outlinewidth": 0,
             "ticks": ""
            },
            "type": "choropleth"
           }
          ],
          "contour": [
           {
            "colorbar": {
             "outlinewidth": 0,
             "ticks": ""
            },
            "colorscale": [
             [
              0,
              "#0d0887"
             ],
             [
              0.1111111111111111,
              "#46039f"
             ],
             [
              0.2222222222222222,
              "#7201a8"
             ],
             [
              0.3333333333333333,
              "#9c179e"
             ],
             [
              0.4444444444444444,
              "#bd3786"
             ],
             [
              0.5555555555555556,
              "#d8576b"
             ],
             [
              0.6666666666666666,
              "#ed7953"
             ],
             [
              0.7777777777777778,
              "#fb9f3a"
             ],
             [
              0.8888888888888888,
              "#fdca26"
             ],
             [
              1,
              "#f0f921"
             ]
            ],
            "type": "contour"
           }
          ],
          "contourcarpet": [
           {
            "colorbar": {
             "outlinewidth": 0,
             "ticks": ""
            },
            "type": "contourcarpet"
           }
          ],
          "heatmap": [
           {
            "colorbar": {
             "outlinewidth": 0,
             "ticks": ""
            },
            "colorscale": [
             [
              0,
              "#0d0887"
             ],
             [
              0.1111111111111111,
              "#46039f"
             ],
             [
              0.2222222222222222,
              "#7201a8"
             ],
             [
              0.3333333333333333,
              "#9c179e"
             ],
             [
              0.4444444444444444,
              "#bd3786"
             ],
             [
              0.5555555555555556,
              "#d8576b"
             ],
             [
              0.6666666666666666,
              "#ed7953"
             ],
             [
              0.7777777777777778,
              "#fb9f3a"
             ],
             [
              0.8888888888888888,
              "#fdca26"
             ],
             [
              1,
              "#f0f921"
             ]
            ],
            "type": "heatmap"
           }
          ],
          "histogram": [
           {
            "marker": {
             "pattern": {
              "fillmode": "overlay",
              "size": 10,
              "solidity": 0.2
             }
            },
            "type": "histogram"
           }
          ],
          "histogram2d": [
           {
            "colorbar": {
             "outlinewidth": 0,
             "ticks": ""
            },
            "colorscale": [
             [
              0,
              "#0d0887"
             ],
             [
              0.1111111111111111,
              "#46039f"
             ],
             [
              0.2222222222222222,
              "#7201a8"
             ],
             [
              0.3333333333333333,
              "#9c179e"
             ],
             [
              0.4444444444444444,
              "#bd3786"
             ],
             [
              0.5555555555555556,
              "#d8576b"
             ],
             [
              0.6666666666666666,
              "#ed7953"
             ],
             [
              0.7777777777777778,
              "#fb9f3a"
             ],
             [
              0.8888888888888888,
              "#fdca26"
             ],
             [
              1,
              "#f0f921"
             ]
            ],
            "type": "histogram2d"
           }
          ],
          "histogram2dcontour": [
           {
            "colorbar": {
             "outlinewidth": 0,
             "ticks": ""
            },
            "colorscale": [
             [
              0,
              "#0d0887"
             ],
             [
              0.1111111111111111,
              "#46039f"
             ],
             [
              0.2222222222222222,
              "#7201a8"
             ],
             [
              0.3333333333333333,
              "#9c179e"
             ],
             [
              0.4444444444444444,
              "#bd3786"
             ],
             [
              0.5555555555555556,
              "#d8576b"
             ],
             [
              0.6666666666666666,
              "#ed7953"
             ],
             [
              0.7777777777777778,
              "#fb9f3a"
             ],
             [
              0.8888888888888888,
              "#fdca26"
             ],
             [
              1,
              "#f0f921"
             ]
            ],
            "type": "histogram2dcontour"
           }
          ],
          "mesh3d": [
           {
            "colorbar": {
             "outlinewidth": 0,
             "ticks": ""
            },
            "type": "mesh3d"
           }
          ],
          "parcoords": [
           {
            "line": {
             "colorbar": {
              "outlinewidth": 0,
              "ticks": ""
             }
            },
            "type": "parcoords"
           }
          ],
          "pie": [
           {
            "automargin": true,
            "type": "pie"
           }
          ],
          "scatter": [
           {
            "fillpattern": {
             "fillmode": "overlay",
             "size": 10,
             "solidity": 0.2
            },
            "type": "scatter"
           }
          ],
          "scatter3d": [
           {
            "line": {
             "colorbar": {
              "outlinewidth": 0,
              "ticks": ""
             }
            },
            "marker": {
             "colorbar": {
              "outlinewidth": 0,
              "ticks": ""
             }
            },
            "type": "scatter3d"
           }
          ],
          "scattercarpet": [
           {
            "marker": {
             "colorbar": {
              "outlinewidth": 0,
              "ticks": ""
             }
            },
            "type": "scattercarpet"
           }
          ],
          "scattergeo": [
           {
            "marker": {
             "colorbar": {
              "outlinewidth": 0,
              "ticks": ""
             }
            },
            "type": "scattergeo"
           }
          ],
          "scattergl": [
           {
            "marker": {
             "colorbar": {
              "outlinewidth": 0,
              "ticks": ""
             }
            },
            "type": "scattergl"
           }
          ],
          "scattermap": [
           {
            "marker": {
             "colorbar": {
              "outlinewidth": 0,
              "ticks": ""
             }
            },
            "type": "scattermap"
           }
          ],
          "scattermapbox": [
           {
            "marker": {
             "colorbar": {
              "outlinewidth": 0,
              "ticks": ""
             }
            },
            "type": "scattermapbox"
           }
          ],
          "scatterpolar": [
           {
            "marker": {
             "colorbar": {
              "outlinewidth": 0,
              "ticks": ""
             }
            },
            "type": "scatterpolar"
           }
          ],
          "scatterpolargl": [
           {
            "marker": {
             "colorbar": {
              "outlinewidth": 0,
              "ticks": ""
             }
            },
            "type": "scatterpolargl"
           }
          ],
          "scatterternary": [
           {
            "marker": {
             "colorbar": {
              "outlinewidth": 0,
              "ticks": ""
             }
            },
            "type": "scatterternary"
           }
          ],
          "surface": [
           {
            "colorbar": {
             "outlinewidth": 0,
             "ticks": ""
            },
            "colorscale": [
             [
              0,
              "#0d0887"
             ],
             [
              0.1111111111111111,
              "#46039f"
             ],
             [
              0.2222222222222222,
              "#7201a8"
             ],
             [
              0.3333333333333333,
              "#9c179e"
             ],
             [
              0.4444444444444444,
              "#bd3786"
             ],
             [
              0.5555555555555556,
              "#d8576b"
             ],
             [
              0.6666666666666666,
              "#ed7953"
             ],
             [
              0.7777777777777778,
              "#fb9f3a"
             ],
             [
              0.8888888888888888,
              "#fdca26"
             ],
             [
              1,
              "#f0f921"
             ]
            ],
            "type": "surface"
           }
          ],
          "table": [
           {
            "cells": {
             "fill": {
              "color": "#EBF0F8"
             },
             "line": {
              "color": "white"
             }
            },
            "header": {
             "fill": {
              "color": "#C8D4E3"
             },
             "line": {
              "color": "white"
             }
            },
            "type": "table"
           }
          ]
         },
         "layout": {
          "annotationdefaults": {
           "arrowcolor": "#2a3f5f",
           "arrowhead": 0,
           "arrowwidth": 1
          },
          "autotypenumbers": "strict",
          "coloraxis": {
           "colorbar": {
            "outlinewidth": 0,
            "ticks": ""
           }
          },
          "colorscale": {
           "diverging": [
            [
             0,
             "#8e0152"
            ],
            [
             0.1,
             "#c51b7d"
            ],
            [
             0.2,
             "#de77ae"
            ],
            [
             0.3,
             "#f1b6da"
            ],
            [
             0.4,
             "#fde0ef"
            ],
            [
             0.5,
             "#f7f7f7"
            ],
            [
             0.6,
             "#e6f5d0"
            ],
            [
             0.7,
             "#b8e186"
            ],
            [
             0.8,
             "#7fbc41"
            ],
            [
             0.9,
             "#4d9221"
            ],
            [
             1,
             "#276419"
            ]
           ],
           "sequential": [
            [
             0,
             "#0d0887"
            ],
            [
             0.1111111111111111,
             "#46039f"
            ],
            [
             0.2222222222222222,
             "#7201a8"
            ],
            [
             0.3333333333333333,
             "#9c179e"
            ],
            [
             0.4444444444444444,
             "#bd3786"
            ],
            [
             0.5555555555555556,
             "#d8576b"
            ],
            [
             0.6666666666666666,
             "#ed7953"
            ],
            [
             0.7777777777777778,
             "#fb9f3a"
            ],
            [
             0.8888888888888888,
             "#fdca26"
            ],
            [
             1,
             "#f0f921"
            ]
           ],
           "sequentialminus": [
            [
             0,
             "#0d0887"
            ],
            [
             0.1111111111111111,
             "#46039f"
            ],
            [
             0.2222222222222222,
             "#7201a8"
            ],
            [
             0.3333333333333333,
             "#9c179e"
            ],
            [
             0.4444444444444444,
             "#bd3786"
            ],
            [
             0.5555555555555556,
             "#d8576b"
            ],
            [
             0.6666666666666666,
             "#ed7953"
            ],
            [
             0.7777777777777778,
             "#fb9f3a"
            ],
            [
             0.8888888888888888,
             "#fdca26"
            ],
            [
             1,
             "#f0f921"
            ]
           ]
          },
          "colorway": [
           "#636efa",
           "#EF553B",
           "#00cc96",
           "#ab63fa",
           "#FFA15A",
           "#19d3f3",
           "#FF6692",
           "#B6E880",
           "#FF97FF",
           "#FECB52"
          ],
          "font": {
           "color": "#2a3f5f"
          },
          "geo": {
           "bgcolor": "white",
           "lakecolor": "white",
           "landcolor": "#E5ECF6",
           "showlakes": true,
           "showland": true,
           "subunitcolor": "white"
          },
          "hoverlabel": {
           "align": "left"
          },
          "hovermode": "closest",
          "mapbox": {
           "style": "light"
          },
          "paper_bgcolor": "white",
          "plot_bgcolor": "#E5ECF6",
          "polar": {
           "angularaxis": {
            "gridcolor": "white",
            "linecolor": "white",
            "ticks": ""
           },
           "bgcolor": "#E5ECF6",
           "radialaxis": {
            "gridcolor": "white",
            "linecolor": "white",
            "ticks": ""
           }
          },
          "scene": {
           "xaxis": {
            "backgroundcolor": "#E5ECF6",
            "gridcolor": "white",
            "gridwidth": 2,
            "linecolor": "white",
            "showbackground": true,
            "ticks": "",
            "zerolinecolor": "white"
           },
           "yaxis": {
            "backgroundcolor": "#E5ECF6",
            "gridcolor": "white",
            "gridwidth": 2,
            "linecolor": "white",
            "showbackground": true,
            "ticks": "",
            "zerolinecolor": "white"
           },
           "zaxis": {
            "backgroundcolor": "#E5ECF6",
            "gridcolor": "white",
            "gridwidth": 2,
            "linecolor": "white",
            "showbackground": true,
            "ticks": "",
            "zerolinecolor": "white"
           }
          },
          "shapedefaults": {
           "line": {
            "color": "#2a3f5f"
           }
          },
          "ternary": {
           "aaxis": {
            "gridcolor": "white",
            "linecolor": "white",
            "ticks": ""
           },
           "baxis": {
            "gridcolor": "white",
            "linecolor": "white",
            "ticks": ""
           },
           "bgcolor": "#E5ECF6",
           "caxis": {
            "gridcolor": "white",
            "linecolor": "white",
            "ticks": ""
           }
          },
          "title": {
           "x": 0.05
          },
          "xaxis": {
           "automargin": true,
           "gridcolor": "white",
           "linecolor": "white",
           "ticks": "",
           "title": {
            "standoff": 15
           },
           "zerolinecolor": "white",
           "zerolinewidth": 2
          },
          "yaxis": {
           "automargin": true,
           "gridcolor": "white",
           "linecolor": "white",
           "ticks": "",
           "title": {
            "standoff": 15
           },
           "zerolinecolor": "white",
           "zerolinewidth": 2
          }
         }
        },
        "xaxis": {
         "anchor": "y",
         "domain": [
          0,
          1
         ],
         "title": {
          "text": "Measure Order"
         }
        },
        "yaxis": {
         "anchor": "x",
         "domain": [
          0,
          1
         ],
         "range": [
          3.1,
          3.5
         ],
         "title": {
          "text": "Cell Gap(um)"
         }
        }
       }
      }
     },
     "metadata": {},
     "output_type": "display_data"
    },
    {
     "name": "stdout",
     "output_type": "stream",
     "text": [
      "LCT-15-1098 + S-WB141\n"
     ]
    },
    {
     "data": {
      "application/vnd.plotly.v1+json": {
       "config": {
        "plotlyServerURL": "https://plot.ly"
       },
       "data": [
        {
         "hovertemplate": "GRADE=NG<br>Measure Order=%{x}<br>Cell Gap(um)=%{y}<extra></extra>",
         "legendgroup": "NG",
         "marker": {
          "color": "#636efa",
          "symbol": "circle"
         },
         "mode": "markers",
         "name": "NG",
         "orientation": "v",
         "showlegend": true,
         "type": "scatter",
         "x": {
          "bdata": "AAECAwQFBgcICQoLDA0ODxAREhMUFhcYGRobHB0eHyAhIiMkJSYnKCorLC0uLzAxMjM0NTY3ODk6Ozw+P0BBQkNERUZHSElKS0xNTk9QAAECAwQFBgcICQoLDA0ODxAREhMUFhcYGRobHB0eHyAhIiMkJSYnKCorLC0uLzAxMjM0NTY3ODk6Ozw+P0BBQkNERUZHSElKS0xNTk9QAAIDBAUGBwgJCgsMDQ4PEBESExQWFxgZGhscHR4fICEiIyQlJicoKissLS4vMDEyMzQ1Njc4OTo7PD4/QEFCQ0RFRkdISUpLTE1OT1A=",
          "dtype": "i1"
         },
         "xaxis": "x",
         "y": {
          "bdata": "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",
          "dtype": "f8"
         },
         "yaxis": "y"
        },
        {
         "hovertemplate": "GRADE=G1<br>Measure Order=%{x}<br>Cell Gap(um)=%{y}<extra></extra>",
         "legendgroup": "G1",
         "marker": {
          "color": "#EF553B",
          "symbol": "circle"
         },
         "mode": "markers",
         "name": "G1",
         "orientation": "v",
         "showlegend": true,
         "type": "scatter",
         "x": {
          "bdata": "AAIDBAUGBwgJCgsMDQ4PEBESExQWFxgZGhscHR4fICEiIyQlJicoKissLS4vMDEyMzQ1Njc4OTo7PD4/QEFCQ0RFRkdISUpLTE1OT1AAAQIDBAUGBwgJCgsMDQ4PEBESExQWFxgZGhscHR4fICEiIyQlJicoKissLS4vMDEyMzQ1Njc4OTo7PD4/QEFCQ0RFRkdISUpLTE1OT1AAAQIDBAUGBwgJCgsMDQ4PEBESExQWFxgZGhscHR4fICEiIyQlJicoKissLS4vMDEyMzQ1Njc4OTo7PD9AQUJDREVGR0hJSktMTU5PUA==",
          "dtype": "i1"
         },
         "xaxis": "x",
         "y": {
          "bdata": "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",
          "dtype": "f8"
         },
         "yaxis": "y"
        }
       ],
       "layout": {
        "legend": {
         "title": {
          "text": "GRADE"
         },
         "tracegroupgap": 0
        },
        "margin": {
         "t": 60
        },
        "template": {
         "data": {
          "bar": [
           {
            "error_x": {
             "color": "#2a3f5f"
            },
            "error_y": {
             "color": "#2a3f5f"
            },
            "marker": {
             "line": {
              "color": "#E5ECF6",
              "width": 0.5
             },
             "pattern": {
              "fillmode": "overlay",
              "size": 10,
              "solidity": 0.2
             }
            },
            "type": "bar"
           }
          ],
          "barpolar": [
           {
            "marker": {
             "line": {
              "color": "#E5ECF6",
              "width": 0.5
             },
             "pattern": {
              "fillmode": "overlay",
              "size": 10,
              "solidity": 0.2
             }
            },
            "type": "barpolar"
           }
          ],
          "carpet": [
           {
            "aaxis": {
             "endlinecolor": "#2a3f5f",
             "gridcolor": "white",
             "linecolor": "white",
             "minorgridcolor": "white",
             "startlinecolor": "#2a3f5f"
            },
            "baxis": {
             "endlinecolor": "#2a3f5f",
             "gridcolor": "white",
             "linecolor": "white",
             "minorgridcolor": "white",
             "startlinecolor": "#2a3f5f"
            },
            "type": "carpet"
           }
          ],
          "choropleth": [
           {
            "colorbar": {
             "outlinewidth": 0,
             "ticks": ""
            },
            "type": "choropleth"
           }
          ],
          "contour": [
           {
            "colorbar": {
             "outlinewidth": 0,
             "ticks": ""
            },
            "colorscale": [
             [
              0,
              "#0d0887"
             ],
             [
              0.1111111111111111,
              "#46039f"
             ],
             [
              0.2222222222222222,
              "#7201a8"
             ],
             [
              0.3333333333333333,
              "#9c179e"
             ],
             [
              0.4444444444444444,
              "#bd3786"
             ],
             [
              0.5555555555555556,
              "#d8576b"
             ],
             [
              0.6666666666666666,
              "#ed7953"
             ],
             [
              0.7777777777777778,
              "#fb9f3a"
             ],
             [
              0.8888888888888888,
              "#fdca26"
             ],
             [
              1,
              "#f0f921"
             ]
            ],
            "type": "contour"
           }
          ],
          "contourcarpet": [
           {
            "colorbar": {
             "outlinewidth": 0,
             "ticks": ""
            },
            "type": "contourcarpet"
           }
          ],
          "heatmap": [
           {
            "colorbar": {
             "outlinewidth": 0,
             "ticks": ""
            },
            "colorscale": [
             [
              0,
              "#0d0887"
             ],
             [
              0.1111111111111111,
              "#46039f"
             ],
             [
              0.2222222222222222,
              "#7201a8"
             ],
             [
              0.3333333333333333,
              "#9c179e"
             ],
             [
              0.4444444444444444,
              "#bd3786"
             ],
             [
              0.5555555555555556,
              "#d8576b"
             ],
             [
              0.6666666666666666,
              "#ed7953"
             ],
             [
              0.7777777777777778,
              "#fb9f3a"
             ],
             [
              0.8888888888888888,
              "#fdca26"
             ],
             [
              1,
              "#f0f921"
             ]
            ],
            "type": "heatmap"
           }
          ],
          "histogram": [
           {
            "marker": {
             "pattern": {
              "fillmode": "overlay",
              "size": 10,
              "solidity": 0.2
             }
            },
            "type": "histogram"
           }
          ],
          "histogram2d": [
           {
            "colorbar": {
             "outlinewidth": 0,
             "ticks": ""
            },
            "colorscale": [
             [
              0,
              "#0d0887"
             ],
             [
              0.1111111111111111,
              "#46039f"
             ],
             [
              0.2222222222222222,
              "#7201a8"
             ],
             [
              0.3333333333333333,
              "#9c179e"
             ],
             [
              0.4444444444444444,
              "#bd3786"
             ],
             [
              0.5555555555555556,
              "#d8576b"
             ],
             [
              0.6666666666666666,
              "#ed7953"
             ],
             [
              0.7777777777777778,
              "#fb9f3a"
             ],
             [
              0.8888888888888888,
              "#fdca26"
             ],
             [
              1,
              "#f0f921"
             ]
            ],
            "type": "histogram2d"
           }
          ],
          "histogram2dcontour": [
           {
            "colorbar": {
             "outlinewidth": 0,
             "ticks": ""
            },
            "colorscale": [
             [
              0,
              "#0d0887"
             ],
             [
              0.1111111111111111,
              "#46039f"
             ],
             [
              0.2222222222222222,
              "#7201a8"
             ],
             [
              0.3333333333333333,
              "#9c179e"
             ],
             [
              0.4444444444444444,
              "#bd3786"
             ],
             [
              0.5555555555555556,
              "#d8576b"
             ],
             [
              0.6666666666666666,
              "#ed7953"
             ],
             [
              0.7777777777777778,
              "#fb9f3a"
             ],
             [
              0.8888888888888888,
              "#fdca26"
             ],
             [
              1,
              "#f0f921"
             ]
            ],
            "type": "histogram2dcontour"
           }
          ],
          "mesh3d": [
           {
            "colorbar": {
             "outlinewidth": 0,
             "ticks": ""
            },
            "type": "mesh3d"
           }
          ],
          "parcoords": [
           {
            "line": {
             "colorbar": {
              "outlinewidth": 0,
              "ticks": ""
             }
            },
            "type": "parcoords"
           }
          ],
          "pie": [
           {
            "automargin": true,
            "type": "pie"
           }
          ],
          "scatter": [
           {
            "fillpattern": {
             "fillmode": "overlay",
             "size": 10,
             "solidity": 0.2
            },
            "type": "scatter"
           }
          ],
          "scatter3d": [
           {
            "line": {
             "colorbar": {
              "outlinewidth": 0,
              "ticks": ""
             }
            },
            "marker": {
             "colorbar": {
              "outlinewidth": 0,
              "ticks": ""
             }
            },
            "type": "scatter3d"
           }
          ],
          "scattercarpet": [
           {
            "marker": {
             "colorbar": {
              "outlinewidth": 0,
              "ticks": ""
             }
            },
            "type": "scattercarpet"
           }
          ],
          "scattergeo": [
           {
            "marker": {
             "colorbar": {
              "outlinewidth": 0,
              "ticks": ""
             }
            },
            "type": "scattergeo"
           }
          ],
          "scattergl": [
           {
            "marker": {
             "colorbar": {
              "outlinewidth": 0,
              "ticks": ""
             }
            },
            "type": "scattergl"
           }
          ],
          "scattermap": [
           {
            "marker": {
             "colorbar": {
              "outlinewidth": 0,
              "ticks": ""
             }
            },
            "type": "scattermap"
           }
          ],
          "scattermapbox": [
           {
            "marker": {
             "colorbar": {
              "outlinewidth": 0,
              "ticks": ""
             }
            },
            "type": "scattermapbox"
           }
          ],
          "scatterpolar": [
           {
            "marker": {
             "colorbar": {
              "outlinewidth": 0,
              "ticks": ""
             }
            },
            "type": "scatterpolar"
           }
          ],
          "scatterpolargl": [
           {
            "marker": {
             "colorbar": {
              "outlinewidth": 0,
              "ticks": ""
             }
            },
            "type": "scatterpolargl"
           }
          ],
          "scatterternary": [
           {
            "marker": {
             "colorbar": {
              "outlinewidth": 0,
              "ticks": ""
             }
            },
            "type": "scatterternary"
           }
          ],
          "surface": [
           {
            "colorbar": {
             "outlinewidth": 0,
             "ticks": ""
            },
            "colorscale": [
             [
              0,
              "#0d0887"
             ],
             [
              0.1111111111111111,
              "#46039f"
             ],
             [
              0.2222222222222222,
              "#7201a8"
             ],
             [
              0.3333333333333333,
              "#9c179e"
             ],
             [
              0.4444444444444444,
              "#bd3786"
             ],
             [
              0.5555555555555556,
              "#d8576b"
             ],
             [
              0.6666666666666666,
              "#ed7953"
             ],
             [
              0.7777777777777778,
              "#fb9f3a"
             ],
             [
              0.8888888888888888,
              "#fdca26"
             ],
             [
              1,
              "#f0f921"
             ]
            ],
            "type": "surface"
           }
          ],
          "table": [
           {
            "cells": {
             "fill": {
              "color": "#EBF0F8"
             },
             "line": {
              "color": "white"
             }
            },
            "header": {
             "fill": {
              "color": "#C8D4E3"
             },
             "line": {
              "color": "white"
             }
            },
            "type": "table"
           }
          ]
         },
         "layout": {
          "annotationdefaults": {
           "arrowcolor": "#2a3f5f",
           "arrowhead": 0,
           "arrowwidth": 1
          },
          "autotypenumbers": "strict",
          "coloraxis": {
           "colorbar": {
            "outlinewidth": 0,
            "ticks": ""
           }
          },
          "colorscale": {
           "diverging": [
            [
             0,
             "#8e0152"
            ],
            [
             0.1,
             "#c51b7d"
            ],
            [
             0.2,
             "#de77ae"
            ],
            [
             0.3,
             "#f1b6da"
            ],
            [
             0.4,
             "#fde0ef"
            ],
            [
             0.5,
             "#f7f7f7"
            ],
            [
             0.6,
             "#e6f5d0"
            ],
            [
             0.7,
             "#b8e186"
            ],
            [
             0.8,
             "#7fbc41"
            ],
            [
             0.9,
             "#4d9221"
            ],
            [
             1,
             "#276419"
            ]
           ],
           "sequential": [
            [
             0,
             "#0d0887"
            ],
            [
             0.1111111111111111,
             "#46039f"
            ],
            [
             0.2222222222222222,
             "#7201a8"
            ],
            [
             0.3333333333333333,
             "#9c179e"
            ],
            [
             0.4444444444444444,
             "#bd3786"
            ],
            [
             0.5555555555555556,
             "#d8576b"
            ],
            [
             0.6666666666666666,
             "#ed7953"
            ],
            [
             0.7777777777777778,
             "#fb9f3a"
            ],
            [
             0.8888888888888888,
             "#fdca26"
            ],
            [
             1,
             "#f0f921"
            ]
           ],
           "sequentialminus": [
            [
             0,
             "#0d0887"
            ],
            [
             0.1111111111111111,
             "#46039f"
            ],
            [
             0.2222222222222222,
             "#7201a8"
            ],
            [
             0.3333333333333333,
             "#9c179e"
            ],
            [
             0.4444444444444444,
             "#bd3786"
            ],
            [
             0.5555555555555556,
             "#d8576b"
            ],
            [
             0.6666666666666666,
             "#ed7953"
            ],
            [
             0.7777777777777778,
             "#fb9f3a"
            ],
            [
             0.8888888888888888,
             "#fdca26"
            ],
            [
             1,
             "#f0f921"
            ]
           ]
          },
          "colorway": [
           "#636efa",
           "#EF553B",
           "#00cc96",
           "#ab63fa",
           "#FFA15A",
           "#19d3f3",
           "#FF6692",
           "#B6E880",
           "#FF97FF",
           "#FECB52"
          ],
          "font": {
           "color": "#2a3f5f"
          },
          "geo": {
           "bgcolor": "white",
           "lakecolor": "white",
           "landcolor": "#E5ECF6",
           "showlakes": true,
           "showland": true,
           "subunitcolor": "white"
          },
          "hoverlabel": {
           "align": "left"
          },
          "hovermode": "closest",
          "mapbox": {
           "style": "light"
          },
          "paper_bgcolor": "white",
          "plot_bgcolor": "#E5ECF6",
          "polar": {
           "angularaxis": {
            "gridcolor": "white",
            "linecolor": "white",
            "ticks": ""
           },
           "bgcolor": "#E5ECF6",
           "radialaxis": {
            "gridcolor": "white",
            "linecolor": "white",
            "ticks": ""
           }
          },
          "scene": {
           "xaxis": {
            "backgroundcolor": "#E5ECF6",
            "gridcolor": "white",
            "gridwidth": 2,
            "linecolor": "white",
            "showbackground": true,
            "ticks": "",
            "zerolinecolor": "white"
           },
           "yaxis": {
            "backgroundcolor": "#E5ECF6",
            "gridcolor": "white",
            "gridwidth": 2,
            "linecolor": "white",
            "showbackground": true,
            "ticks": "",
            "zerolinecolor": "white"
           },
           "zaxis": {
            "backgroundcolor": "#E5ECF6",
            "gridcolor": "white",
            "gridwidth": 2,
            "linecolor": "white",
            "showbackground": true,
            "ticks": "",
            "zerolinecolor": "white"
           }
          },
          "shapedefaults": {
           "line": {
            "color": "#2a3f5f"
           }
          },
          "ternary": {
           "aaxis": {
            "gridcolor": "white",
            "linecolor": "white",
            "ticks": ""
           },
           "baxis": {
            "gridcolor": "white",
            "linecolor": "white",
            "ticks": ""
           },
           "bgcolor": "#E5ECF6",
           "caxis": {
            "gridcolor": "white",
            "linecolor": "white",
            "ticks": ""
           }
          },
          "title": {
           "x": 0.05
          },
          "xaxis": {
           "automargin": true,
           "gridcolor": "white",
           "linecolor": "white",
           "ticks": "",
           "title": {
            "standoff": 15
           },
           "zerolinecolor": "white",
           "zerolinewidth": 2
          },
          "yaxis": {
           "automargin": true,
           "gridcolor": "white",
           "linecolor": "white",
           "ticks": "",
           "title": {
            "standoff": 15
           },
           "zerolinecolor": "white",
           "zerolinewidth": 2
          }
         }
        },
        "xaxis": {
         "anchor": "y",
         "domain": [
          0,
          1
         ],
         "title": {
          "text": "Measure Order"
         }
        },
        "yaxis": {
         "anchor": "x",
         "domain": [
          0,
          1
         ],
         "range": [
          3.1,
          3.5
         ],
         "title": {
          "text": "Cell Gap(um)"
         }
        }
       }
      }
     },
     "metadata": {},
     "output_type": "display_data"
    }
   ],
   "source": [
    "fig = SealAnalysis.Plot.around_gap(\n",
    "    around_gap.filter(pl.col(\"RMS(%)\") < 1), # RMS < 0.3 -> no large jump point\n",
    "    x='Measure Order',\n",
    "    y='Cell Gap(um)',\n",
    "    color='GRADE',\n",
    ")"
   ]
  },
  {
   "cell_type": "code",
   "execution_count": 42,
   "metadata": {},
   "outputs": [
    {
     "name": "stdout",
     "output_type": "stream",
     "text": [
      "LCT-15-1098 + S-WB141\n"
     ]
    },
    {
     "data": {
      "application/vnd.plotly.v1+json": {
       "config": {
        "plotlyServerURL": "https://plot.ly"
       },
       "data": [
        {
         "hovertemplate": "GRADE=NG<br>Measure Order=%{x}<br>Cell Gap(um)=%{y}<extra></extra>",
         "legendgroup": "NG",
         "marker": {
          "color": "#636efa",
          "symbol": "circle"
         },
         "mode": "markers",
         "name": "NG",
         "orientation": "v",
         "showlegend": true,
         "type": "scatter",
         "x": {
          "bdata": "AAIDBAUGBwgJCgsMDQ4PEBESExQWFxgZGhscHR4fICEiIyQlJicoKywtLi8wMTIzNDU2Nzg5Ojs8Pj9AQUJDREVGR0hJSktMTU5PUAACAwQFBgcICQoLDA0ODxAREhMUFhcYGRobHB0eHyAhIiMkJSYnKCssLS4vMDEyMzQ1Njc4OTo7PD4/QEFCQ0RFRkdISUpLTE1OT1AAAgMEBQYHCAkKCwwNDg8QERITFBYXGBkaGxwdHh8gISIjJCUmJygrLC0uLzAxMjM0NTY3ODk6Ozw+P0BBQkNERUZHSElKS0xNTk9Q",
          "dtype": "i1"
         },
         "xaxis": "x",
         "y": {
          "bdata": "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",
          "dtype": "f8"
         },
         "yaxis": "y"
        },
        {
         "hovertemplate": "GRADE=G1<br>Measure Order=%{x}<br>Cell Gap(um)=%{y}<extra></extra>",
         "legendgroup": "G1",
         "marker": {
          "color": "#EF553B",
          "symbol": "circle"
         },
         "mode": "markers",
         "name": "G1",
         "orientation": "v",
         "showlegend": true,
         "type": "scatter",
         "x": {
          "bdata": "AAIDBAUGBwgJCgsMDQ4PEBESExQWFxgZGhscHR4fICEiIyQlJicoKywtLi8wMTIzNDU2Nzg5Ojs8Pj9AQUJDREVGR0hJSktMTU5PUAACAwQFBgcICQoLDA0ODxAREhMUFhcYGRobHB0eHyAhIiMkJSYnKCssLS4vMDEyMzQ1Njc4OTo7PD4/QEFCQ0RFRkdISUpLTE1OT1AAAgMEBQYHCAkKCwwNDg8QERITFBYXGBkaGxwdHh8gISIjJCUmJygrLC0uLzAxMjM0NTY3ODk6Ozw/QEFCQ0RFRkdISUpLTE1OT1A=",
          "dtype": "i1"
         },
         "xaxis": "x",
         "y": {
          "bdata": "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",
          "dtype": "f8"
         },
         "yaxis": "y"
        }
       ],
       "layout": {
        "legend": {
         "title": {
          "text": "GRADE"
         },
         "tracegroupgap": 0
        },
        "margin": {
         "t": 60
        },
        "template": {
         "data": {
          "bar": [
           {
            "error_x": {
             "color": "#2a3f5f"
            },
            "error_y": {
             "color": "#2a3f5f"
            },
            "marker": {
             "line": {
              "color": "#E5ECF6",
              "width": 0.5
             },
             "pattern": {
              "fillmode": "overlay",
              "size": 10,
              "solidity": 0.2
             }
            },
            "type": "bar"
           }
          ],
          "barpolar": [
           {
            "marker": {
             "line": {
              "color": "#E5ECF6",
              "width": 0.5
             },
             "pattern": {
              "fillmode": "overlay",
              "size": 10,
              "solidity": 0.2
             }
            },
            "type": "barpolar"
           }
          ],
          "carpet": [
           {
            "aaxis": {
             "endlinecolor": "#2a3f5f",
             "gridcolor": "white",
             "linecolor": "white",
             "minorgridcolor": "white",
             "startlinecolor": "#2a3f5f"
            },
            "baxis": {
             "endlinecolor": "#2a3f5f",
             "gridcolor": "white",
             "linecolor": "white",
             "minorgridcolor": "white",
             "startlinecolor": "#2a3f5f"
            },
            "type": "carpet"
           }
          ],
          "choropleth": [
           {
            "colorbar": {
             "outlinewidth": 0,
             "ticks": ""
            },
            "type": "choropleth"
           }
          ],
          "contour": [
           {
            "colorbar": {
             "outlinewidth": 0,
             "ticks": ""
            },
            "colorscale": [
             [
              0,
              "#0d0887"
             ],
             [
              0.1111111111111111,
              "#46039f"
             ],
             [
              0.2222222222222222,
              "#7201a8"
             ],
             [
              0.3333333333333333,
              "#9c179e"
             ],
             [
              0.4444444444444444,
              "#bd3786"
             ],
             [
              0.5555555555555556,
              "#d8576b"
             ],
             [
              0.6666666666666666,
              "#ed7953"
             ],
             [
              0.7777777777777778,
              "#fb9f3a"
             ],
             [
              0.8888888888888888,
              "#fdca26"
             ],
             [
              1,
              "#f0f921"
             ]
            ],
            "type": "contour"
           }
          ],
          "contourcarpet": [
           {
            "colorbar": {
             "outlinewidth": 0,
             "ticks": ""
            },
            "type": "contourcarpet"
           }
          ],
          "heatmap": [
           {
            "colorbar": {
             "outlinewidth": 0,
             "ticks": ""
            },
            "colorscale": [
             [
              0,
              "#0d0887"
             ],
             [
              0.1111111111111111,
              "#46039f"
             ],
             [
              0.2222222222222222,
              "#7201a8"
             ],
             [
              0.3333333333333333,
              "#9c179e"
             ],
             [
              0.4444444444444444,
              "#bd3786"
             ],
             [
              0.5555555555555556,
              "#d8576b"
             ],
             [
              0.6666666666666666,
              "#ed7953"
             ],
             [
              0.7777777777777778,
              "#fb9f3a"
             ],
             [
              0.8888888888888888,
              "#fdca26"
             ],
             [
              1,
              "#f0f921"
             ]
            ],
            "type": "heatmap"
           }
          ],
          "histogram": [
           {
            "marker": {
             "pattern": {
              "fillmode": "overlay",
              "size": 10,
              "solidity": 0.2
             }
            },
            "type": "histogram"
           }
          ],
          "histogram2d": [
           {
            "colorbar": {
             "outlinewidth": 0,
             "ticks": ""
            },
            "colorscale": [
             [
              0,
              "#0d0887"
             ],
             [
              0.1111111111111111,
              "#46039f"
             ],
             [
              0.2222222222222222,
              "#7201a8"
             ],
             [
              0.3333333333333333,
              "#9c179e"
             ],
             [
              0.4444444444444444,
              "#bd3786"
             ],
             [
              0.5555555555555556,
              "#d8576b"
             ],
             [
              0.6666666666666666,
              "#ed7953"
             ],
             [
              0.7777777777777778,
              "#fb9f3a"
             ],
             [
              0.8888888888888888,
              "#fdca26"
             ],
             [
              1,
              "#f0f921"
             ]
            ],
            "type": "histogram2d"
           }
          ],
          "histogram2dcontour": [
           {
            "colorbar": {
             "outlinewidth": 0,
             "ticks": ""
            },
            "colorscale": [
             [
              0,
              "#0d0887"
             ],
             [
              0.1111111111111111,
              "#46039f"
             ],
             [
              0.2222222222222222,
              "#7201a8"
             ],
             [
              0.3333333333333333,
              "#9c179e"
             ],
             [
              0.4444444444444444,
              "#bd3786"
             ],
             [
              0.5555555555555556,
              "#d8576b"
             ],
             [
              0.6666666666666666,
              "#ed7953"
             ],
             [
              0.7777777777777778,
              "#fb9f3a"
             ],
             [
              0.8888888888888888,
              "#fdca26"
             ],
             [
              1,
              "#f0f921"
             ]
            ],
            "type": "histogram2dcontour"
           }
          ],
          "mesh3d": [
           {
            "colorbar": {
             "outlinewidth": 0,
             "ticks": ""
            },
            "type": "mesh3d"
           }
          ],
          "parcoords": [
           {
            "line": {
             "colorbar": {
              "outlinewidth": 0,
              "ticks": ""
             }
            },
            "type": "parcoords"
           }
          ],
          "pie": [
           {
            "automargin": true,
            "type": "pie"
           }
          ],
          "scatter": [
           {
            "fillpattern": {
             "fillmode": "overlay",
             "size": 10,
             "solidity": 0.2
            },
            "type": "scatter"
           }
          ],
          "scatter3d": [
           {
            "line": {
             "colorbar": {
              "outlinewidth": 0,
              "ticks": ""
             }
            },
            "marker": {
             "colorbar": {
              "outlinewidth": 0,
              "ticks": ""
             }
            },
            "type": "scatter3d"
           }
          ],
          "scattercarpet": [
           {
            "marker": {
             "colorbar": {
              "outlinewidth": 0,
              "ticks": ""
             }
            },
            "type": "scattercarpet"
           }
          ],
          "scattergeo": [
           {
            "marker": {
             "colorbar": {
              "outlinewidth": 0,
              "ticks": ""
             }
            },
            "type": "scattergeo"
           }
          ],
          "scattergl": [
           {
            "marker": {
             "colorbar": {
              "outlinewidth": 0,
              "ticks": ""
             }
            },
            "type": "scattergl"
           }
          ],
          "scattermap": [
           {
            "marker": {
             "colorbar": {
              "outlinewidth": 0,
              "ticks": ""
             }
            },
            "type": "scattermap"
           }
          ],
          "scattermapbox": [
           {
            "marker": {
             "colorbar": {
              "outlinewidth": 0,
              "ticks": ""
             }
            },
            "type": "scattermapbox"
           }
          ],
          "scatterpolar": [
           {
            "marker": {
             "colorbar": {
              "outlinewidth": 0,
              "ticks": ""
             }
            },
            "type": "scatterpolar"
           }
          ],
          "scatterpolargl": [
           {
            "marker": {
             "colorbar": {
              "outlinewidth": 0,
              "ticks": ""
             }
            },
            "type": "scatterpolargl"
           }
          ],
          "scatterternary": [
           {
            "marker": {
             "colorbar": {
              "outlinewidth": 0,
              "ticks": ""
             }
            },
            "type": "scatterternary"
           }
          ],
          "surface": [
           {
            "colorbar": {
             "outlinewidth": 0,
             "ticks": ""
            },
            "colorscale": [
             [
              0,
              "#0d0887"
             ],
             [
              0.1111111111111111,
              "#46039f"
             ],
             [
              0.2222222222222222,
              "#7201a8"
             ],
             [
              0.3333333333333333,
              "#9c179e"
             ],
             [
              0.4444444444444444,
              "#bd3786"
             ],
             [
              0.5555555555555556,
              "#d8576b"
             ],
             [
              0.6666666666666666,
              "#ed7953"
             ],
             [
              0.7777777777777778,
              "#fb9f3a"
             ],
             [
              0.8888888888888888,
              "#fdca26"
             ],
             [
              1,
              "#f0f921"
             ]
            ],
            "type": "surface"
           }
          ],
          "table": [
           {
            "cells": {
             "fill": {
              "color": "#EBF0F8"
             },
             "line": {
              "color": "white"
             }
            },
            "header": {
             "fill": {
              "color": "#C8D4E3"
             },
             "line": {
              "color": "white"
             }
            },
            "type": "table"
           }
          ]
         },
         "layout": {
          "annotationdefaults": {
           "arrowcolor": "#2a3f5f",
           "arrowhead": 0,
           "arrowwidth": 1
          },
          "autotypenumbers": "strict",
          "coloraxis": {
           "colorbar": {
            "outlinewidth": 0,
            "ticks": ""
           }
          },
          "colorscale": {
           "diverging": [
            [
             0,
             "#8e0152"
            ],
            [
             0.1,
             "#c51b7d"
            ],
            [
             0.2,
             "#de77ae"
            ],
            [
             0.3,
             "#f1b6da"
            ],
            [
             0.4,
             "#fde0ef"
            ],
            [
             0.5,
             "#f7f7f7"
            ],
            [
             0.6,
             "#e6f5d0"
            ],
            [
             0.7,
             "#b8e186"
            ],
            [
             0.8,
             "#7fbc41"
            ],
            [
             0.9,
             "#4d9221"
            ],
            [
             1,
             "#276419"
            ]
           ],
           "sequential": [
            [
             0,
             "#0d0887"
            ],
            [
             0.1111111111111111,
             "#46039f"
            ],
            [
             0.2222222222222222,
             "#7201a8"
            ],
            [
             0.3333333333333333,
             "#9c179e"
            ],
            [
             0.4444444444444444,
             "#bd3786"
            ],
            [
             0.5555555555555556,
             "#d8576b"
            ],
            [
             0.6666666666666666,
             "#ed7953"
            ],
            [
             0.7777777777777778,
             "#fb9f3a"
            ],
            [
             0.8888888888888888,
             "#fdca26"
            ],
            [
             1,
             "#f0f921"
            ]
           ],
           "sequentialminus": [
            [
             0,
             "#0d0887"
            ],
            [
             0.1111111111111111,
             "#46039f"
            ],
            [
             0.2222222222222222,
             "#7201a8"
            ],
            [
             0.3333333333333333,
             "#9c179e"
            ],
            [
             0.4444444444444444,
             "#bd3786"
            ],
            [
             0.5555555555555556,
             "#d8576b"
            ],
            [
             0.6666666666666666,
             "#ed7953"
            ],
            [
             0.7777777777777778,
             "#fb9f3a"
            ],
            [
             0.8888888888888888,
             "#fdca26"
            ],
            [
             1,
             "#f0f921"
            ]
           ]
          },
          "colorway": [
           "#636efa",
           "#EF553B",
           "#00cc96",
           "#ab63fa",
           "#FFA15A",
           "#19d3f3",
           "#FF6692",
           "#B6E880",
           "#FF97FF",
           "#FECB52"
          ],
          "font": {
           "color": "#2a3f5f"
          },
          "geo": {
           "bgcolor": "white",
           "lakecolor": "white",
           "landcolor": "#E5ECF6",
           "showlakes": true,
           "showland": true,
           "subunitcolor": "white"
          },
          "hoverlabel": {
           "align": "left"
          },
          "hovermode": "closest",
          "mapbox": {
           "style": "light"
          },
          "paper_bgcolor": "white",
          "plot_bgcolor": "#E5ECF6",
          "polar": {
           "angularaxis": {
            "gridcolor": "white",
            "linecolor": "white",
            "ticks": ""
           },
           "bgcolor": "#E5ECF6",
           "radialaxis": {
            "gridcolor": "white",
            "linecolor": "white",
            "ticks": ""
           }
          },
          "scene": {
           "xaxis": {
            "backgroundcolor": "#E5ECF6",
            "gridcolor": "white",
            "gridwidth": 2,
            "linecolor": "white",
            "showbackground": true,
            "ticks": "",
            "zerolinecolor": "white"
           },
           "yaxis": {
            "backgroundcolor": "#E5ECF6",
            "gridcolor": "white",
            "gridwidth": 2,
            "linecolor": "white",
            "showbackground": true,
            "ticks": "",
            "zerolinecolor": "white"
           },
           "zaxis": {
            "backgroundcolor": "#E5ECF6",
            "gridcolor": "white",
            "gridwidth": 2,
            "linecolor": "white",
            "showbackground": true,
            "ticks": "",
            "zerolinecolor": "white"
           }
          },
          "shapedefaults": {
           "line": {
            "color": "#2a3f5f"
           }
          },
          "ternary": {
           "aaxis": {
            "gridcolor": "white",
            "linecolor": "white",
            "ticks": ""
           },
           "baxis": {
            "gridcolor": "white",
            "linecolor": "white",
            "ticks": ""
           },
           "bgcolor": "#E5ECF6",
           "caxis": {
            "gridcolor": "white",
            "linecolor": "white",
            "ticks": ""
           }
          },
          "title": {
           "x": 0.05
          },
          "xaxis": {
           "automargin": true,
           "gridcolor": "white",
           "linecolor": "white",
           "ticks": "",
           "title": {
            "standoff": 15
           },
           "zerolinecolor": "white",
           "zerolinewidth": 2
          },
          "yaxis": {
           "automargin": true,
           "gridcolor": "white",
           "linecolor": "white",
           "ticks": "",
           "title": {
            "standoff": 15
           },
           "zerolinecolor": "white",
           "zerolinewidth": 2
          }
         }
        },
        "xaxis": {
         "anchor": "y",
         "domain": [
          0,
          1
         ],
         "title": {
          "text": "Measure Order"
         }
        },
        "yaxis": {
         "anchor": "x",
         "domain": [
          0,
          1
         ],
         "range": [
          3.1,
          3.5
         ],
         "title": {
          "text": "Cell Gap(um)"
         }
        }
       }
      }
     },
     "metadata": {},
     "output_type": "display_data"
    },
    {
     "name": "stdout",
     "output_type": "stream",
     "text": [
      "ZIX-7061XX + S-NP13\n"
     ]
    },
    {
     "data": {
      "application/vnd.plotly.v1+json": {
       "config": {
        "plotlyServerURL": "https://plot.ly"
       },
       "data": [
        {
         "hovertemplate": "GRADE=G1<br>Measure Order=%{x}<br>Cell Gap(um)=%{y}<extra></extra>",
         "legendgroup": "G1",
         "marker": {
          "color": "#636efa",
          "symbol": "circle"
         },
         "mode": "markers",
         "name": "G1",
         "orientation": "v",
         "showlegend": true,
         "type": "scatter",
         "x": {
          "bdata": "AAIDBAUGBwgJCgsMDQ4PEBESExQWFxgZGhscHR4fICEiIyQlJicoKywtLi8wMTIzNDU2Nzg5Ojs8P0BBQkNERUZHSElKS0xNTk9QAAIDBAUGBwgJCgsMDQ4PEBESExQXGBkaGxwdHh8gISIjJCUmJygrLC0uLzAxMjM0NTY3ODk6Ozw/QEFCQ0RFRkdISUpLTE1OT1AAAgMEBQYHCAkKCwwNDg8QERITFBYXGBkaGxwdHh8gISIjJCUmJygrLC0uLzAxMjM0NTY3ODk6Ozw/QEFCQ0RFRkdISUpLTE1OT1AAAgMEBQYHCAkKCwwNDg8QERITFBcYGRobHB0eHyAhIiMkJSYnKCssLS4vMDEyMzQ1Njc4OTo7PD9AQUJDREVGR0hJSktMTU5PUAACAwQFBgcICQoLDA0ODxAREhMUFhcYGRobHB0eHyAhIiMkJSYnKCssLS4vMDEyMzQ1Njc4OTo7PD9AQUJDREVGR0hJSktMTU5PUA==",
          "dtype": "i1"
         },
         "xaxis": "x",
         "y": {
          "bdata": "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",
          "dtype": "f8"
         },
         "yaxis": "y"
        },
        {
         "hovertemplate": "GRADE=NG<br>Measure Order=%{x}<br>Cell Gap(um)=%{y}<extra></extra>",
         "legendgroup": "NG",
         "marker": {
          "color": "#EF553B",
          "symbol": "circle"
         },
         "mode": "markers",
         "name": "NG",
         "orientation": "v",
         "showlegend": true,
         "type": "scatter",
         "x": {
          "bdata": "AAIDBAUGBwgJCgsMDQ4PEBESExQXGBkaGxwdHh8gISIjJCUmJygrLC0uLzAxMjM0NTY3ODk6Ozw/QEFCQ0RFRkdISUpLTE1OT1AAAgMEBQYHCAkKCwwNDg8QERITFBYXGBkaGxwdHh8gISIjJCUmJygrLC0uLzAxMjM0NTY3ODk6Ozw/QEFCQ0RFRkdISUpLTE1OT1A=",
          "dtype": "i1"
         },
         "xaxis": "x",
         "y": {
          "bdata": "jgHZ693fCUADsWzmkNQJQLnjTX6LzglAPKQYINHECUAdWI6QgbwJQKvoD808uQlAPzbJj/i1CUBgOq3boLYJQPa0w1+TtQlAA5mdRe+0CUCLxW8KK7UJQCjwTj49tglAmDWxwFe0CUC3Q8Ni1LUJQGOa6V4ntQlAqHNFKSG4CUD6YBkburkJQAjm6PF7uwlAZFdaRuq9CUBs0Jfe/rwJQCO6Z12jJQpA5q+QuTIoCkC8eD9uvxwKQDLMCdrkEApApP0PsFYNCkDgERWqmwsKQD/mAwKdCQpALhwIyQIGCkDymeyfpwEKQJ4I4jycAApAS3fX2ZD/CUDKN9vcmP4JQJjCg2bX/QlADvW7sDX7CUCBlxk2yvoJQHB7gsR29wlAVwirsYT1CUDlmCzuP/IJQM7g7xezxQlAmrUUkPa/CUB9Ik+SrrkJQC/h0Fs8vAlACtY4m47ACUCL/WX35MEJQAlRvqCFxAlAIAvRIXDECUB6/Ul87sQJQKThlLn5xglAQgkzbf/KCUCW6ZeIt84JQF/P1yyXzQlAvcKC+wHPCUDWHYttUtEJQCB6UiY11AlAYHe688TTCUDhfyvZsdEJQGeY2lIH2QlAHccPlUbMCUCj5UAPtc0JQKHa4ET0ywlAyQVn8PfLCUAdO6jEdcwJQKcIcHoXzwlARgckYd/OCUBfCaTErs0JQLvx7shYzQlAuamB5nPOCUCmttRBXs8JQL2qs1pgzwlAx/SEJR7QCUAiF5zB388JQIrL8QpEzwlA9katMH3PCUA4Z0Rpb9AJQJkoQup2tglA5NnlWx+2CUDxLawb764JQAMIH0q0pAlAca/MW3WdCUA8o61KIpsJQMnGgy12mwlAgjtQpzyaCUCz0qQUdJsJQO9v0F59nAlAvD5z1qecCUCI9UatMJ0JQFGGqphKnwlAVFc+y/OgCUAcmUf+YKAJQHqM8szLoQlARzmYTYChCUBtqBjnb6IJQOEoeXWOoQlAajANw0ekCUBZwtoYO+EJQEJfevtz0QlAYwys4/jBCUCvRKD6B7EJQF73ViQmqAlAQj9Tr1ukCUBsskY9RKMJQAyP/SyWoglAM1Naf0ugCUDQfTmzXaEJQKdc4V0uoglAe6TBbW2hCUBS7dPxmKEJQDQPYJFfnwlAu0VgrG+gCUCqDrkZbqAJQC/ej9svnwlAkzXqIRqdCUBxytx8I5oJQBKFlnX/uAlADCB8KNGyCUByTuyhfawJQK0yU1p/qwlAu7ciMUGtCUBHVn4ZjLEJQBg+IqZEsglAvW2mQjyyCUDBN02fHbAJQIP26uOhrwlAU5YhjnWxCUBRFOgTebIJQOVGkbWGsglAkXu6umOxCUAJT+j1J7EJQKQZi6azswlALPTBMja0CUB39L9ci7YJQKzlzkww3AlAWvPjLy3KCUCWtOIbCr8JQFA6kWCquQlAHv8FggC5CUA2zqYjgLsJQET3rGu0vAlApG/SNCi6CUA/5C1XP7YJQBHkoISZtglAajLjbaW3CUCOXDelvLYJQFhyFYvftAlAgdB6+DKxCUDmkT8YeK4JQHbDtkWZrQlAcHoX78etCUApB7MJMKwJQA==",
          "dtype": "f8"
         },
         "yaxis": "y"
        }
       ],
       "layout": {
        "legend": {
         "title": {
          "text": "GRADE"
         },
         "tracegroupgap": 0
        },
        "margin": {
         "t": 60
        },
        "template": {
         "data": {
          "bar": [
           {
            "error_x": {
             "color": "#2a3f5f"
            },
            "error_y": {
             "color": "#2a3f5f"
            },
            "marker": {
             "line": {
              "color": "#E5ECF6",
              "width": 0.5
             },
             "pattern": {
              "fillmode": "overlay",
              "size": 10,
              "solidity": 0.2
             }
            },
            "type": "bar"
           }
          ],
          "barpolar": [
           {
            "marker": {
             "line": {
              "color": "#E5ECF6",
              "width": 0.5
             },
             "pattern": {
              "fillmode": "overlay",
              "size": 10,
              "solidity": 0.2
             }
            },
            "type": "barpolar"
           }
          ],
          "carpet": [
           {
            "aaxis": {
             "endlinecolor": "#2a3f5f",
             "gridcolor": "white",
             "linecolor": "white",
             "minorgridcolor": "white",
             "startlinecolor": "#2a3f5f"
            },
            "baxis": {
             "endlinecolor": "#2a3f5f",
             "gridcolor": "white",
             "linecolor": "white",
             "minorgridcolor": "white",
             "startlinecolor": "#2a3f5f"
            },
            "type": "carpet"
           }
          ],
          "choropleth": [
           {
            "colorbar": {
             "outlinewidth": 0,
             "ticks": ""
            },
            "type": "choropleth"
           }
          ],
          "contour": [
           {
            "colorbar": {
             "outlinewidth": 0,
             "ticks": ""
            },
            "colorscale": [
             [
              0,
              "#0d0887"
             ],
             [
              0.1111111111111111,
              "#46039f"
             ],
             [
              0.2222222222222222,
              "#7201a8"
             ],
             [
              0.3333333333333333,
              "#9c179e"
             ],
             [
              0.4444444444444444,
              "#bd3786"
             ],
             [
              0.5555555555555556,
              "#d8576b"
             ],
             [
              0.6666666666666666,
              "#ed7953"
             ],
             [
              0.7777777777777778,
              "#fb9f3a"
             ],
             [
              0.8888888888888888,
              "#fdca26"
             ],
             [
              1,
              "#f0f921"
             ]
            ],
            "type": "contour"
           }
          ],
          "contourcarpet": [
           {
            "colorbar": {
             "outlinewidth": 0,
             "ticks": ""
            },
            "type": "contourcarpet"
           }
          ],
          "heatmap": [
           {
            "colorbar": {
             "outlinewidth": 0,
             "ticks": ""
            },
            "colorscale": [
             [
              0,
              "#0d0887"
             ],
             [
              0.1111111111111111,
              "#46039f"
             ],
             [
              0.2222222222222222,
              "#7201a8"
             ],
             [
              0.3333333333333333,
              "#9c179e"
             ],
             [
              0.4444444444444444,
              "#bd3786"
             ],
             [
              0.5555555555555556,
              "#d8576b"
             ],
             [
              0.6666666666666666,
              "#ed7953"
             ],
             [
              0.7777777777777778,
              "#fb9f3a"
             ],
             [
              0.8888888888888888,
              "#fdca26"
             ],
             [
              1,
              "#f0f921"
             ]
            ],
            "type": "heatmap"
           }
          ],
          "histogram": [
           {
            "marker": {
             "pattern": {
              "fillmode": "overlay",
              "size": 10,
              "solidity": 0.2
             }
            },
            "type": "histogram"
           }
          ],
          "histogram2d": [
           {
            "colorbar": {
             "outlinewidth": 0,
             "ticks": ""
            },
            "colorscale": [
             [
              0,
              "#0d0887"
             ],
             [
              0.1111111111111111,
              "#46039f"
             ],
             [
              0.2222222222222222,
              "#7201a8"
             ],
             [
              0.3333333333333333,
              "#9c179e"
             ],
             [
              0.4444444444444444,
              "#bd3786"
             ],
             [
              0.5555555555555556,
              "#d8576b"
             ],
             [
              0.6666666666666666,
              "#ed7953"
             ],
             [
              0.7777777777777778,
              "#fb9f3a"
             ],
             [
              0.8888888888888888,
              "#fdca26"
             ],
             [
              1,
              "#f0f921"
             ]
            ],
            "type": "histogram2d"
           }
          ],
          "histogram2dcontour": [
           {
            "colorbar": {
             "outlinewidth": 0,
             "ticks": ""
            },
            "colorscale": [
             [
              0,
              "#0d0887"
             ],
             [
              0.1111111111111111,
              "#46039f"
             ],
             [
              0.2222222222222222,
              "#7201a8"
             ],
             [
              0.3333333333333333,
              "#9c179e"
             ],
             [
              0.4444444444444444,
              "#bd3786"
             ],
             [
              0.5555555555555556,
              "#d8576b"
             ],
             [
              0.6666666666666666,
              "#ed7953"
             ],
             [
              0.7777777777777778,
              "#fb9f3a"
             ],
             [
              0.8888888888888888,
              "#fdca26"
             ],
             [
              1,
              "#f0f921"
             ]
            ],
            "type": "histogram2dcontour"
           }
          ],
          "mesh3d": [
           {
            "colorbar": {
             "outlinewidth": 0,
             "ticks": ""
            },
            "type": "mesh3d"
           }
          ],
          "parcoords": [
           {
            "line": {
             "colorbar": {
              "outlinewidth": 0,
              "ticks": ""
             }
            },
            "type": "parcoords"
           }
          ],
          "pie": [
           {
            "automargin": true,
            "type": "pie"
           }
          ],
          "scatter": [
           {
            "fillpattern": {
             "fillmode": "overlay",
             "size": 10,
             "solidity": 0.2
            },
            "type": "scatter"
           }
          ],
          "scatter3d": [
           {
            "line": {
             "colorbar": {
              "outlinewidth": 0,
              "ticks": ""
             }
            },
            "marker": {
             "colorbar": {
              "outlinewidth": 0,
              "ticks": ""
             }
            },
            "type": "scatter3d"
           }
          ],
          "scattercarpet": [
           {
            "marker": {
             "colorbar": {
              "outlinewidth": 0,
              "ticks": ""
             }
            },
            "type": "scattercarpet"
           }
          ],
          "scattergeo": [
           {
            "marker": {
             "colorbar": {
              "outlinewidth": 0,
              "ticks": ""
             }
            },
            "type": "scattergeo"
           }
          ],
          "scattergl": [
           {
            "marker": {
             "colorbar": {
              "outlinewidth": 0,
              "ticks": ""
             }
            },
            "type": "scattergl"
           }
          ],
          "scattermap": [
           {
            "marker": {
             "colorbar": {
              "outlinewidth": 0,
              "ticks": ""
             }
            },
            "type": "scattermap"
           }
          ],
          "scattermapbox": [
           {
            "marker": {
             "colorbar": {
              "outlinewidth": 0,
              "ticks": ""
             }
            },
            "type": "scattermapbox"
           }
          ],
          "scatterpolar": [
           {
            "marker": {
             "colorbar": {
              "outlinewidth": 0,
              "ticks": ""
             }
            },
            "type": "scatterpolar"
           }
          ],
          "scatterpolargl": [
           {
            "marker": {
             "colorbar": {
              "outlinewidth": 0,
              "ticks": ""
             }
            },
            "type": "scatterpolargl"
           }
          ],
          "scatterternary": [
           {
            "marker": {
             "colorbar": {
              "outlinewidth": 0,
              "ticks": ""
             }
            },
            "type": "scatterternary"
           }
          ],
          "surface": [
           {
            "colorbar": {
             "outlinewidth": 0,
             "ticks": ""
            },
            "colorscale": [
             [
              0,
              "#0d0887"
             ],
             [
              0.1111111111111111,
              "#46039f"
             ],
             [
              0.2222222222222222,
              "#7201a8"
             ],
             [
              0.3333333333333333,
              "#9c179e"
             ],
             [
              0.4444444444444444,
              "#bd3786"
             ],
             [
              0.5555555555555556,
              "#d8576b"
             ],
             [
              0.6666666666666666,
              "#ed7953"
             ],
             [
              0.7777777777777778,
              "#fb9f3a"
             ],
             [
              0.8888888888888888,
              "#fdca26"
             ],
             [
              1,
              "#f0f921"
             ]
            ],
            "type": "surface"
           }
          ],
          "table": [
           {
            "cells": {
             "fill": {
              "color": "#EBF0F8"
             },
             "line": {
              "color": "white"
             }
            },
            "header": {
             "fill": {
              "color": "#C8D4E3"
             },
             "line": {
              "color": "white"
             }
            },
            "type": "table"
           }
          ]
         },
         "layout": {
          "annotationdefaults": {
           "arrowcolor": "#2a3f5f",
           "arrowhead": 0,
           "arrowwidth": 1
          },
          "autotypenumbers": "strict",
          "coloraxis": {
           "colorbar": {
            "outlinewidth": 0,
            "ticks": ""
           }
          },
          "colorscale": {
           "diverging": [
            [
             0,
             "#8e0152"
            ],
            [
             0.1,
             "#c51b7d"
            ],
            [
             0.2,
             "#de77ae"
            ],
            [
             0.3,
             "#f1b6da"
            ],
            [
             0.4,
             "#fde0ef"
            ],
            [
             0.5,
             "#f7f7f7"
            ],
            [
             0.6,
             "#e6f5d0"
            ],
            [
             0.7,
             "#b8e186"
            ],
            [
             0.8,
             "#7fbc41"
            ],
            [
             0.9,
             "#4d9221"
            ],
            [
             1,
             "#276419"
            ]
           ],
           "sequential": [
            [
             0,
             "#0d0887"
            ],
            [
             0.1111111111111111,
             "#46039f"
            ],
            [
             0.2222222222222222,
             "#7201a8"
            ],
            [
             0.3333333333333333,
             "#9c179e"
            ],
            [
             0.4444444444444444,
             "#bd3786"
            ],
            [
             0.5555555555555556,
             "#d8576b"
            ],
            [
             0.6666666666666666,
             "#ed7953"
            ],
            [
             0.7777777777777778,
             "#fb9f3a"
            ],
            [
             0.8888888888888888,
             "#fdca26"
            ],
            [
             1,
             "#f0f921"
            ]
           ],
           "sequentialminus": [
            [
             0,
             "#0d0887"
            ],
            [
             0.1111111111111111,
             "#46039f"
            ],
            [
             0.2222222222222222,
             "#7201a8"
            ],
            [
             0.3333333333333333,
             "#9c179e"
            ],
            [
             0.4444444444444444,
             "#bd3786"
            ],
            [
             0.5555555555555556,
             "#d8576b"
            ],
            [
             0.6666666666666666,
             "#ed7953"
            ],
            [
             0.7777777777777778,
             "#fb9f3a"
            ],
            [
             0.8888888888888888,
             "#fdca26"
            ],
            [
             1,
             "#f0f921"
            ]
           ]
          },
          "colorway": [
           "#636efa",
           "#EF553B",
           "#00cc96",
           "#ab63fa",
           "#FFA15A",
           "#19d3f3",
           "#FF6692",
           "#B6E880",
           "#FF97FF",
           "#FECB52"
          ],
          "font": {
           "color": "#2a3f5f"
          },
          "geo": {
           "bgcolor": "white",
           "lakecolor": "white",
           "landcolor": "#E5ECF6",
           "showlakes": true,
           "showland": true,
           "subunitcolor": "white"
          },
          "hoverlabel": {
           "align": "left"
          },
          "hovermode": "closest",
          "mapbox": {
           "style": "light"
          },
          "paper_bgcolor": "white",
          "plot_bgcolor": "#E5ECF6",
          "polar": {
           "angularaxis": {
            "gridcolor": "white",
            "linecolor": "white",
            "ticks": ""
           },
           "bgcolor": "#E5ECF6",
           "radialaxis": {
            "gridcolor": "white",
            "linecolor": "white",
            "ticks": ""
           }
          },
          "scene": {
           "xaxis": {
            "backgroundcolor": "#E5ECF6",
            "gridcolor": "white",
            "gridwidth": 2,
            "linecolor": "white",
            "showbackground": true,
            "ticks": "",
            "zerolinecolor": "white"
           },
           "yaxis": {
            "backgroundcolor": "#E5ECF6",
            "gridcolor": "white",
            "gridwidth": 2,
            "linecolor": "white",
            "showbackground": true,
            "ticks": "",
            "zerolinecolor": "white"
           },
           "zaxis": {
            "backgroundcolor": "#E5ECF6",
            "gridcolor": "white",
            "gridwidth": 2,
            "linecolor": "white",
            "showbackground": true,
            "ticks": "",
            "zerolinecolor": "white"
           }
          },
          "shapedefaults": {
           "line": {
            "color": "#2a3f5f"
           }
          },
          "ternary": {
           "aaxis": {
            "gridcolor": "white",
            "linecolor": "white",
            "ticks": ""
           },
           "baxis": {
            "gridcolor": "white",
            "linecolor": "white",
            "ticks": ""
           },
           "bgcolor": "#E5ECF6",
           "caxis": {
            "gridcolor": "white",
            "linecolor": "white",
            "ticks": ""
           }
          },
          "title": {
           "x": 0.05
          },
          "xaxis": {
           "automargin": true,
           "gridcolor": "white",
           "linecolor": "white",
           "ticks": "",
           "title": {
            "standoff": 15
           },
           "zerolinecolor": "white",
           "zerolinewidth": 2
          },
          "yaxis": {
           "automargin": true,
           "gridcolor": "white",
           "linecolor": "white",
           "ticks": "",
           "title": {
            "standoff": 15
           },
           "zerolinecolor": "white",
           "zerolinewidth": 2
          }
         }
        },
        "xaxis": {
         "anchor": "y",
         "domain": [
          0,
          1
         ],
         "title": {
          "text": "Measure Order"
         }
        },
        "yaxis": {
         "anchor": "x",
         "domain": [
          0,
          1
         ],
         "range": [
          3.1,
          3.5
         ],
         "title": {
          "text": "Cell Gap(um)"
         }
        }
       }
      }
     },
     "metadata": {},
     "output_type": "display_data"
    },
    {
     "name": "stdout",
     "output_type": "stream",
     "text": [
      "ZIX-7061XX + S-WB141\n"
     ]
    },
    {
     "data": {
      "application/vnd.plotly.v1+json": {
       "config": {
        "plotlyServerURL": "https://plot.ly"
       },
       "data": [
        {
         "hovertemplate": "GRADE=NG<br>Measure Order=%{x}<br>Cell Gap(um)=%{y}<extra></extra>",
         "legendgroup": "NG",
         "marker": {
          "color": "#636efa",
          "symbol": "circle"
         },
         "mode": "markers",
         "name": "NG",
         "orientation": "v",
         "showlegend": true,
         "type": "scatter",
         "x": {
          "bdata": "AAIDBAUGBwgJCgsMDQ4PEBESExQWFxgZGhscHR4fICEiIyQlJicoKywtLi8wMTIzNDU2Nzg5Ojs8P0BBQkNERUZHSElKS0xNTk9QAAIDBAUGBwgJCgsMDQ4PEBESExQWFxgZGhscHR4fICEiIyQlJicoKywtLi8wMTIzNDU2Nzg5Ojs8P0BBQkNERUZHSElKS0xNTk9QAAIDBAUGBwgJCgsMDQ4PEBESExQXGBkaGxwdHh8gISIjJCUmJygrLC0uLzAxMjM0NTY3ODk6Ozw/QEFCQ0RFRkdISUpLTE1OT1A=",
          "dtype": "i1"
         },
         "xaxis": "x",
         "y": {
          "bdata": "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",
          "dtype": "f8"
         },
         "yaxis": "y"
        },
        {
         "hovertemplate": "GRADE=G1<br>Measure Order=%{x}<br>Cell Gap(um)=%{y}<extra></extra>",
         "legendgroup": "G1",
         "marker": {
          "color": "#EF553B",
          "symbol": "circle"
         },
         "mode": "markers",
         "name": "G1",
         "orientation": "v",
         "showlegend": true,
         "type": "scatter",
         "x": {
          "bdata": "AAIDBAUGBwgJCgsMDQ4PEBESExQWFxgZGhscHR4fICEiIyQlJicoKywtLi8wMTIzNDU2Nzg5Ojs8P0BBQkNERUZHSElKS0xNTk9QAAIDBAUGBwgJCgsMDQ4PEBESExQWFxgZGhscHR4fICEiIyQlJicoKywtLi8wMTIzNDU2Nzg5Ojs8P0BBQkNERUZHSElKS0xNTk9Q",
          "dtype": "i1"
         },
         "xaxis": "x",
         "y": {
          "bdata": "/yCSIce2CUCHFtnO99MJQAvxSLw8vQlAmiMrvwymCUCV2LW93ZIJQBZp4h3giQlAtHQF24iHCUDDKXPzjYgJQGwIjsu4iQlAzhd7L76ICUD7PEZ55oUJQDJaR1UThAlAhIHn3sOFCUDBWN/A5IYJQKFHjJ5biAlAixagbTWLCUC78e7IWI0JQAJlU67wjglAJ2ppboWQCUA+JHzvb5AJQIf6XdiaDQpAXvHUIw3uCUDWHYttUtEJQJ9ZEqCmtglAP1bw2xCjCUA5mE2AYZkJQANf0a3XlAlAe75muWyUCUAAPKJCdZMJQNF14QfnkwlAguUIGciTCUBxVdl3RZAJQHrE6LmFjglA1c4wtaWOCUAMPs3Ji4wJQGEaho+IiQlANj0oKEWLCUBrtvKS/4kJQE6zQLtDiglAdcdim1T0CUAOZ341B+gJQJuQ1hh04glA7iQi/IvgCUDMeca+ZOMJQBXj/E0o5AlAcM6I0t7gCUCY2lIHed0JQC1A22rW2QlAqS9LOzXXCUA6zm3CvdIJQLyVJTrLzAlA5BWInpTJCUD8VBUaiMUJQCU8odefxAlAXByVm6jFCUA3F3/bE8QJQGeBdocUwwlA6pJxjGQPCkANxLKZQ/IJQKG+ZU6X5QlAzSA+sOPfCUD8xAH0+94JQPKVQErs2glAPusaLQfaCUAwuycPC9UJQOChKNAn0glAQGmoUUjSCUDQKcjPRs4JQD0q/u+IyglAnieeswXECUC/1TpxOb4JQBCSBUzgtglATwKbc/CsCUA2rRQCuaQJQB2SWiiZnAlAmu/gJw7gCUDJdyl1yfgJQEyMZfol4glAbVSnA1nPCUA10lJ5O8IJQDHvcaYJuwlAkuaPaW26CUDtKqT8pLoJQE+uKZDZuQlAmz3QCgy5CUAFFVW/0rkJQJLmj2ltuglALgPOUrK8CUA0hjlBm7wJQIY5QZscvglAWFTE6SS7CUBYkdEBSbgJQLFTrBqEuQlAdLM/UG67CUD5SEp6GLoJQJfiqrLv6glAuhEWFXHaCUAkDW5rC88JQEQxeQPMvAlA8aFESx6vCUBBLnHkgagJQAmLijidpAlAcuDVcmemCUCVZvM4DKYJQJLPK556pAlAPLznwHKkCUDa44V0eKgJQJoF2h1SrAlA6GnAIOmzCUB8R40JMbcJQAR0X85stwlAsI14spu5CUDQ0hVsI74JQPCmW3aIvwlA5e0IpwXvCUDec2A5QuYJQDLH8q564AlAYjHqWnvfCUCvBb03huAJQFgepKfI4QlA0nDK3HzjCUDfMqfLYuIJQLhZvFgY4glAezApPj7hCUAcsRafAuAJQACuZMdG4AlAzaylgLTfCUDyBpj5Dt4JQApl4etr3QlA2QdZFkzcCUBXJCao4dsJQIpYxLDD2AlAKQezCTAMCkDtf4C1avcJQNNrs7ES8wlAuyU5YFfzCUBNvtnmxvQJQCTvHMpQ9QlAV9EfmnnyCUASMpBnl+8JQPBquTMT7AlA+62dKAnpCUCuK2aEt+cJQCEgX0IF5wlASSwpd5/jCUBnmUUotuIJQA6/m27Z4QlAXRWoxeDhCUCAD167tOEJQCI0go3r3wlA",
          "dtype": "f8"
         },
         "yaxis": "y"
        }
       ],
       "layout": {
        "legend": {
         "title": {
          "text": "GRADE"
         },
         "tracegroupgap": 0
        },
        "margin": {
         "t": 60
        },
        "template": {
         "data": {
          "bar": [
           {
            "error_x": {
             "color": "#2a3f5f"
            },
            "error_y": {
             "color": "#2a3f5f"
            },
            "marker": {
             "line": {
              "color": "#E5ECF6",
              "width": 0.5
             },
             "pattern": {
              "fillmode": "overlay",
              "size": 10,
              "solidity": 0.2
             }
            },
            "type": "bar"
           }
          ],
          "barpolar": [
           {
            "marker": {
             "line": {
              "color": "#E5ECF6",
              "width": 0.5
             },
             "pattern": {
              "fillmode": "overlay",
              "size": 10,
              "solidity": 0.2
             }
            },
            "type": "barpolar"
           }
          ],
          "carpet": [
           {
            "aaxis": {
             "endlinecolor": "#2a3f5f",
             "gridcolor": "white",
             "linecolor": "white",
             "minorgridcolor": "white",
             "startlinecolor": "#2a3f5f"
            },
            "baxis": {
             "endlinecolor": "#2a3f5f",
             "gridcolor": "white",
             "linecolor": "white",
             "minorgridcolor": "white",
             "startlinecolor": "#2a3f5f"
            },
            "type": "carpet"
           }
          ],
          "choropleth": [
           {
            "colorbar": {
             "outlinewidth": 0,
             "ticks": ""
            },
            "type": "choropleth"
           }
          ],
          "contour": [
           {
            "colorbar": {
             "outlinewidth": 0,
             "ticks": ""
            },
            "colorscale": [
             [
              0,
              "#0d0887"
             ],
             [
              0.1111111111111111,
              "#46039f"
             ],
             [
              0.2222222222222222,
              "#7201a8"
             ],
             [
              0.3333333333333333,
              "#9c179e"
             ],
             [
              0.4444444444444444,
              "#bd3786"
             ],
             [
              0.5555555555555556,
              "#d8576b"
             ],
             [
              0.6666666666666666,
              "#ed7953"
             ],
             [
              0.7777777777777778,
              "#fb9f3a"
             ],
             [
              0.8888888888888888,
              "#fdca26"
             ],
             [
              1,
              "#f0f921"
             ]
            ],
            "type": "contour"
           }
          ],
          "contourcarpet": [
           {
            "colorbar": {
             "outlinewidth": 0,
             "ticks": ""
            },
            "type": "contourcarpet"
           }
          ],
          "heatmap": [
           {
            "colorbar": {
             "outlinewidth": 0,
             "ticks": ""
            },
            "colorscale": [
             [
              0,
              "#0d0887"
             ],
             [
              0.1111111111111111,
              "#46039f"
             ],
             [
              0.2222222222222222,
              "#7201a8"
             ],
             [
              0.3333333333333333,
              "#9c179e"
             ],
             [
              0.4444444444444444,
              "#bd3786"
             ],
             [
              0.5555555555555556,
              "#d8576b"
             ],
             [
              0.6666666666666666,
              "#ed7953"
             ],
             [
              0.7777777777777778,
              "#fb9f3a"
             ],
             [
              0.8888888888888888,
              "#fdca26"
             ],
             [
              1,
              "#f0f921"
             ]
            ],
            "type": "heatmap"
           }
          ],
          "histogram": [
           {
            "marker": {
             "pattern": {
              "fillmode": "overlay",
              "size": 10,
              "solidity": 0.2
             }
            },
            "type": "histogram"
           }
          ],
          "histogram2d": [
           {
            "colorbar": {
             "outlinewidth": 0,
             "ticks": ""
            },
            "colorscale": [
             [
              0,
              "#0d0887"
             ],
             [
              0.1111111111111111,
              "#46039f"
             ],
             [
              0.2222222222222222,
              "#7201a8"
             ],
             [
              0.3333333333333333,
              "#9c179e"
             ],
             [
              0.4444444444444444,
              "#bd3786"
             ],
             [
              0.5555555555555556,
              "#d8576b"
             ],
             [
              0.6666666666666666,
              "#ed7953"
             ],
             [
              0.7777777777777778,
              "#fb9f3a"
             ],
             [
              0.8888888888888888,
              "#fdca26"
             ],
             [
              1,
              "#f0f921"
             ]
            ],
            "type": "histogram2d"
           }
          ],
          "histogram2dcontour": [
           {
            "colorbar": {
             "outlinewidth": 0,
             "ticks": ""
            },
            "colorscale": [
             [
              0,
              "#0d0887"
             ],
             [
              0.1111111111111111,
              "#46039f"
             ],
             [
              0.2222222222222222,
              "#7201a8"
             ],
             [
              0.3333333333333333,
              "#9c179e"
             ],
             [
              0.4444444444444444,
              "#bd3786"
             ],
             [
              0.5555555555555556,
              "#d8576b"
             ],
             [
              0.6666666666666666,
              "#ed7953"
             ],
             [
              0.7777777777777778,
              "#fb9f3a"
             ],
             [
              0.8888888888888888,
              "#fdca26"
             ],
             [
              1,
              "#f0f921"
             ]
            ],
            "type": "histogram2dcontour"
           }
          ],
          "mesh3d": [
           {
            "colorbar": {
             "outlinewidth": 0,
             "ticks": ""
            },
            "type": "mesh3d"
           }
          ],
          "parcoords": [
           {
            "line": {
             "colorbar": {
              "outlinewidth": 0,
              "ticks": ""
             }
            },
            "type": "parcoords"
           }
          ],
          "pie": [
           {
            "automargin": true,
            "type": "pie"
           }
          ],
          "scatter": [
           {
            "fillpattern": {
             "fillmode": "overlay",
             "size": 10,
             "solidity": 0.2
            },
            "type": "scatter"
           }
          ],
          "scatter3d": [
           {
            "line": {
             "colorbar": {
              "outlinewidth": 0,
              "ticks": ""
             }
            },
            "marker": {
             "colorbar": {
              "outlinewidth": 0,
              "ticks": ""
             }
            },
            "type": "scatter3d"
           }
          ],
          "scattercarpet": [
           {
            "marker": {
             "colorbar": {
              "outlinewidth": 0,
              "ticks": ""
             }
            },
            "type": "scattercarpet"
           }
          ],
          "scattergeo": [
           {
            "marker": {
             "colorbar": {
              "outlinewidth": 0,
              "ticks": ""
             }
            },
            "type": "scattergeo"
           }
          ],
          "scattergl": [
           {
            "marker": {
             "colorbar": {
              "outlinewidth": 0,
              "ticks": ""
             }
            },
            "type": "scattergl"
           }
          ],
          "scattermap": [
           {
            "marker": {
             "colorbar": {
              "outlinewidth": 0,
              "ticks": ""
             }
            },
            "type": "scattermap"
           }
          ],
          "scattermapbox": [
           {
            "marker": {
             "colorbar": {
              "outlinewidth": 0,
              "ticks": ""
             }
            },
            "type": "scattermapbox"
           }
          ],
          "scatterpolar": [
           {
            "marker": {
             "colorbar": {
              "outlinewidth": 0,
              "ticks": ""
             }
            },
            "type": "scatterpolar"
           }
          ],
          "scatterpolargl": [
           {
            "marker": {
             "colorbar": {
              "outlinewidth": 0,
              "ticks": ""
             }
            },
            "type": "scatterpolargl"
           }
          ],
          "scatterternary": [
           {
            "marker": {
             "colorbar": {
              "outlinewidth": 0,
              "ticks": ""
             }
            },
            "type": "scatterternary"
           }
          ],
          "surface": [
           {
            "colorbar": {
             "outlinewidth": 0,
             "ticks": ""
            },
            "colorscale": [
             [
              0,
              "#0d0887"
             ],
             [
              0.1111111111111111,
              "#46039f"
             ],
             [
              0.2222222222222222,
              "#7201a8"
             ],
             [
              0.3333333333333333,
              "#9c179e"
             ],
             [
              0.4444444444444444,
              "#bd3786"
             ],
             [
              0.5555555555555556,
              "#d8576b"
             ],
             [
              0.6666666666666666,
              "#ed7953"
             ],
             [
              0.7777777777777778,
              "#fb9f3a"
             ],
             [
              0.8888888888888888,
              "#fdca26"
             ],
             [
              1,
              "#f0f921"
             ]
            ],
            "type": "surface"
           }
          ],
          "table": [
           {
            "cells": {
             "fill": {
              "color": "#EBF0F8"
             },
             "line": {
              "color": "white"
             }
            },
            "header": {
             "fill": {
              "color": "#C8D4E3"
             },
             "line": {
              "color": "white"
             }
            },
            "type": "table"
           }
          ]
         },
         "layout": {
          "annotationdefaults": {
           "arrowcolor": "#2a3f5f",
           "arrowhead": 0,
           "arrowwidth": 1
          },
          "autotypenumbers": "strict",
          "coloraxis": {
           "colorbar": {
            "outlinewidth": 0,
            "ticks": ""
           }
          },
          "colorscale": {
           "diverging": [
            [
             0,
             "#8e0152"
            ],
            [
             0.1,
             "#c51b7d"
            ],
            [
             0.2,
             "#de77ae"
            ],
            [
             0.3,
             "#f1b6da"
            ],
            [
             0.4,
             "#fde0ef"
            ],
            [
             0.5,
             "#f7f7f7"
            ],
            [
             0.6,
             "#e6f5d0"
            ],
            [
             0.7,
             "#b8e186"
            ],
            [
             0.8,
             "#7fbc41"
            ],
            [
             0.9,
             "#4d9221"
            ],
            [
             1,
             "#276419"
            ]
           ],
           "sequential": [
            [
             0,
             "#0d0887"
            ],
            [
             0.1111111111111111,
             "#46039f"
            ],
            [
             0.2222222222222222,
             "#7201a8"
            ],
            [
             0.3333333333333333,
             "#9c179e"
            ],
            [
             0.4444444444444444,
             "#bd3786"
            ],
            [
             0.5555555555555556,
             "#d8576b"
            ],
            [
             0.6666666666666666,
             "#ed7953"
            ],
            [
             0.7777777777777778,
             "#fb9f3a"
            ],
            [
             0.8888888888888888,
             "#fdca26"
            ],
            [
             1,
             "#f0f921"
            ]
           ],
           "sequentialminus": [
            [
             0,
             "#0d0887"
            ],
            [
             0.1111111111111111,
             "#46039f"
            ],
            [
             0.2222222222222222,
             "#7201a8"
            ],
            [
             0.3333333333333333,
             "#9c179e"
            ],
            [
             0.4444444444444444,
             "#bd3786"
            ],
            [
             0.5555555555555556,
             "#d8576b"
            ],
            [
             0.6666666666666666,
             "#ed7953"
            ],
            [
             0.7777777777777778,
             "#fb9f3a"
            ],
            [
             0.8888888888888888,
             "#fdca26"
            ],
            [
             1,
             "#f0f921"
            ]
           ]
          },
          "colorway": [
           "#636efa",
           "#EF553B",
           "#00cc96",
           "#ab63fa",
           "#FFA15A",
           "#19d3f3",
           "#FF6692",
           "#B6E880",
           "#FF97FF",
           "#FECB52"
          ],
          "font": {
           "color": "#2a3f5f"
          },
          "geo": {
           "bgcolor": "white",
           "lakecolor": "white",
           "landcolor": "#E5ECF6",
           "showlakes": true,
           "showland": true,
           "subunitcolor": "white"
          },
          "hoverlabel": {
           "align": "left"
          },
          "hovermode": "closest",
          "mapbox": {
           "style": "light"
          },
          "paper_bgcolor": "white",
          "plot_bgcolor": "#E5ECF6",
          "polar": {
           "angularaxis": {
            "gridcolor": "white",
            "linecolor": "white",
            "ticks": ""
           },
           "bgcolor": "#E5ECF6",
           "radialaxis": {
            "gridcolor": "white",
            "linecolor": "white",
            "ticks": ""
           }
          },
          "scene": {
           "xaxis": {
            "backgroundcolor": "#E5ECF6",
            "gridcolor": "white",
            "gridwidth": 2,
            "linecolor": "white",
            "showbackground": true,
            "ticks": "",
            "zerolinecolor": "white"
           },
           "yaxis": {
            "backgroundcolor": "#E5ECF6",
            "gridcolor": "white",
            "gridwidth": 2,
            "linecolor": "white",
            "showbackground": true,
            "ticks": "",
            "zerolinecolor": "white"
           },
           "zaxis": {
            "backgroundcolor": "#E5ECF6",
            "gridcolor": "white",
            "gridwidth": 2,
            "linecolor": "white",
            "showbackground": true,
            "ticks": "",
            "zerolinecolor": "white"
           }
          },
          "shapedefaults": {
           "line": {
            "color": "#2a3f5f"
           }
          },
          "ternary": {
           "aaxis": {
            "gridcolor": "white",
            "linecolor": "white",
            "ticks": ""
           },
           "baxis": {
            "gridcolor": "white",
            "linecolor": "white",
            "ticks": ""
           },
           "bgcolor": "#E5ECF6",
           "caxis": {
            "gridcolor": "white",
            "linecolor": "white",
            "ticks": ""
           }
          },
          "title": {
           "x": 0.05
          },
          "xaxis": {
           "automargin": true,
           "gridcolor": "white",
           "linecolor": "white",
           "ticks": "",
           "title": {
            "standoff": 15
           },
           "zerolinecolor": "white",
           "zerolinewidth": 2
          },
          "yaxis": {
           "automargin": true,
           "gridcolor": "white",
           "linecolor": "white",
           "ticks": "",
           "title": {
            "standoff": 15
           },
           "zerolinecolor": "white",
           "zerolinewidth": 2
          }
         }
        },
        "xaxis": {
         "anchor": "y",
         "domain": [
          0,
          1
         ],
         "title": {
          "text": "Measure Order"
         }
        },
        "yaxis": {
         "anchor": "x",
         "domain": [
          0,
          1
         ],
         "range": [
          3.1,
          3.5
         ],
         "title": {
          "text": "Cell Gap(um)"
         }
        }
       }
      }
     },
     "metadata": {},
     "output_type": "display_data"
    }
   ],
   "source": [
    "df = around_gap.filter(pl.col(\"RMS(%)\") < 0.3)\n",
    "params = {\n",
    "    \"x\": 'Measure Order',\n",
    "    \"y\": 'Cell Gap(um)',\n",
    "    \"color\": 'GRADE',\n",
    "}\n",
    "\n",
    "figs = []\n",
    "for cond in df['Condition'].unique():\n",
    "    print(cond)\n",
    "    figs.append(px.scatter(\n",
    "        df.filter(pl.col('Condition')==cond),\n",
    "        color_continuous_scale=px.colors.sequential.Jet,\n",
    "        # color_discrete_sequence=px.colors.sequential.Jet,\n",
    "        **params,\n",
    "    ))\n",
    "    figs[-1].update_layout(yaxis_range=(3.1, 3.5))\n",
    "    figs[-1].show()"
   ]
  },
  {
   "cell_type": "code",
   "execution_count": 39,
   "metadata": {},
   "outputs": [
    {
     "data": {
      "text/html": [
       "<div><style>\n",
       ".dataframe > thead > tr,\n",
       ".dataframe > tbody > tr {\n",
       "  text-align: right;\n",
       "  white-space: pre-wrap;\n",
       "}\n",
       "</style>\n",
       "<small>shape: (1_397, 10)</small><table border=\"1\" class=\"dataframe\"><thead><tr><th>ID</th><th>Measure Order</th><th>Location</th><th>Cell Gap(um)</th><th>Dist to Edge(mm)</th><th>RMS(%)</th><th>Panel ID</th><th>Condition</th><th>Cross Area</th><th>GRADE</th></tr><tr><td>str</td><td>i64</td><td>str</td><td>f64</td><td>i64</td><td>f64</td><td>str</td><td>str</td><td>str</td><td>str</td></tr></thead><tbody><tr><td>&quot;210FB5&quot;</td><td>0</td><td>&quot;center&quot;</td><td>3.149687</td><td>0</td><td>0.248483</td><td>&quot;660L2AP50FN210FB5&quot;</td><td>&quot;LCT-15-1098 + S-WB141&quot;</td><td>&quot;2320&quot;</td><td>&quot;NG&quot;</td></tr><tr><td>&quot;210FB5&quot;</td><td>1</td><td>&quot;up&quot;</td><td>3.189865</td><td>0</td><td>0.773582</td><td>&quot;660L2AP50FN210FB5&quot;</td><td>&quot;LCT-15-1098 + S-WB141&quot;</td><td>&quot;2320&quot;</td><td>&quot;NG&quot;</td></tr><tr><td>&quot;210FB5&quot;</td><td>2</td><td>&quot;up&quot;</td><td>3.195987</td><td>1</td><td>0.239258</td><td>&quot;660L2AP50FN210FB5&quot;</td><td>&quot;LCT-15-1098 + S-WB141&quot;</td><td>&quot;2320&quot;</td><td>&quot;NG&quot;</td></tr><tr><td>&quot;210FB5&quot;</td><td>3</td><td>&quot;up&quot;</td><td>3.191534</td><td>2</td><td>0.231841</td><td>&quot;660L2AP50FN210FB5&quot;</td><td>&quot;LCT-15-1098 + S-WB141&quot;</td><td>&quot;2320&quot;</td><td>&quot;NG&quot;</td></tr><tr><td>&quot;210FB5&quot;</td><td>4</td><td>&quot;up&quot;</td><td>3.185135</td><td>3</td><td>0.253972</td><td>&quot;660L2AP50FN210FB5&quot;</td><td>&quot;LCT-15-1098 + S-WB141&quot;</td><td>&quot;2320&quot;</td><td>&quot;NG&quot;</td></tr><tr><td>&hellip;</td><td>&hellip;</td><td>&hellip;</td><td>&hellip;</td><td>&hellip;</td><td>&hellip;</td><td>&hellip;</td><td>&hellip;</td><td>&hellip;</td><td>&hellip;</td></tr><tr><td>&quot;215C96&quot;</td><td>76</td><td>&quot;right&quot;</td><td>3.235699</td><td>15</td><td>0.237454</td><td>&quot;660L2AP50FN215C96&quot;</td><td>&quot;ZIX-7061XX + S-WB141&quot;</td><td>&quot;2418&quot;</td><td>&quot;G1&quot;</td></tr><tr><td>&quot;215C96&quot;</td><td>77</td><td>&quot;right&quot;</td><td>3.235278</td><td>16</td><td>0.236192</td><td>&quot;660L2AP50FN215C96&quot;</td><td>&quot;ZIX-7061XX + S-WB141&quot;</td><td>&quot;2418&quot;</td><td>&quot;G1&quot;</td></tr><tr><td>&quot;215C96&quot;</td><td>78</td><td>&quot;right&quot;</td><td>3.235292</td><td>17</td><td>0.238952</td><td>&quot;660L2AP50FN215C96&quot;</td><td>&quot;ZIX-7061XX + S-WB141&quot;</td><td>&quot;2418&quot;</td><td>&quot;G1&quot;</td></tr><tr><td>&quot;215C96&quot;</td><td>79</td><td>&quot;right&quot;</td><td>3.235208</td><td>18</td><td>0.239464</td><td>&quot;660L2AP50FN215C96&quot;</td><td>&quot;ZIX-7061XX + S-WB141&quot;</td><td>&quot;2418&quot;</td><td>&quot;G1&quot;</td></tr><tr><td>&quot;215C96&quot;</td><td>80</td><td>&quot;right&quot;</td><td>3.234336</td><td>19</td><td>0.243897</td><td>&quot;660L2AP50FN215C96&quot;</td><td>&quot;ZIX-7061XX + S-WB141&quot;</td><td>&quot;2418&quot;</td><td>&quot;G1&quot;</td></tr></tbody></table></div>"
      ],
      "text/plain": [
       "shape: (1_397, 10)\n",
       "┌────────┬─────────┬──────────┬──────────┬───┬────────────────┬───────────────┬────────────┬───────┐\n",
       "│ ID     ┆ Measure ┆ Location ┆ Cell     ┆ … ┆ Panel ID       ┆ Condition     ┆ Cross Area ┆ GRADE │\n",
       "│ ---    ┆ Order   ┆ ---      ┆ Gap(um)  ┆   ┆ ---            ┆ ---           ┆ ---        ┆ ---   │\n",
       "│ str    ┆ ---     ┆ str      ┆ ---      ┆   ┆ str            ┆ str           ┆ str        ┆ str   │\n",
       "│        ┆ i64     ┆          ┆ f64      ┆   ┆                ┆               ┆            ┆       │\n",
       "╞════════╪═════════╪══════════╪══════════╪═══╪════════════════╪═══════════════╪════════════╪═══════╡\n",
       "│ 210FB5 ┆ 0       ┆ center   ┆ 3.149687 ┆ … ┆ 660L2AP50FN210 ┆ LCT-15-1098 + ┆ 2320       ┆ NG    │\n",
       "│        ┆         ┆          ┆          ┆   ┆ FB5            ┆ S-WB141       ┆            ┆       │\n",
       "│ 210FB5 ┆ 1       ┆ up       ┆ 3.189865 ┆ … ┆ 660L2AP50FN210 ┆ LCT-15-1098 + ┆ 2320       ┆ NG    │\n",
       "│        ┆         ┆          ┆          ┆   ┆ FB5            ┆ S-WB141       ┆            ┆       │\n",
       "│ 210FB5 ┆ 2       ┆ up       ┆ 3.195987 ┆ … ┆ 660L2AP50FN210 ┆ LCT-15-1098 + ┆ 2320       ┆ NG    │\n",
       "│        ┆         ┆          ┆          ┆   ┆ FB5            ┆ S-WB141       ┆            ┆       │\n",
       "│ 210FB5 ┆ 3       ┆ up       ┆ 3.191534 ┆ … ┆ 660L2AP50FN210 ┆ LCT-15-1098 + ┆ 2320       ┆ NG    │\n",
       "│        ┆         ┆          ┆          ┆   ┆ FB5            ┆ S-WB141       ┆            ┆       │\n",
       "│ 210FB5 ┆ 4       ┆ up       ┆ 3.185135 ┆ … ┆ 660L2AP50FN210 ┆ LCT-15-1098 + ┆ 2320       ┆ NG    │\n",
       "│        ┆         ┆          ┆          ┆   ┆ FB5            ┆ S-WB141       ┆            ┆       │\n",
       "│ …      ┆ …       ┆ …        ┆ …        ┆ … ┆ …              ┆ …             ┆ …          ┆ …     │\n",
       "│ 215C96 ┆ 76      ┆ right    ┆ 3.235699 ┆ … ┆ 660L2AP50FN215 ┆ ZIX-7061XX +  ┆ 2418       ┆ G1    │\n",
       "│        ┆         ┆          ┆          ┆   ┆ C96            ┆ S-WB141       ┆            ┆       │\n",
       "│ 215C96 ┆ 77      ┆ right    ┆ 3.235278 ┆ … ┆ 660L2AP50FN215 ┆ ZIX-7061XX +  ┆ 2418       ┆ G1    │\n",
       "│        ┆         ┆          ┆          ┆   ┆ C96            ┆ S-WB141       ┆            ┆       │\n",
       "│ 215C96 ┆ 78      ┆ right    ┆ 3.235292 ┆ … ┆ 660L2AP50FN215 ┆ ZIX-7061XX +  ┆ 2418       ┆ G1    │\n",
       "│        ┆         ┆          ┆          ┆   ┆ C96            ┆ S-WB141       ┆            ┆       │\n",
       "│ 215C96 ┆ 79      ┆ right    ┆ 3.235208 ┆ … ┆ 660L2AP50FN215 ┆ ZIX-7061XX +  ┆ 2418       ┆ G1    │\n",
       "│        ┆         ┆          ┆          ┆   ┆ C96            ┆ S-WB141       ┆            ┆       │\n",
       "│ 215C96 ┆ 80      ┆ right    ┆ 3.234336 ┆ … ┆ 660L2AP50FN215 ┆ ZIX-7061XX +  ┆ 2418       ┆ G1    │\n",
       "│        ┆         ┆          ┆          ┆   ┆ C96            ┆ S-WB141       ┆            ┆       │\n",
       "└────────┴─────────┴──────────┴──────────┴───┴────────────────┴───────────────┴────────────┴───────┘"
      ]
     },
     "execution_count": 39,
     "metadata": {},
     "output_type": "execute_result"
    }
   ],
   "source": [
    "around_gap\n"
   ]
  },
  {
   "cell_type": "code",
   "execution_count": 32,
   "metadata": {},
   "outputs": [
    {
     "name": "stdout",
     "output_type": "stream",
     "text": [
      "ZIX-7061XX + S-NP13\n",
      "LCT-15-1098 + S-WB141\n",
      "ZIX-7061XX + S-WB141\n"
     ]
    },
    {
     "data": {
      "application/vnd.plotly.v1+json": {
       "config": {
        "plotlyServerURL": "https://plot.ly"
       },
       "data": [
        {
         "alignmentgroup": "True",
         "hovertemplate": "Class=first - max<br>Location=%{x}<br>Delta(um)=%{y}<extra></extra>",
         "legendgroup": "first - max",
         "marker": {
          "color": "#636efa"
         },
         "name": "first - max",
         "notched": false,
         "offsetgroup": "first - max",
         "orientation": "v",
         "showlegend": true,
         "type": "box",
         "x": [
          "up",
          "down",
          "left",
          "right",
          "up",
          "down",
          "left",
          "right",
          "up",
          "down",
          "left",
          "right",
          "up",
          "down",
          "left",
          "right",
          "up",
          "down",
          "left",
          "right",
          "up",
          "down",
          "left",
          "right",
          "up",
          "down",
          "left",
          "right"
         ],
         "x0": " ",
         "xaxis": "x",
         "y": {
          "bdata": "AAAAAAAAAAAAAAAAAAAAAAAAAAAAAAAAAAAAAAAAAAAAAAAAAAAAAAAAAAAAAAAAAAAAAAAAAAAAAAAAAAAAAAAAAAAAAAAAAAAAAAAAAAAAAAAAAAAAAAAAAAAAAAAAAAAAAAAAAAAAAAAAAAAAAAAAAAAAAAAAAAAAAAAAAAAAAAAAAAAAAAAAAAAAAAAAAAAAAAAAAAAAAAAAAAAAAAAAAAAAAAAAAAAAAAAAAAAAAAAAAAAAAAAAAAAAAAAAAFbtmpDWeL8AAAAAAAAAAAAAAAAAAAAAAAAAAAAAAAA=",
          "dtype": "f8"
         },
         "y0": " ",
         "yaxis": "y"
        },
        {
         "alignmentgroup": "True",
         "hovertemplate": "Class=max - avg<br>Location=%{x}<br>Delta(um)=%{y}<extra></extra>",
         "legendgroup": "max - avg",
         "marker": {
          "color": "#EF553B"
         },
         "name": "max - avg",
         "notched": false,
         "offsetgroup": "max - avg",
         "orientation": "v",
         "showlegend": true,
         "type": "box",
         "x": [
          "up",
          "down",
          "left",
          "right",
          "up",
          "down",
          "left",
          "right",
          "up",
          "down",
          "left",
          "right",
          "up",
          "down",
          "left",
          "right",
          "up",
          "down",
          "left",
          "right",
          "up",
          "down",
          "left",
          "right",
          "up",
          "down",
          "left",
          "right"
         ],
         "x0": " ",
         "xaxis": "x",
         "y": {
          "bdata": "AKhn5m58kj9AnvXfOUqgP8CsW/OZorA/QBb03hgCpD8AAwgfSrSUP8CCIPb4c6g/QF9I4kCjrz8A8piByviXPwAG0zB8RIw/gDaFOlG3mD8AjivkALCoP4DDew4sR5g/gAFg4ckTpT/AAuicRCmqP0D5n/zdO7A/gPy2cdWGnD8AU+qScYycPwDDBlW0g4s/QG701mWdqj+ArG9gcqOoPwCkARe/hIU/gG/fWXFgoD8Arx6c9GOwP4ApzUEri6k/AGZyxSALjD/A3GCowwqnPwCS5F4Fna0/AO6qUVlemz8=",
          "dtype": "f8"
         },
         "y0": " ",
         "yaxis": "y"
        },
        {
         "alignmentgroup": "True",
         "hovertemplate": "Class=first - max<br>Location=%{x}<br>Delta(um)=%{y}<extra></extra>",
         "legendgroup": "first - max",
         "marker": {
          "color": "#636efa"
         },
         "name": "first - max",
         "notched": false,
         "offsetgroup": "first - max",
         "orientation": "v",
         "showlegend": true,
         "type": "box",
         "x": [
          "up",
          "down",
          "left",
          "right",
          "up",
          "down",
          "left",
          "right",
          "up",
          "down",
          "left",
          "right",
          "up",
          "down",
          "left",
          "right",
          "up",
          "down",
          "left",
          "right",
          "up",
          "down",
          "left",
          "right"
         ],
         "x0": " ",
         "xaxis": "x2",
         "y": {
          "bdata": "AAAAAAAAAAAAAAAAAAAAAAAAAAAAAAAAAAAAAAAAAAAAAAAAAAAAAAAAAAAAAAAAAAAAAAAAAAAAAAAAAAAAAADqk9xhE3m/AAAAAAAAAAAAAAAAAAAAAAAAAAAAAAAAAAAAAAAAAAAAAAAAAAAAAAAAAAAAAAAAAAAAAAAAAAAAAAAAAAAAAAAAAAAAAAAAAAAAAAAAAAAAAAAAAAAAAAAAAAAAAAAAAAAAAAAAAAAAAAAAAAAAAAAAAAAAAAAA",
          "dtype": "f8"
         },
         "y0": " ",
         "yaxis": "y2"
        },
        {
         "alignmentgroup": "True",
         "hovertemplate": "Class=max - avg<br>Location=%{x}<br>Delta(um)=%{y}<extra></extra>",
         "legendgroup": "max - avg",
         "marker": {
          "color": "#EF553B"
         },
         "name": "max - avg",
         "notched": false,
         "offsetgroup": "max - avg",
         "orientation": "v",
         "showlegend": true,
         "type": "box",
         "x": [
          "up",
          "down",
          "left",
          "right",
          "up",
          "down",
          "left",
          "right",
          "up",
          "down",
          "left",
          "right",
          "up",
          "down",
          "left",
          "right",
          "up",
          "down",
          "left",
          "right",
          "up",
          "down",
          "left",
          "right"
         ],
         "x0": " ",
         "xaxis": "x2",
         "y": {
          "bdata": "gMU98ffmpj/gyafHtgywPwCf3WtSG54/gFaI/VTLrD+AOzmeKjqpP8CnwdlSrK8/AB5m1CHcpT9AFk7S/DGlP4C0jNR7Kp8/YM76lGOysj+AhSzBmOOnP0BjHwmgvaM/ACs8HunCpj+AJ4eq8wOuPwCkjSPW4oM/gLk0fuGVqD/AiK8bW3SvPyDMJsCw/LU/gEgUWtb9qz+AARB39SqaPyD9RXXf1rI/ANHGtrF+rD8AcJjDSfWIPwDzW3Sy1KY/",
          "dtype": "f8"
         },
         "y0": " ",
         "yaxis": "y2"
        },
        {
         "alignmentgroup": "True",
         "hovertemplate": "Class=first - max<br>Location=%{x}<br>Delta(um)=%{y}<extra></extra>",
         "legendgroup": "first - max",
         "marker": {
          "color": "#636efa"
         },
         "name": "first - max",
         "notched": false,
         "offsetgroup": "first - max",
         "orientation": "v",
         "showlegend": true,
         "type": "box",
         "x": [
          "up",
          "down",
          "left",
          "right",
          "up",
          "down",
          "left",
          "right",
          "up",
          "down",
          "left",
          "right",
          "up",
          "down",
          "left",
          "right",
          "up",
          "down",
          "left",
          "right"
         ],
         "x0": " ",
         "xaxis": "x3",
         "y": {
          "bdata": "ABAMIHwocb8AAAAAAAAAAAAAAAAAAAAAAAAAAAAAAAAAAAAAAAAAAAAAAAAAAAAAAAAAAAAAAAAAAAAAAAAAAAAjvD0IAYm/AAAAAAAAAAAAAAAAAAAAAAAAAAAAAAAAAAAAAAAAAAAAAAAAAAAAAAAAAAAAAAAAAAAAAAAAAAAAAAAAAAAAAAAAAAAAAAAAAAAAAAAAAAAAAAAAAAAAAA==",
          "dtype": "f8"
         },
         "y0": " ",
         "yaxis": "y3"
        },
        {
         "alignmentgroup": "True",
         "hovertemplate": "Class=max - avg<br>Location=%{x}<br>Delta(um)=%{y}<extra></extra>",
         "legendgroup": "max - avg",
         "marker": {
          "color": "#EF553B"
         },
         "name": "max - avg",
         "notched": false,
         "offsetgroup": "max - avg",
         "orientation": "v",
         "showlegend": true,
         "type": "box",
         "x": [
          "up",
          "down",
          "left",
          "right",
          "up",
          "down",
          "left",
          "right",
          "up",
          "down",
          "left",
          "right",
          "up",
          "down",
          "left",
          "right",
          "up",
          "down",
          "left",
          "right"
         ],
         "x0": " ",
         "xaxis": "x3",
         "y": {
          "bdata": "AHo8iPjinj8A/rVhuUqcPwABHNavz7E/gLJmv0kupj9A3pRNFHyqP6DnVfiOdbA/IBbcD3hgtj8AaOvgYG+qP4BVT0HZ76Q/QGGlgoqqqz8g0hSmlHy1P0ARR2gVR6M/wC6RZodTrT/Ai5ZNyu6vP8A/RLRn4Lc/oOojS0ESsz+AUkDa/wCrP0DLX8a58rA/YMMkAQ+xtj8gY8IeyZuwPw==",
          "dtype": "f8"
         },
         "y0": " ",
         "yaxis": "y3"
        }
       ],
       "layout": {
        "template": {
         "data": {
          "bar": [
           {
            "error_x": {
             "color": "#2a3f5f"
            },
            "error_y": {
             "color": "#2a3f5f"
            },
            "marker": {
             "line": {
              "color": "#E5ECF6",
              "width": 0.5
             },
             "pattern": {
              "fillmode": "overlay",
              "size": 10,
              "solidity": 0.2
             }
            },
            "type": "bar"
           }
          ],
          "barpolar": [
           {
            "marker": {
             "line": {
              "color": "#E5ECF6",
              "width": 0.5
             },
             "pattern": {
              "fillmode": "overlay",
              "size": 10,
              "solidity": 0.2
             }
            },
            "type": "barpolar"
           }
          ],
          "carpet": [
           {
            "aaxis": {
             "endlinecolor": "#2a3f5f",
             "gridcolor": "white",
             "linecolor": "white",
             "minorgridcolor": "white",
             "startlinecolor": "#2a3f5f"
            },
            "baxis": {
             "endlinecolor": "#2a3f5f",
             "gridcolor": "white",
             "linecolor": "white",
             "minorgridcolor": "white",
             "startlinecolor": "#2a3f5f"
            },
            "type": "carpet"
           }
          ],
          "choropleth": [
           {
            "colorbar": {
             "outlinewidth": 0,
             "ticks": ""
            },
            "type": "choropleth"
           }
          ],
          "contour": [
           {
            "colorbar": {
             "outlinewidth": 0,
             "ticks": ""
            },
            "colorscale": [
             [
              0,
              "#0d0887"
             ],
             [
              0.1111111111111111,
              "#46039f"
             ],
             [
              0.2222222222222222,
              "#7201a8"
             ],
             [
              0.3333333333333333,
              "#9c179e"
             ],
             [
              0.4444444444444444,
              "#bd3786"
             ],
             [
              0.5555555555555556,
              "#d8576b"
             ],
             [
              0.6666666666666666,
              "#ed7953"
             ],
             [
              0.7777777777777778,
              "#fb9f3a"
             ],
             [
              0.8888888888888888,
              "#fdca26"
             ],
             [
              1,
              "#f0f921"
             ]
            ],
            "type": "contour"
           }
          ],
          "contourcarpet": [
           {
            "colorbar": {
             "outlinewidth": 0,
             "ticks": ""
            },
            "type": "contourcarpet"
           }
          ],
          "heatmap": [
           {
            "colorbar": {
             "outlinewidth": 0,
             "ticks": ""
            },
            "colorscale": [
             [
              0,
              "#0d0887"
             ],
             [
              0.1111111111111111,
              "#46039f"
             ],
             [
              0.2222222222222222,
              "#7201a8"
             ],
             [
              0.3333333333333333,
              "#9c179e"
             ],
             [
              0.4444444444444444,
              "#bd3786"
             ],
             [
              0.5555555555555556,
              "#d8576b"
             ],
             [
              0.6666666666666666,
              "#ed7953"
             ],
             [
              0.7777777777777778,
              "#fb9f3a"
             ],
             [
              0.8888888888888888,
              "#fdca26"
             ],
             [
              1,
              "#f0f921"
             ]
            ],
            "type": "heatmap"
           }
          ],
          "histogram": [
           {
            "marker": {
             "pattern": {
              "fillmode": "overlay",
              "size": 10,
              "solidity": 0.2
             }
            },
            "type": "histogram"
           }
          ],
          "histogram2d": [
           {
            "colorbar": {
             "outlinewidth": 0,
             "ticks": ""
            },
            "colorscale": [
             [
              0,
              "#0d0887"
             ],
             [
              0.1111111111111111,
              "#46039f"
             ],
             [
              0.2222222222222222,
              "#7201a8"
             ],
             [
              0.3333333333333333,
              "#9c179e"
             ],
             [
              0.4444444444444444,
              "#bd3786"
             ],
             [
              0.5555555555555556,
              "#d8576b"
             ],
             [
              0.6666666666666666,
              "#ed7953"
             ],
             [
              0.7777777777777778,
              "#fb9f3a"
             ],
             [
              0.8888888888888888,
              "#fdca26"
             ],
             [
              1,
              "#f0f921"
             ]
            ],
            "type": "histogram2d"
           }
          ],
          "histogram2dcontour": [
           {
            "colorbar": {
             "outlinewidth": 0,
             "ticks": ""
            },
            "colorscale": [
             [
              0,
              "#0d0887"
             ],
             [
              0.1111111111111111,
              "#46039f"
             ],
             [
              0.2222222222222222,
              "#7201a8"
             ],
             [
              0.3333333333333333,
              "#9c179e"
             ],
             [
              0.4444444444444444,
              "#bd3786"
             ],
             [
              0.5555555555555556,
              "#d8576b"
             ],
             [
              0.6666666666666666,
              "#ed7953"
             ],
             [
              0.7777777777777778,
              "#fb9f3a"
             ],
             [
              0.8888888888888888,
              "#fdca26"
             ],
             [
              1,
              "#f0f921"
             ]
            ],
            "type": "histogram2dcontour"
           }
          ],
          "mesh3d": [
           {
            "colorbar": {
             "outlinewidth": 0,
             "ticks": ""
            },
            "type": "mesh3d"
           }
          ],
          "parcoords": [
           {
            "line": {
             "colorbar": {
              "outlinewidth": 0,
              "ticks": ""
             }
            },
            "type": "parcoords"
           }
          ],
          "pie": [
           {
            "automargin": true,
            "type": "pie"
           }
          ],
          "scatter": [
           {
            "fillpattern": {
             "fillmode": "overlay",
             "size": 10,
             "solidity": 0.2
            },
            "type": "scatter"
           }
          ],
          "scatter3d": [
           {
            "line": {
             "colorbar": {
              "outlinewidth": 0,
              "ticks": ""
             }
            },
            "marker": {
             "colorbar": {
              "outlinewidth": 0,
              "ticks": ""
             }
            },
            "type": "scatter3d"
           }
          ],
          "scattercarpet": [
           {
            "marker": {
             "colorbar": {
              "outlinewidth": 0,
              "ticks": ""
             }
            },
            "type": "scattercarpet"
           }
          ],
          "scattergeo": [
           {
            "marker": {
             "colorbar": {
              "outlinewidth": 0,
              "ticks": ""
             }
            },
            "type": "scattergeo"
           }
          ],
          "scattergl": [
           {
            "marker": {
             "colorbar": {
              "outlinewidth": 0,
              "ticks": ""
             }
            },
            "type": "scattergl"
           }
          ],
          "scattermap": [
           {
            "marker": {
             "colorbar": {
              "outlinewidth": 0,
              "ticks": ""
             }
            },
            "type": "scattermap"
           }
          ],
          "scattermapbox": [
           {
            "marker": {
             "colorbar": {
              "outlinewidth": 0,
              "ticks": ""
             }
            },
            "type": "scattermapbox"
           }
          ],
          "scatterpolar": [
           {
            "marker": {
             "colorbar": {
              "outlinewidth": 0,
              "ticks": ""
             }
            },
            "type": "scatterpolar"
           }
          ],
          "scatterpolargl": [
           {
            "marker": {
             "colorbar": {
              "outlinewidth": 0,
              "ticks": ""
             }
            },
            "type": "scatterpolargl"
           }
          ],
          "scatterternary": [
           {
            "marker": {
             "colorbar": {
              "outlinewidth": 0,
              "ticks": ""
             }
            },
            "type": "scatterternary"
           }
          ],
          "surface": [
           {
            "colorbar": {
             "outlinewidth": 0,
             "ticks": ""
            },
            "colorscale": [
             [
              0,
              "#0d0887"
             ],
             [
              0.1111111111111111,
              "#46039f"
             ],
             [
              0.2222222222222222,
              "#7201a8"
             ],
             [
              0.3333333333333333,
              "#9c179e"
             ],
             [
              0.4444444444444444,
              "#bd3786"
             ],
             [
              0.5555555555555556,
              "#d8576b"
             ],
             [
              0.6666666666666666,
              "#ed7953"
             ],
             [
              0.7777777777777778,
              "#fb9f3a"
             ],
             [
              0.8888888888888888,
              "#fdca26"
             ],
             [
              1,
              "#f0f921"
             ]
            ],
            "type": "surface"
           }
          ],
          "table": [
           {
            "cells": {
             "fill": {
              "color": "#EBF0F8"
             },
             "line": {
              "color": "white"
             }
            },
            "header": {
             "fill": {
              "color": "#C8D4E3"
             },
             "line": {
              "color": "white"
             }
            },
            "type": "table"
           }
          ]
         },
         "layout": {
          "annotationdefaults": {
           "arrowcolor": "#2a3f5f",
           "arrowhead": 0,
           "arrowwidth": 1
          },
          "autotypenumbers": "strict",
          "coloraxis": {
           "colorbar": {
            "outlinewidth": 0,
            "ticks": ""
           }
          },
          "colorscale": {
           "diverging": [
            [
             0,
             "#8e0152"
            ],
            [
             0.1,
             "#c51b7d"
            ],
            [
             0.2,
             "#de77ae"
            ],
            [
             0.3,
             "#f1b6da"
            ],
            [
             0.4,
             "#fde0ef"
            ],
            [
             0.5,
             "#f7f7f7"
            ],
            [
             0.6,
             "#e6f5d0"
            ],
            [
             0.7,
             "#b8e186"
            ],
            [
             0.8,
             "#7fbc41"
            ],
            [
             0.9,
             "#4d9221"
            ],
            [
             1,
             "#276419"
            ]
           ],
           "sequential": [
            [
             0,
             "#0d0887"
            ],
            [
             0.1111111111111111,
             "#46039f"
            ],
            [
             0.2222222222222222,
             "#7201a8"
            ],
            [
             0.3333333333333333,
             "#9c179e"
            ],
            [
             0.4444444444444444,
             "#bd3786"
            ],
            [
             0.5555555555555556,
             "#d8576b"
            ],
            [
             0.6666666666666666,
             "#ed7953"
            ],
            [
             0.7777777777777778,
             "#fb9f3a"
            ],
            [
             0.8888888888888888,
             "#fdca26"
            ],
            [
             1,
             "#f0f921"
            ]
           ],
           "sequentialminus": [
            [
             0,
             "#0d0887"
            ],
            [
             0.1111111111111111,
             "#46039f"
            ],
            [
             0.2222222222222222,
             "#7201a8"
            ],
            [
             0.3333333333333333,
             "#9c179e"
            ],
            [
             0.4444444444444444,
             "#bd3786"
            ],
            [
             0.5555555555555556,
             "#d8576b"
            ],
            [
             0.6666666666666666,
             "#ed7953"
            ],
            [
             0.7777777777777778,
             "#fb9f3a"
            ],
            [
             0.8888888888888888,
             "#fdca26"
            ],
            [
             1,
             "#f0f921"
            ]
           ]
          },
          "colorway": [
           "#636efa",
           "#EF553B",
           "#00cc96",
           "#ab63fa",
           "#FFA15A",
           "#19d3f3",
           "#FF6692",
           "#B6E880",
           "#FF97FF",
           "#FECB52"
          ],
          "font": {
           "color": "#2a3f5f"
          },
          "geo": {
           "bgcolor": "white",
           "lakecolor": "white",
           "landcolor": "#E5ECF6",
           "showlakes": true,
           "showland": true,
           "subunitcolor": "white"
          },
          "hoverlabel": {
           "align": "left"
          },
          "hovermode": "closest",
          "mapbox": {
           "style": "light"
          },
          "paper_bgcolor": "white",
          "plot_bgcolor": "#E5ECF6",
          "polar": {
           "angularaxis": {
            "gridcolor": "white",
            "linecolor": "white",
            "ticks": ""
           },
           "bgcolor": "#E5ECF6",
           "radialaxis": {
            "gridcolor": "white",
            "linecolor": "white",
            "ticks": ""
           }
          },
          "scene": {
           "xaxis": {
            "backgroundcolor": "#E5ECF6",
            "gridcolor": "white",
            "gridwidth": 2,
            "linecolor": "white",
            "showbackground": true,
            "ticks": "",
            "zerolinecolor": "white"
           },
           "yaxis": {
            "backgroundcolor": "#E5ECF6",
            "gridcolor": "white",
            "gridwidth": 2,
            "linecolor": "white",
            "showbackground": true,
            "ticks": "",
            "zerolinecolor": "white"
           },
           "zaxis": {
            "backgroundcolor": "#E5ECF6",
            "gridcolor": "white",
            "gridwidth": 2,
            "linecolor": "white",
            "showbackground": true,
            "ticks": "",
            "zerolinecolor": "white"
           }
          },
          "shapedefaults": {
           "line": {
            "color": "#2a3f5f"
           }
          },
          "ternary": {
           "aaxis": {
            "gridcolor": "white",
            "linecolor": "white",
            "ticks": ""
           },
           "baxis": {
            "gridcolor": "white",
            "linecolor": "white",
            "ticks": ""
           },
           "bgcolor": "#E5ECF6",
           "caxis": {
            "gridcolor": "white",
            "linecolor": "white",
            "ticks": ""
           }
          },
          "title": {
           "x": 0.05
          },
          "xaxis": {
           "automargin": true,
           "gridcolor": "white",
           "linecolor": "white",
           "ticks": "",
           "title": {
            "standoff": 15
           },
           "zerolinecolor": "white",
           "zerolinewidth": 2
          },
          "yaxis": {
           "automargin": true,
           "gridcolor": "white",
           "linecolor": "white",
           "ticks": "",
           "title": {
            "standoff": 15
           },
           "zerolinecolor": "white",
           "zerolinewidth": 2
          }
         }
        },
        "xaxis": {
         "anchor": "y",
         "domain": [
          0,
          0.2888888888888889
         ]
        },
        "xaxis2": {
         "anchor": "y2",
         "domain": [
          0.35555555555555557,
          0.6444444444444445
         ]
        },
        "xaxis3": {
         "anchor": "y3",
         "domain": [
          0.7111111111111111,
          1
         ]
        },
        "yaxis": {
         "anchor": "x",
         "domain": [
          0,
          1
         ]
        },
        "yaxis2": {
         "anchor": "x2",
         "domain": [
          0,
          1
         ],
         "matches": "y",
         "showticklabels": false
        },
        "yaxis3": {
         "anchor": "x3",
         "domain": [
          0,
          1
         ],
         "matches": "y",
         "showticklabels": false
        }
       }
      }
     },
     "metadata": {},
     "output_type": "display_data"
    }
   ],
   "source": [
    "fig = SealAnalysis.Plot.around_delta(\n",
    "    SealAnalysis.Table.generate_delta_table(around_gap),\n",
    "    x='Location',\n",
    "    y='Delta(um)',\n",
    "    color='Class',\n",
    ")\n",
    "fig.show()"
   ]
  },
  {
   "cell_type": "code",
   "execution_count": 34,
   "metadata": {},
   "outputs": [
    {
     "name": "stdout",
     "output_type": "stream",
     "text": [
      "ZIX-7061XX + S-NP13\n",
      "LCT-15-1098 + S-WB141\n",
      "ZIX-7061XX + S-WB141\n"
     ]
    },
    {
     "data": {
      "application/vnd.plotly.v1+json": {
       "config": {
        "plotlyServerURL": "https://plot.ly"
       },
       "data": [
        {
         "alignmentgroup": "True",
         "hovertemplate": "Class=first - max<br>Location=%{x}<br>Delta(um)=%{y}<extra></extra>",
         "legendgroup": "first - max",
         "marker": {
          "color": "#636efa"
         },
         "name": "first - max",
         "notched": false,
         "offsetgroup": "first - max",
         "orientation": "v",
         "showlegend": true,
         "type": "box",
         "x": [
          "up",
          "down",
          "left",
          "right",
          "up",
          "down",
          "left",
          "right",
          "up",
          "down",
          "left",
          "right",
          "up",
          "down",
          "left",
          "right",
          "up",
          "down",
          "left",
          "right",
          "up",
          "down",
          "left",
          "right",
          "up",
          "down",
          "left",
          "right"
         ],
         "x0": " ",
         "xaxis": "x",
         "y": {
          "bdata": "AAAAAAAAAAAAAAAAAAAAAAAAAAAAAAAAAAAAAAAAAAAAAAAAAAAAAAAAAAAAAAAAAAAAAAAAAAAAAAAAAAAAAAAAAAAAAAAAAAAAAAAAAAAAAAAAAAAAAAAAAAAAAAAAAFbtmpDWeL8AAAAAAAAAAAAAAAAAAAAAAAAAAAAAAAAAAAAAAAAAAAAAAAAAAAAAAAAAAAAAAAAAAAAAAAAAAAAAAAAAAAAAAAAAAAAAAAAAAAAAAAAAAAAAAAAAAAAAAAAAAAAAAAAAAAAAAAAAAAAAAAAAAAAAAAAAAAAAAAA=",
          "dtype": "f8"
         },
         "y0": " ",
         "yaxis": "y"
        },
        {
         "alignmentgroup": "True",
         "hovertemplate": "Class=max - avg<br>Location=%{x}<br>Delta(um)=%{y}<extra></extra>",
         "legendgroup": "max - avg",
         "marker": {
          "color": "#EF553B"
         },
         "name": "max - avg",
         "notched": false,
         "offsetgroup": "max - avg",
         "orientation": "v",
         "showlegend": true,
         "type": "box",
         "x": [
          "up",
          "down",
          "left",
          "right",
          "up",
          "down",
          "left",
          "right",
          "up",
          "down",
          "left",
          "right",
          "up",
          "down",
          "left",
          "right",
          "up",
          "down",
          "left",
          "right",
          "up",
          "down",
          "left",
          "right",
          "up",
          "down",
          "left",
          "right"
         ],
         "x0": " ",
         "xaxis": "x",
         "y": {
          "bdata": "AFPqknGMnD8AwwZVtIOLP0Bu9NZlnao/gKxvYHKjqD+AAWDhyROlP8AC6JxEKao/QPmf/N07sD+A/LZx1YacPwCoZ+ZufJI/QJ713zlKoD/ArFvzmaKwP0AW9N4YAqQ/AGZyxSALjD/A3GCowwqnPwCS5F4Fna0/AO6qUVlemz8AAwgfSrSUP8CCIPb4c6g/QF9I4kCjrz8A8piByviXPwCkARe/hIU/gG/fWXFgoD8Arx6c9GOwP4ApzUEri6k/AAbTMHxEjD+ANoU6UbeYPwCOK+QAsKg/gMN7DixHmD8=",
          "dtype": "f8"
         },
         "y0": " ",
         "yaxis": "y"
        },
        {
         "alignmentgroup": "True",
         "hovertemplate": "Class=first - max<br>Location=%{x}<br>Delta(um)=%{y}<extra></extra>",
         "legendgroup": "first - max",
         "marker": {
          "color": "#636efa"
         },
         "name": "first - max",
         "notched": false,
         "offsetgroup": "first - max",
         "orientation": "v",
         "showlegend": true,
         "type": "box",
         "x": [
          "up",
          "down",
          "left",
          "right",
          "up",
          "down",
          "left",
          "right",
          "up",
          "down",
          "left",
          "right",
          "up",
          "down",
          "left",
          "right",
          "up",
          "down",
          "left",
          "right",
          "up",
          "down",
          "left",
          "right"
         ],
         "x0": " ",
         "xaxis": "x2",
         "y": {
          "bdata": "AAAAAAAAAAAAAAAAAAAAAAAAAAAAAAAAAAAAAAAAAAAAAAAAAAAAAAAAAAAAAAAAAAAAAAAAAAAAAAAAAAAAAAAAAAAAAAAAAAAAAAAAAAAAAAAAAAAAAAAAAAAAAAAAAAAAAAAAAAAAAAAAAAAAAAAAAAAAAAAAAAAAAAAAAAAA6pPcYRN5vwAAAAAAAAAAAAAAAAAAAAAAAAAAAAAAAAAAAAAAAAAAAAAAAAAAAAAAAAAAAAAAAAAAAAAAAAAA",
          "dtype": "f8"
         },
         "y0": " ",
         "yaxis": "y2"
        },
        {
         "alignmentgroup": "True",
         "hovertemplate": "Class=max - avg<br>Location=%{x}<br>Delta(um)=%{y}<extra></extra>",
         "legendgroup": "max - avg",
         "marker": {
          "color": "#EF553B"
         },
         "name": "max - avg",
         "notched": false,
         "offsetgroup": "max - avg",
         "orientation": "v",
         "showlegend": true,
         "type": "box",
         "x": [
          "up",
          "down",
          "left",
          "right",
          "up",
          "down",
          "left",
          "right",
          "up",
          "down",
          "left",
          "right",
          "up",
          "down",
          "left",
          "right",
          "up",
          "down",
          "left",
          "right",
          "up",
          "down",
          "left",
          "right"
         ],
         "x0": " ",
         "xaxis": "x2",
         "y": {
          "bdata": "wIivG1t0rz8gzCbAsPy1P4BIFFrW/as/gAEQd/Uqmj+AxT3x9+amP+DJp8e2DLA/AJ/da1Ibnj+AVoj9VMusPyD9RXXf1rI/ANHGtrF+rD8AcJjDSfWIPwDzW3Sy1KY/gDs5nio6qT/Ap8HZUqyvPwAeZtQh3KU/QBZO0vwxpT+AtIzUeyqfP2DO+pRjsrI/gIUswZjjpz9AYx8JoL2jPwArPB7pwqY/gCeHqvMDrj8ApI0j1uKDP4C5NH7hlag/",
          "dtype": "f8"
         },
         "y0": " ",
         "yaxis": "y2"
        },
        {
         "alignmentgroup": "True",
         "hovertemplate": "Class=first - max<br>Location=%{x}<br>Delta(um)=%{y}<extra></extra>",
         "legendgroup": "first - max",
         "marker": {
          "color": "#636efa"
         },
         "name": "first - max",
         "notched": false,
         "offsetgroup": "first - max",
         "orientation": "v",
         "showlegend": true,
         "type": "box",
         "x": [
          "up",
          "down",
          "left",
          "right",
          "up",
          "down",
          "left",
          "right",
          "up",
          "down",
          "left",
          "right",
          "up",
          "down",
          "left",
          "right",
          "up",
          "down",
          "left",
          "right"
         ],
         "x0": " ",
         "xaxis": "x3",
         "y": {
          "bdata": "ACO8PQgBib8AAAAAAAAAAAAAAAAAAAAAAAAAAAAAAAAAAAAAAAAAAAAAAAAAAAAAAAAAAAAAAAAAAAAAAAAAAAAAAAAAAAAAAAAAAAAAAAAAAAAAAAAAAAAAAAAAAAAAAAAAAAAAAAAAAAAAAAAAAAAAAAAAAAAAAAAAAAAAAAAAEAwgfChxvwAAAAAAAAAAAAAAAAAAAAAAAAAAAAAAAA==",
          "dtype": "f8"
         },
         "y0": " ",
         "yaxis": "y3"
        },
        {
         "alignmentgroup": "True",
         "hovertemplate": "Class=max - avg<br>Location=%{x}<br>Delta(um)=%{y}<extra></extra>",
         "legendgroup": "max - avg",
         "marker": {
          "color": "#EF553B"
         },
         "name": "max - avg",
         "notched": false,
         "offsetgroup": "max - avg",
         "orientation": "v",
         "showlegend": true,
         "type": "box",
         "x": [
          "up",
          "down",
          "left",
          "right",
          "up",
          "down",
          "left",
          "right",
          "up",
          "down",
          "left",
          "right",
          "up",
          "down",
          "left",
          "right",
          "up",
          "down",
          "left",
          "right"
         ],
         "x0": " ",
         "xaxis": "x3",
         "y": {
          "bdata": "gFVPQdnvpD9AYaWCiqqrPyDSFKaUfLU/QBFHaBVHoz9A3pRNFHyqP6DnVfiOdbA/IBbcD3hgtj8AaOvgYG+qP8AukWaHU60/wIuWTcrurz/AP0S0Z+C3P6DqI0tBErM/gFJA2v8Aqz9Ay1/GufKwP2DDJAEPsbY/IGPCHsmbsD8AejyI+OKePwD+tWG5Spw/AAEc1q/PsT+Asma/SS6mPw==",
          "dtype": "f8"
         },
         "y0": " ",
         "yaxis": "y3"
        }
       ],
       "layout": {
        "template": {
         "data": {
          "bar": [
           {
            "error_x": {
             "color": "#2a3f5f"
            },
            "error_y": {
             "color": "#2a3f5f"
            },
            "marker": {
             "line": {
              "color": "#E5ECF6",
              "width": 0.5
             },
             "pattern": {
              "fillmode": "overlay",
              "size": 10,
              "solidity": 0.2
             }
            },
            "type": "bar"
           }
          ],
          "barpolar": [
           {
            "marker": {
             "line": {
              "color": "#E5ECF6",
              "width": 0.5
             },
             "pattern": {
              "fillmode": "overlay",
              "size": 10,
              "solidity": 0.2
             }
            },
            "type": "barpolar"
           }
          ],
          "carpet": [
           {
            "aaxis": {
             "endlinecolor": "#2a3f5f",
             "gridcolor": "white",
             "linecolor": "white",
             "minorgridcolor": "white",
             "startlinecolor": "#2a3f5f"
            },
            "baxis": {
             "endlinecolor": "#2a3f5f",
             "gridcolor": "white",
             "linecolor": "white",
             "minorgridcolor": "white",
             "startlinecolor": "#2a3f5f"
            },
            "type": "carpet"
           }
          ],
          "choropleth": [
           {
            "colorbar": {
             "outlinewidth": 0,
             "ticks": ""
            },
            "type": "choropleth"
           }
          ],
          "contour": [
           {
            "colorbar": {
             "outlinewidth": 0,
             "ticks": ""
            },
            "colorscale": [
             [
              0,
              "#0d0887"
             ],
             [
              0.1111111111111111,
              "#46039f"
             ],
             [
              0.2222222222222222,
              "#7201a8"
             ],
             [
              0.3333333333333333,
              "#9c179e"
             ],
             [
              0.4444444444444444,
              "#bd3786"
             ],
             [
              0.5555555555555556,
              "#d8576b"
             ],
             [
              0.6666666666666666,
              "#ed7953"
             ],
             [
              0.7777777777777778,
              "#fb9f3a"
             ],
             [
              0.8888888888888888,
              "#fdca26"
             ],
             [
              1,
              "#f0f921"
             ]
            ],
            "type": "contour"
           }
          ],
          "contourcarpet": [
           {
            "colorbar": {
             "outlinewidth": 0,
             "ticks": ""
            },
            "type": "contourcarpet"
           }
          ],
          "heatmap": [
           {
            "colorbar": {
             "outlinewidth": 0,
             "ticks": ""
            },
            "colorscale": [
             [
              0,
              "#0d0887"
             ],
             [
              0.1111111111111111,
              "#46039f"
             ],
             [
              0.2222222222222222,
              "#7201a8"
             ],
             [
              0.3333333333333333,
              "#9c179e"
             ],
             [
              0.4444444444444444,
              "#bd3786"
             ],
             [
              0.5555555555555556,
              "#d8576b"
             ],
             [
              0.6666666666666666,
              "#ed7953"
             ],
             [
              0.7777777777777778,
              "#fb9f3a"
             ],
             [
              0.8888888888888888,
              "#fdca26"
             ],
             [
              1,
              "#f0f921"
             ]
            ],
            "type": "heatmap"
           }
          ],
          "histogram": [
           {
            "marker": {
             "pattern": {
              "fillmode": "overlay",
              "size": 10,
              "solidity": 0.2
             }
            },
            "type": "histogram"
           }
          ],
          "histogram2d": [
           {
            "colorbar": {
             "outlinewidth": 0,
             "ticks": ""
            },
            "colorscale": [
             [
              0,
              "#0d0887"
             ],
             [
              0.1111111111111111,
              "#46039f"
             ],
             [
              0.2222222222222222,
              "#7201a8"
             ],
             [
              0.3333333333333333,
              "#9c179e"
             ],
             [
              0.4444444444444444,
              "#bd3786"
             ],
             [
              0.5555555555555556,
              "#d8576b"
             ],
             [
              0.6666666666666666,
              "#ed7953"
             ],
             [
              0.7777777777777778,
              "#fb9f3a"
             ],
             [
              0.8888888888888888,
              "#fdca26"
             ],
             [
              1,
              "#f0f921"
             ]
            ],
            "type": "histogram2d"
           }
          ],
          "histogram2dcontour": [
           {
            "colorbar": {
             "outlinewidth": 0,
             "ticks": ""
            },
            "colorscale": [
             [
              0,
              "#0d0887"
             ],
             [
              0.1111111111111111,
              "#46039f"
             ],
             [
              0.2222222222222222,
              "#7201a8"
             ],
             [
              0.3333333333333333,
              "#9c179e"
             ],
             [
              0.4444444444444444,
              "#bd3786"
             ],
             [
              0.5555555555555556,
              "#d8576b"
             ],
             [
              0.6666666666666666,
              "#ed7953"
             ],
             [
              0.7777777777777778,
              "#fb9f3a"
             ],
             [
              0.8888888888888888,
              "#fdca26"
             ],
             [
              1,
              "#f0f921"
             ]
            ],
            "type": "histogram2dcontour"
           }
          ],
          "mesh3d": [
           {
            "colorbar": {
             "outlinewidth": 0,
             "ticks": ""
            },
            "type": "mesh3d"
           }
          ],
          "parcoords": [
           {
            "line": {
             "colorbar": {
              "outlinewidth": 0,
              "ticks": ""
             }
            },
            "type": "parcoords"
           }
          ],
          "pie": [
           {
            "automargin": true,
            "type": "pie"
           }
          ],
          "scatter": [
           {
            "fillpattern": {
             "fillmode": "overlay",
             "size": 10,
             "solidity": 0.2
            },
            "type": "scatter"
           }
          ],
          "scatter3d": [
           {
            "line": {
             "colorbar": {
              "outlinewidth": 0,
              "ticks": ""
             }
            },
            "marker": {
             "colorbar": {
              "outlinewidth": 0,
              "ticks": ""
             }
            },
            "type": "scatter3d"
           }
          ],
          "scattercarpet": [
           {
            "marker": {
             "colorbar": {
              "outlinewidth": 0,
              "ticks": ""
             }
            },
            "type": "scattercarpet"
           }
          ],
          "scattergeo": [
           {
            "marker": {
             "colorbar": {
              "outlinewidth": 0,
              "ticks": ""
             }
            },
            "type": "scattergeo"
           }
          ],
          "scattergl": [
           {
            "marker": {
             "colorbar": {
              "outlinewidth": 0,
              "ticks": ""
             }
            },
            "type": "scattergl"
           }
          ],
          "scattermap": [
           {
            "marker": {
             "colorbar": {
              "outlinewidth": 0,
              "ticks": ""
             }
            },
            "type": "scattermap"
           }
          ],
          "scattermapbox": [
           {
            "marker": {
             "colorbar": {
              "outlinewidth": 0,
              "ticks": ""
             }
            },
            "type": "scattermapbox"
           }
          ],
          "scatterpolar": [
           {
            "marker": {
             "colorbar": {
              "outlinewidth": 0,
              "ticks": ""
             }
            },
            "type": "scatterpolar"
           }
          ],
          "scatterpolargl": [
           {
            "marker": {
             "colorbar": {
              "outlinewidth": 0,
              "ticks": ""
             }
            },
            "type": "scatterpolargl"
           }
          ],
          "scatterternary": [
           {
            "marker": {
             "colorbar": {
              "outlinewidth": 0,
              "ticks": ""
             }
            },
            "type": "scatterternary"
           }
          ],
          "surface": [
           {
            "colorbar": {
             "outlinewidth": 0,
             "ticks": ""
            },
            "colorscale": [
             [
              0,
              "#0d0887"
             ],
             [
              0.1111111111111111,
              "#46039f"
             ],
             [
              0.2222222222222222,
              "#7201a8"
             ],
             [
              0.3333333333333333,
              "#9c179e"
             ],
             [
              0.4444444444444444,
              "#bd3786"
             ],
             [
              0.5555555555555556,
              "#d8576b"
             ],
             [
              0.6666666666666666,
              "#ed7953"
             ],
             [
              0.7777777777777778,
              "#fb9f3a"
             ],
             [
              0.8888888888888888,
              "#fdca26"
             ],
             [
              1,
              "#f0f921"
             ]
            ],
            "type": "surface"
           }
          ],
          "table": [
           {
            "cells": {
             "fill": {
              "color": "#EBF0F8"
             },
             "line": {
              "color": "white"
             }
            },
            "header": {
             "fill": {
              "color": "#C8D4E3"
             },
             "line": {
              "color": "white"
             }
            },
            "type": "table"
           }
          ]
         },
         "layout": {
          "annotationdefaults": {
           "arrowcolor": "#2a3f5f",
           "arrowhead": 0,
           "arrowwidth": 1
          },
          "autotypenumbers": "strict",
          "coloraxis": {
           "colorbar": {
            "outlinewidth": 0,
            "ticks": ""
           }
          },
          "colorscale": {
           "diverging": [
            [
             0,
             "#8e0152"
            ],
            [
             0.1,
             "#c51b7d"
            ],
            [
             0.2,
             "#de77ae"
            ],
            [
             0.3,
             "#f1b6da"
            ],
            [
             0.4,
             "#fde0ef"
            ],
            [
             0.5,
             "#f7f7f7"
            ],
            [
             0.6,
             "#e6f5d0"
            ],
            [
             0.7,
             "#b8e186"
            ],
            [
             0.8,
             "#7fbc41"
            ],
            [
             0.9,
             "#4d9221"
            ],
            [
             1,
             "#276419"
            ]
           ],
           "sequential": [
            [
             0,
             "#0d0887"
            ],
            [
             0.1111111111111111,
             "#46039f"
            ],
            [
             0.2222222222222222,
             "#7201a8"
            ],
            [
             0.3333333333333333,
             "#9c179e"
            ],
            [
             0.4444444444444444,
             "#bd3786"
            ],
            [
             0.5555555555555556,
             "#d8576b"
            ],
            [
             0.6666666666666666,
             "#ed7953"
            ],
            [
             0.7777777777777778,
             "#fb9f3a"
            ],
            [
             0.8888888888888888,
             "#fdca26"
            ],
            [
             1,
             "#f0f921"
            ]
           ],
           "sequentialminus": [
            [
             0,
             "#0d0887"
            ],
            [
             0.1111111111111111,
             "#46039f"
            ],
            [
             0.2222222222222222,
             "#7201a8"
            ],
            [
             0.3333333333333333,
             "#9c179e"
            ],
            [
             0.4444444444444444,
             "#bd3786"
            ],
            [
             0.5555555555555556,
             "#d8576b"
            ],
            [
             0.6666666666666666,
             "#ed7953"
            ],
            [
             0.7777777777777778,
             "#fb9f3a"
            ],
            [
             0.8888888888888888,
             "#fdca26"
            ],
            [
             1,
             "#f0f921"
            ]
           ]
          },
          "colorway": [
           "#636efa",
           "#EF553B",
           "#00cc96",
           "#ab63fa",
           "#FFA15A",
           "#19d3f3",
           "#FF6692",
           "#B6E880",
           "#FF97FF",
           "#FECB52"
          ],
          "font": {
           "color": "#2a3f5f"
          },
          "geo": {
           "bgcolor": "white",
           "lakecolor": "white",
           "landcolor": "#E5ECF6",
           "showlakes": true,
           "showland": true,
           "subunitcolor": "white"
          },
          "hoverlabel": {
           "align": "left"
          },
          "hovermode": "closest",
          "mapbox": {
           "style": "light"
          },
          "paper_bgcolor": "white",
          "plot_bgcolor": "#E5ECF6",
          "polar": {
           "angularaxis": {
            "gridcolor": "white",
            "linecolor": "white",
            "ticks": ""
           },
           "bgcolor": "#E5ECF6",
           "radialaxis": {
            "gridcolor": "white",
            "linecolor": "white",
            "ticks": ""
           }
          },
          "scene": {
           "xaxis": {
            "backgroundcolor": "#E5ECF6",
            "gridcolor": "white",
            "gridwidth": 2,
            "linecolor": "white",
            "showbackground": true,
            "ticks": "",
            "zerolinecolor": "white"
           },
           "yaxis": {
            "backgroundcolor": "#E5ECF6",
            "gridcolor": "white",
            "gridwidth": 2,
            "linecolor": "white",
            "showbackground": true,
            "ticks": "",
            "zerolinecolor": "white"
           },
           "zaxis": {
            "backgroundcolor": "#E5ECF6",
            "gridcolor": "white",
            "gridwidth": 2,
            "linecolor": "white",
            "showbackground": true,
            "ticks": "",
            "zerolinecolor": "white"
           }
          },
          "shapedefaults": {
           "line": {
            "color": "#2a3f5f"
           }
          },
          "ternary": {
           "aaxis": {
            "gridcolor": "white",
            "linecolor": "white",
            "ticks": ""
           },
           "baxis": {
            "gridcolor": "white",
            "linecolor": "white",
            "ticks": ""
           },
           "bgcolor": "#E5ECF6",
           "caxis": {
            "gridcolor": "white",
            "linecolor": "white",
            "ticks": ""
           }
          },
          "title": {
           "x": 0.05
          },
          "xaxis": {
           "automargin": true,
           "gridcolor": "white",
           "linecolor": "white",
           "ticks": "",
           "title": {
            "standoff": 15
           },
           "zerolinecolor": "white",
           "zerolinewidth": 2
          },
          "yaxis": {
           "automargin": true,
           "gridcolor": "white",
           "linecolor": "white",
           "ticks": "",
           "title": {
            "standoff": 15
           },
           "zerolinecolor": "white",
           "zerolinewidth": 2
          }
         }
        },
        "xaxis": {
         "anchor": "y",
         "domain": [
          0,
          0.2888888888888889
         ]
        },
        "xaxis2": {
         "anchor": "y2",
         "domain": [
          0.35555555555555557,
          0.6444444444444445
         ]
        },
        "xaxis3": {
         "anchor": "y3",
         "domain": [
          0.7111111111111111,
          1
         ]
        },
        "yaxis": {
         "anchor": "x",
         "domain": [
          0,
          1
         ]
        },
        "yaxis2": {
         "anchor": "x2",
         "domain": [
          0,
          1
         ],
         "matches": "y",
         "showticklabels": false
        },
        "yaxis3": {
         "anchor": "x3",
         "domain": [
          0,
          1
         ],
         "matches": "y",
         "showticklabels": false
        }
       }
      }
     },
     "metadata": {},
     "output_type": "display_data"
    }
   ],
   "source": [
    "df = SealAnalysis.Table.generate_delta_table(around_gap)\n",
    "params = {\n",
    "    \"x\":'Location',\n",
    "    \"y\":'Delta(um)',\n",
    "    \"color\":'Class',\n",
    "}\n",
    "conds = df['Condition'].unique()\n",
    "fig = make_subplots(rows=1, cols=len(conds), shared_yaxes=True)\n",
    "for index, cond in enumerate(conds):\n",
    "    print(cond)\n",
    "    tmp_df = df.filter(pl.col('Condition')==cond)\n",
    "    sub_fig = px.box(\n",
    "        tmp_df,\n",
    "        **params\n",
    "    )\n",
    "    for trace in sub_fig.data:\n",
    "        fig.add_trace(trace, row=1, col=index+1)\n",
    "fig.show()"
   ]
  }
 ],
 "metadata": {
  "kernelspec": {
   "display_name": "innolux",
   "language": "python",
   "name": "python3"
  },
  "language_info": {
   "codemirror_mode": {
    "name": "ipython",
    "version": 3
   },
   "file_extension": ".py",
   "mimetype": "text/x-python",
   "name": "python",
   "nbconvert_exporter": "python",
   "pygments_lexer": "ipython3",
   "version": "3.13.3"
  }
 },
 "nbformat": 4,
 "nbformat_minor": 2
}
