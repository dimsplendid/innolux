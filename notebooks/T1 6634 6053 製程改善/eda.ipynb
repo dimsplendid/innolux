{
 "cells": [
  {
   "cell_type": "code",
   "execution_count": 4,
   "metadata": {},
   "outputs": [],
   "source": [
    "%load_ext autoreload\n",
    "%autoreload 2\n",
    "from innolux import *\n"
   ]
  },
  {
   "cell_type": "code",
   "execution_count": 5,
   "metadata": {},
   "outputs": [
    {
     "name": "stderr",
     "output_type": "stream",
     "text": [
      "Could not determine dtype for column 3, falling back to string\n"
     ]
    }
   ],
   "source": [
    "condition_table = pl.read_excel(data_path / \"T1 6634 6053 製程改善\" / \"conditions.xlsx\" )\n",
    "qtime_raw = pl.read_excel(data_path / \"T1 6634 6053 製程改善\" / \"t1_qtime_raw.xlsx\")\n"
   ]
  },
  {
   "cell_type": "code",
   "execution_count": 6,
   "metadata": {},
   "outputs": [
    {
     "data": {
      "text/html": [
       "<div><style>\n",
       ".dataframe > thead > tr,\n",
       ".dataframe > tbody > tr {\n",
       "  text-align: right;\n",
       "  white-space: pre-wrap;\n",
       "}\n",
       "</style>\n",
       "<small>shape: (12, 4)</small><table border=\"1\" class=\"dataframe\"><thead><tr><th>條件編號</th><th>條件</th><th>TFT</th><th>CF</th></tr><tr><td>i64</td><td>str</td><td>str</td><td>str</td></tr></thead><tbody><tr><td>1</td><td>&quot;PAUV 224 mJ(出力 100%)&quot;</td><td>&quot;654A1AP80Q3002&quot;</td><td>&quot;654A1FP810W045&quot;</td></tr><tr><td>2</td><td>&quot;PAUV 224 mJ(出力 70%)&quot;</td><td>&quot;654A1AP80DH004&quot;</td><td>&quot;654A1FP810D069&quot;</td></tr><tr><td>3</td><td>&quot;PAUV 280 mJ(出力 100%)&quot;</td><td>&quot;654A1AP80PX020&quot;</td><td>&quot;654A1FP810A023&quot;</td></tr><tr><td>4</td><td>&quot;PAUV 280 mJ(出力 70%)(同量產條件)&quot;</td><td>&quot;654A1AP813V005&quot;</td><td>&quot;654A1FP810N010&quot;</td></tr><tr><td>6</td><td>&quot;PAUV 336 mJ(出力 70%)&quot;</td><td>&quot;654A1AP80Q3004&quot;</td><td>&quot;654A1FP810T030&quot;</td></tr><tr><td>&hellip;</td><td>&hellip;</td><td>&hellip;</td><td>&hellip;</td></tr><tr><td>9</td><td>&quot;ODF 加抽 85 sec&quot;</td><td>&quot;654A1AP80DL001&quot;</td><td>&quot;654A1FP810S033&quot;</td></tr><tr><td>10</td><td>&quot;SEUV 3600&quot;</td><td>&quot;654A1AP80DL004&quot;</td><td>&quot;654A1FP810R050&quot;</td></tr><tr><td>11</td><td>&quot;SEUV 5000&quot;</td><td>&quot;654A1AP80DL005&quot;</td><td>&quot;654A1FP8113006&quot;</td></tr><tr><td>12</td><td>&quot;SEUV 7000&quot;</td><td>&quot;654A1AP80DL006&quot;</td><td>&quot;654A1FP810C039&quot;</td></tr><tr><td>13</td><td>&quot;SEUV 8000&quot;</td><td>&quot;654A1AP80DL007&quot;</td><td>&quot;654A1FP810N049&quot;</td></tr></tbody></table></div>"
      ],
      "text/plain": [
       "shape: (12, 4)\n",
       "┌──────────┬─────────────────────────────────┬────────────────┬────────────────┐\n",
       "│ 條件編號 ┆ 條件                            ┆ TFT            ┆ CF             │\n",
       "│ ---      ┆ ---                             ┆ ---            ┆ ---            │\n",
       "│ i64      ┆ str                             ┆ str            ┆ str            │\n",
       "╞══════════╪═════════════════════════════════╪════════════════╪════════════════╡\n",
       "│ 1        ┆ PAUV 224 mJ(出力 100%)          ┆ 654A1AP80Q3002 ┆ 654A1FP810W045 │\n",
       "│ 2        ┆ PAUV 224 mJ(出力 70%)           ┆ 654A1AP80DH004 ┆ 654A1FP810D069 │\n",
       "│ 3        ┆ PAUV 280 mJ(出力 100%)          ┆ 654A1AP80PX020 ┆ 654A1FP810A023 │\n",
       "│ 4        ┆ PAUV 280 mJ(出力                ┆ 654A1AP813V005 ┆ 654A1FP810N010 │\n",
       "│          ┆ 70%)(同量產條件)                ┆                ┆                │\n",
       "│ 6        ┆ PAUV 336 mJ(出力 70%)           ┆ 654A1AP80Q3004 ┆ 654A1FP810T030 │\n",
       "│ …        ┆ …                               ┆ …              ┆ …              │\n",
       "│ 9        ┆ ODF 加抽 85 sec                 ┆ 654A1AP80DL001 ┆ 654A1FP810S033 │\n",
       "│ 10       ┆ SEUV 3600                       ┆ 654A1AP80DL004 ┆ 654A1FP810R050 │\n",
       "│ 11       ┆ SEUV 5000                       ┆ 654A1AP80DL005 ┆ 654A1FP8113006 │\n",
       "│ 12       ┆ SEUV 7000                       ┆ 654A1AP80DL006 ┆ 654A1FP810C039 │\n",
       "│ 13       ┆ SEUV 8000                       ┆ 654A1AP80DL007 ┆ 654A1FP810N049 │\n",
       "└──────────┴─────────────────────────────────┴────────────────┴────────────────┘"
      ]
     },
     "execution_count": 6,
     "metadata": {},
     "output_type": "execute_result"
    }
   ],
   "source": [
    "condition_table"
   ]
  },
  {
   "cell_type": "code",
   "execution_count": 16,
   "metadata": {},
   "outputs": [],
   "source": [
    "from innolux.fabs import fabs\n",
    "t1 = fabs['T1'][\"q-time\"]"
   ]
  },
  {
   "cell_type": "code",
   "execution_count": 17,
   "metadata": {},
   "outputs": [],
   "source": [
    "qtime_1 = qtime_raw.select(\n",
    "    pl.col(\"COMPONENT_ID\").alias(\"ID\"),\n",
    ").unique()\n",
    "for step, stations in t1.items(): \n",
    "    qtime_1 = qtime_1.join(\n",
    "        qtime_raw.filter(\n",
    "            pl.col('SUB_EQUIP_ID').is_in(stations)\n",
    "        )\n",
    "        .sort(\"TRACK_OUT_TIME\")\n",
    "        .group_by(\"COMPONENT_ID\", maintain_order=True).last()\n",
    "        .select(\n",
    "            pl.col(\"COMPONENT_ID\").alias(\"ID\"),\n",
    "            pl.col(\"TRACK_IN_TIME\").alias(f\"{step}_IN\"),\n",
    "            pl.col(\"TRACK_OUT_TIME\").alias(f\"{step}_OUT\"),\n",
    "        ),\n",
    "        on='ID',\n",
    "        how=\"left\",\n",
    "    )"
   ]
  },
  {
   "cell_type": "code",
   "execution_count": 18,
   "metadata": {},
   "outputs": [
    {
     "data": {
      "text/html": [
       "<div><style>\n",
       ".dataframe > thead > tr,\n",
       ".dataframe > tbody > tr {\n",
       "  text-align: right;\n",
       "  white-space: pre-wrap;\n",
       "}\n",
       "</style>\n",
       "<small>shape: (34, 15)</small><table border=\"1\" class=\"dataframe\"><thead><tr><th>ID</th><th>PIPB_IN</th><th>PIPB_OUT</th><th>PAUV_IN</th><th>PAUV_OUT</th><th>PAPB_IN</th><th>PAPB_OUT</th><th>BOOX_IN</th><th>BOOX_OUT</th><th>LCDP_IN</th><th>LCDP_OUT</th><th>ODFX_IN</th><th>ODFX_OUT</th><th>SEUV_IN</th><th>SEUV_OUT</th></tr><tr><td>str</td><td>datetime[ms]</td><td>datetime[ms]</td><td>datetime[ms]</td><td>datetime[ms]</td><td>datetime[ms]</td><td>datetime[ms]</td><td>datetime[ms]</td><td>datetime[ms]</td><td>datetime[ms]</td><td>datetime[ms]</td><td>datetime[ms]</td><td>datetime[ms]</td><td>datetime[ms]</td><td>datetime[ms]</td></tr></thead><tbody><tr><td>&quot;654A1FP810A023&quot;</td><td>2025-08-26 23:49:20</td><td>2025-08-27 00:02:32</td><td>2025-08-27 11:33:49</td><td>2025-08-27 11:33:56</td><td>2025-08-27 11:49:13</td><td>2025-08-27 12:19:17</td><td>null</td><td>null</td><td>null</td><td>null</td><td>null</td><td>null</td><td>null</td><td>null</td></tr><tr><td>&quot;654A1AP80Q0021&quot;</td><td>2025-08-26 00:15:17</td><td>2025-08-26 00:25:36</td><td>2025-08-26 02:08:38</td><td>2025-08-26 02:08:45</td><td>2025-08-26 02:26:17</td><td>2025-08-26 02:56:33</td><td>2025-08-26 20:20:55</td><td>2025-08-26 20:21:02</td><td>2025-08-26 20:37:12</td><td>2025-08-26 20:38:59</td><td>2025-08-26 20:40:29</td><td>2025-08-26 20:44:05</td><td>2025-08-26 20:46:16</td><td>2025-08-26 20:47:50</td></tr><tr><td>&quot;654A1FP810N049&quot;</td><td>2025-08-26 19:47:43</td><td>2025-08-26 19:58:01</td><td>2025-08-26 23:42:01</td><td>2025-08-26 23:42:09</td><td>2025-08-27 00:59:58</td><td>2025-08-27 01:30:19</td><td>null</td><td>null</td><td>null</td><td>null</td><td>null</td><td>null</td><td>null</td><td>null</td></tr><tr><td>&quot;654A1AP80PX020&quot;</td><td>2025-08-26 17:12:18</td><td>2025-08-26 17:22:37</td><td>2025-08-27 12:09:12</td><td>2025-08-27 12:09:21</td><td>2025-08-27 12:19:44</td><td>2025-08-27 12:49:46</td><td>2025-08-27 18:19:40</td><td>2025-08-27 18:19:47</td><td>2025-08-27 18:34:51</td><td>2025-08-27 18:37:05</td><td>2025-08-27 18:39:27</td><td>2025-08-27 18:42:41</td><td>2025-08-27 18:45:25</td><td>2025-08-27 18:47:04</td></tr><tr><td>&quot;654A1AP80SX022&quot;</td><td>2025-08-26 01:05:03</td><td>2025-08-26 01:18:39</td><td>2025-08-26 03:01:10</td><td>2025-08-26 03:01:19</td><td>2025-08-26 03:56:05</td><td>2025-08-26 04:26:07</td><td>2025-08-26 23:18:17</td><td>2025-08-26 23:18:24</td><td>2025-08-26 23:33:39</td><td>2025-08-26 23:35:20</td><td>2025-08-26 23:36:55</td><td>2025-08-26 23:40:42</td><td>2025-08-26 23:42:51</td><td>2025-08-26 23:44:27</td></tr><tr><td>&hellip;</td><td>&hellip;</td><td>&hellip;</td><td>&hellip;</td><td>&hellip;</td><td>&hellip;</td><td>&hellip;</td><td>&hellip;</td><td>&hellip;</td><td>&hellip;</td><td>&hellip;</td><td>&hellip;</td><td>&hellip;</td><td>&hellip;</td><td>&hellip;</td></tr><tr><td>&quot;654A1AP80Q3002&quot;</td><td>2025-08-26 17:13:09</td><td>2025-08-26 17:23:26</td><td>2025-08-27 11:57:29</td><td>2025-08-27 11:57:38</td><td>2025-08-27 12:20:39</td><td>2025-08-27 12:50:39</td><td>2025-08-27 17:35:31</td><td>2025-08-27 17:35:38</td><td>2025-08-27 17:51:00</td><td>2025-08-27 17:53:15</td><td>2025-08-27 17:55:22</td><td>2025-08-27 17:58:32</td><td>2025-08-27 18:00:35</td><td>2025-08-27 18:02:14</td></tr><tr><td>&quot;654A1AP80DL006&quot;</td><td>2025-08-26 13:29:00</td><td>2025-08-26 13:39:15</td><td>2025-08-26 19:28:31</td><td>2025-08-26 19:28:38</td><td>2025-08-26 19:45:45</td><td>2025-08-26 20:16:05</td><td>2025-08-27 16:24:17</td><td>2025-08-27 16:24:24</td><td>2025-08-27 16:46:51</td><td>2025-08-27 16:52:15</td><td>2025-08-27 16:55:15</td><td>2025-08-27 16:58:58</td><td>2025-08-27 17:01:06</td><td>2025-08-27 17:02:57</td></tr><tr><td>&quot;654A1AP80T0024&quot;</td><td>2025-08-26 13:30:22</td><td>2025-08-26 13:40:55</td><td>2025-08-26 19:25:29</td><td>2025-08-26 19:25:36</td><td>2025-08-26 19:47:31</td><td>2025-08-26 20:17:35</td><td>2025-08-27 15:59:01</td><td>2025-08-27 15:59:08</td><td>2025-08-27 16:15:38</td><td>2025-08-27 16:17:30</td><td>2025-08-27 16:20:49</td><td>2025-08-27 16:24:34</td><td>2025-08-27 16:26:45</td><td>2025-08-27 16:28:19</td></tr><tr><td>&quot;654A1AP80LE023&quot;</td><td>2025-08-26 01:03:49</td><td>2025-08-26 01:17:52</td><td>2025-08-26 03:01:55</td><td>2025-08-26 03:02:04</td><td>2025-08-26 03:56:05</td><td>2025-08-26 04:26:07</td><td>2025-08-26 23:20:04</td><td>2025-08-26 23:20:11</td><td>2025-08-26 23:36:45</td><td>2025-08-26 23:38:26</td><td>2025-08-26 23:40:31</td><td>2025-08-26 23:43:48</td><td>2025-08-26 23:45:51</td><td>2025-08-26 23:47:26</td></tr><tr><td>&quot;654A1AP80Q0019&quot;</td><td>2025-08-26 00:19:35</td><td>2025-08-26 00:29:54</td><td>2025-08-26 02:07:57</td><td>2025-08-26 02:08:04</td><td>2025-08-26 02:26:53</td><td>2025-08-26 02:56:55</td><td>2025-08-26 20:19:09</td><td>2025-08-26 20:19:16</td><td>2025-08-26 20:34:39</td><td>2025-08-26 20:37:07</td><td>2025-08-26 20:38:45</td><td>2025-08-26 20:41:57</td><td>2025-08-26 20:44:00</td><td>2025-08-26 20:45:39</td></tr></tbody></table></div>"
      ],
      "text/plain": [
       "shape: (34, 15)\n",
       "┌───────────┬───────────┬───────────┬───────────┬───┬───────────┬───────────┬───────────┬──────────┐\n",
       "│ ID        ┆ PIPB_IN   ┆ PIPB_OUT  ┆ PAUV_IN   ┆ … ┆ ODFX_IN   ┆ ODFX_OUT  ┆ SEUV_IN   ┆ SEUV_OUT │\n",
       "│ ---       ┆ ---       ┆ ---       ┆ ---       ┆   ┆ ---       ┆ ---       ┆ ---       ┆ ---      │\n",
       "│ str       ┆ datetime[ ┆ datetime[ ┆ datetime[ ┆   ┆ datetime[ ┆ datetime[ ┆ datetime[ ┆ datetime │\n",
       "│           ┆ ms]       ┆ ms]       ┆ ms]       ┆   ┆ ms]       ┆ ms]       ┆ ms]       ┆ [ms]     │\n",
       "╞═══════════╪═══════════╪═══════════╪═══════════╪═══╪═══════════╪═══════════╪═══════════╪══════════╡\n",
       "│ 654A1FP81 ┆ 2025-08-2 ┆ 2025-08-2 ┆ 2025-08-2 ┆ … ┆ null      ┆ null      ┆ null      ┆ null     │\n",
       "│ 0A023     ┆ 6         ┆ 7         ┆ 7         ┆   ┆           ┆           ┆           ┆          │\n",
       "│           ┆ 23:49:20  ┆ 00:02:32  ┆ 11:33:49  ┆   ┆           ┆           ┆           ┆          │\n",
       "│ 654A1AP80 ┆ 2025-08-2 ┆ 2025-08-2 ┆ 2025-08-2 ┆ … ┆ 2025-08-2 ┆ 2025-08-2 ┆ 2025-08-2 ┆ 2025-08- │\n",
       "│ Q0021     ┆ 6         ┆ 6         ┆ 6         ┆   ┆ 6         ┆ 6         ┆ 6         ┆ 26       │\n",
       "│           ┆ 00:15:17  ┆ 00:25:36  ┆ 02:08:38  ┆   ┆ 20:40:29  ┆ 20:44:05  ┆ 20:46:16  ┆ 20:47:50 │\n",
       "│ 654A1FP81 ┆ 2025-08-2 ┆ 2025-08-2 ┆ 2025-08-2 ┆ … ┆ null      ┆ null      ┆ null      ┆ null     │\n",
       "│ 0N049     ┆ 6         ┆ 6         ┆ 6         ┆   ┆           ┆           ┆           ┆          │\n",
       "│           ┆ 19:47:43  ┆ 19:58:01  ┆ 23:42:01  ┆   ┆           ┆           ┆           ┆          │\n",
       "│ 654A1AP80 ┆ 2025-08-2 ┆ 2025-08-2 ┆ 2025-08-2 ┆ … ┆ 2025-08-2 ┆ 2025-08-2 ┆ 2025-08-2 ┆ 2025-08- │\n",
       "│ PX020     ┆ 6         ┆ 6         ┆ 7         ┆   ┆ 7         ┆ 7         ┆ 7         ┆ 27       │\n",
       "│           ┆ 17:12:18  ┆ 17:22:37  ┆ 12:09:12  ┆   ┆ 18:39:27  ┆ 18:42:41  ┆ 18:45:25  ┆ 18:47:04 │\n",
       "│ 654A1AP80 ┆ 2025-08-2 ┆ 2025-08-2 ┆ 2025-08-2 ┆ … ┆ 2025-08-2 ┆ 2025-08-2 ┆ 2025-08-2 ┆ 2025-08- │\n",
       "│ SX022     ┆ 6         ┆ 6         ┆ 6         ┆   ┆ 6         ┆ 6         ┆ 6         ┆ 26       │\n",
       "│           ┆ 01:05:03  ┆ 01:18:39  ┆ 03:01:10  ┆   ┆ 23:36:55  ┆ 23:40:42  ┆ 23:42:51  ┆ 23:44:27 │\n",
       "│ …         ┆ …         ┆ …         ┆ …         ┆ … ┆ …         ┆ …         ┆ …         ┆ …        │\n",
       "│ 654A1AP80 ┆ 2025-08-2 ┆ 2025-08-2 ┆ 2025-08-2 ┆ … ┆ 2025-08-2 ┆ 2025-08-2 ┆ 2025-08-2 ┆ 2025-08- │\n",
       "│ Q3002     ┆ 6         ┆ 6         ┆ 7         ┆   ┆ 7         ┆ 7         ┆ 7         ┆ 27       │\n",
       "│           ┆ 17:13:09  ┆ 17:23:26  ┆ 11:57:29  ┆   ┆ 17:55:22  ┆ 17:58:32  ┆ 18:00:35  ┆ 18:02:14 │\n",
       "│ 654A1AP80 ┆ 2025-08-2 ┆ 2025-08-2 ┆ 2025-08-2 ┆ … ┆ 2025-08-2 ┆ 2025-08-2 ┆ 2025-08-2 ┆ 2025-08- │\n",
       "│ DL006     ┆ 6         ┆ 6         ┆ 6         ┆   ┆ 7         ┆ 7         ┆ 7         ┆ 27       │\n",
       "│           ┆ 13:29:00  ┆ 13:39:15  ┆ 19:28:31  ┆   ┆ 16:55:15  ┆ 16:58:58  ┆ 17:01:06  ┆ 17:02:57 │\n",
       "│ 654A1AP80 ┆ 2025-08-2 ┆ 2025-08-2 ┆ 2025-08-2 ┆ … ┆ 2025-08-2 ┆ 2025-08-2 ┆ 2025-08-2 ┆ 2025-08- │\n",
       "│ T0024     ┆ 6         ┆ 6         ┆ 6         ┆   ┆ 7         ┆ 7         ┆ 7         ┆ 27       │\n",
       "│           ┆ 13:30:22  ┆ 13:40:55  ┆ 19:25:29  ┆   ┆ 16:20:49  ┆ 16:24:34  ┆ 16:26:45  ┆ 16:28:19 │\n",
       "│ 654A1AP80 ┆ 2025-08-2 ┆ 2025-08-2 ┆ 2025-08-2 ┆ … ┆ 2025-08-2 ┆ 2025-08-2 ┆ 2025-08-2 ┆ 2025-08- │\n",
       "│ LE023     ┆ 6         ┆ 6         ┆ 6         ┆   ┆ 6         ┆ 6         ┆ 6         ┆ 26       │\n",
       "│           ┆ 01:03:49  ┆ 01:17:52  ┆ 03:01:55  ┆   ┆ 23:40:31  ┆ 23:43:48  ┆ 23:45:51  ┆ 23:47:26 │\n",
       "│ 654A1AP80 ┆ 2025-08-2 ┆ 2025-08-2 ┆ 2025-08-2 ┆ … ┆ 2025-08-2 ┆ 2025-08-2 ┆ 2025-08-2 ┆ 2025-08- │\n",
       "│ Q0019     ┆ 6         ┆ 6         ┆ 6         ┆   ┆ 6         ┆ 6         ┆ 6         ┆ 26       │\n",
       "│           ┆ 00:19:35  ┆ 00:29:54  ┆ 02:07:57  ┆   ┆ 20:38:45  ┆ 20:41:57  ┆ 20:44:00  ┆ 20:45:39 │\n",
       "└───────────┴───────────┴───────────┴───────────┴───┴───────────┴───────────┴───────────┴──────────┘"
      ]
     },
     "execution_count": 18,
     "metadata": {},
     "output_type": "execute_result"
    }
   ],
   "source": [
    "qtime_1"
   ]
  },
  {
   "cell_type": "code",
   "execution_count": 12,
   "metadata": {},
   "outputs": [
    {
     "data": {
      "text/html": [
       "<div><style>\n",
       ".dataframe > thead > tr,\n",
       ".dataframe > tbody > tr {\n",
       "  text-align: right;\n",
       "  white-space: pre-wrap;\n",
       "}\n",
       "</style>\n",
       "<small>shape: (34, 4)</small><table border=\"1\" class=\"dataframe\"><thead><tr><th>SUB_EQUIP_ID</th><th>ID</th><th>PIPB_IN</th><th>PIPB_OUT</th></tr><tr><td>str</td><td>str</td><td>datetime[ms]</td><td>datetime[ms]</td></tr></thead><tbody><tr><td>&quot;1CPIL200.P4&quot;</td><td>&quot;654A1FP810B020&quot;</td><td>2025-08-25 21:24:31</td><td>2025-08-25 21:24:48</td></tr><tr><td>&quot;1CPIL200.P4&quot;</td><td>&quot;654A1FP8109044&quot;</td><td>2025-08-25 21:25:05</td><td>2025-08-25 21:25:23</td></tr><tr><td>&quot;1CPIL2B0&quot;</td><td>&quot;654A1FP810J029&quot;</td><td>2025-08-25 21:30:51</td><td>2025-08-25 21:31:08</td></tr><tr><td>&quot;1CPIL2B0&quot;</td><td>&quot;654A1FP810J015&quot;</td><td>2025-08-25 21:31:28</td><td>2025-08-25 21:31:47</td></tr><tr><td>&quot;1CPIL2B0&quot;</td><td>&quot;654A1FP810F055&quot;</td><td>2025-08-25 21:31:38</td><td>2025-08-25 21:31:55</td></tr><tr><td>&hellip;</td><td>&hellip;</td><td>&hellip;</td><td>&hellip;</td></tr><tr><td>&quot;1CPIL200.P5&quot;</td><td>&quot;654A1FP810Q036&quot;</td><td>2025-08-26 20:04:49</td><td>2025-08-26 20:05:07</td></tr><tr><td>&quot;1CPIL200&quot;</td><td>&quot;654A1FP810T030&quot;</td><td>2025-08-26 23:38:54</td><td>2025-08-27 00:06:10</td></tr><tr><td>&quot;1CPIL200.P5&quot;</td><td>&quot;654A1FP810A023&quot;</td><td>2025-08-27 00:06:44</td><td>2025-08-27 00:07:02</td></tr><tr><td>&quot;1CPIL200.P5&quot;</td><td>&quot;654A1FP810D069&quot;</td><td>2025-08-27 00:06:53</td><td>2025-08-27 00:07:10</td></tr><tr><td>&quot;1CPIL200&quot;</td><td>&quot;654A1FP810W045&quot;</td><td>2025-08-26 23:40:08</td><td>2025-08-27 00:07:44</td></tr></tbody></table></div>"
      ],
      "text/plain": [
       "shape: (34, 4)\n",
       "┌──────────────┬────────────────┬─────────────────────┬─────────────────────┐\n",
       "│ SUB_EQUIP_ID ┆ ID             ┆ PIPB_IN             ┆ PIPB_OUT            │\n",
       "│ ---          ┆ ---            ┆ ---                 ┆ ---                 │\n",
       "│ str          ┆ str            ┆ datetime[ms]        ┆ datetime[ms]        │\n",
       "╞══════════════╪════════════════╪═════════════════════╪═════════════════════╡\n",
       "│ 1CPIL200.P4  ┆ 654A1FP810B020 ┆ 2025-08-25 21:24:31 ┆ 2025-08-25 21:24:48 │\n",
       "│ 1CPIL200.P4  ┆ 654A1FP8109044 ┆ 2025-08-25 21:25:05 ┆ 2025-08-25 21:25:23 │\n",
       "│ 1CPIL2B0     ┆ 654A1FP810J029 ┆ 2025-08-25 21:30:51 ┆ 2025-08-25 21:31:08 │\n",
       "│ 1CPIL2B0     ┆ 654A1FP810J015 ┆ 2025-08-25 21:31:28 ┆ 2025-08-25 21:31:47 │\n",
       "│ 1CPIL2B0     ┆ 654A1FP810F055 ┆ 2025-08-25 21:31:38 ┆ 2025-08-25 21:31:55 │\n",
       "│ …            ┆ …              ┆ …                   ┆ …                   │\n",
       "│ 1CPIL200.P5  ┆ 654A1FP810Q036 ┆ 2025-08-26 20:04:49 ┆ 2025-08-26 20:05:07 │\n",
       "│ 1CPIL200     ┆ 654A1FP810T030 ┆ 2025-08-26 23:38:54 ┆ 2025-08-27 00:06:10 │\n",
       "│ 1CPIL200.P5  ┆ 654A1FP810A023 ┆ 2025-08-27 00:06:44 ┆ 2025-08-27 00:07:02 │\n",
       "│ 1CPIL200.P5  ┆ 654A1FP810D069 ┆ 2025-08-27 00:06:53 ┆ 2025-08-27 00:07:10 │\n",
       "│ 1CPIL200     ┆ 654A1FP810W045 ┆ 2025-08-26 23:40:08 ┆ 2025-08-27 00:07:44 │\n",
       "└──────────────┴────────────────┴─────────────────────┴─────────────────────┘"
      ]
     },
     "execution_count": 12,
     "metadata": {},
     "output_type": "execute_result"
    }
   ],
   "source": [
    "(\n",
    "    qtime_raw.filter(\n",
    "        # pl.col('SUB_EQUIP_ID').is_in(stations),\n",
    "        pl.col('SUB_EQUIP_ID').str.contains(\"1CPIL\")\n",
    "    )\n",
    "    .sort(\"TRACK_OUT_TIME\")\n",
    "    .group_by(\"COMPONENT_ID\", maintain_order=True).last()\n",
    "    .select(\n",
    "        \"SUB_EQUIP_ID\",\n",
    "        pl.col(\"COMPONENT_ID\").alias(\"ID\"),\n",
    "        pl.col(\"TRACK_IN_TIME\").alias(f\"{step}_IN\"),\n",
    "        pl.col(\"TRACK_OUT_TIME\").alias(f\"{step}_OUT\"),\n",
    "    )\n",
    ")"
   ]
  },
  {
   "cell_type": "code",
   "execution_count": 9,
   "metadata": {},
   "outputs": [
    {
     "data": {
      "text/html": [
       "<div><style>\n",
       ".dataframe > thead > tr,\n",
       ".dataframe > tbody > tr {\n",
       "  text-align: right;\n",
       "  white-space: pre-wrap;\n",
       "}\n",
       "</style>\n",
       "<small>shape: (34, 15)</small><table border=\"1\" class=\"dataframe\"><thead><tr><th>ID</th><th>PIPB_IN</th><th>PIPB_OUT</th><th>PAUV_IN</th><th>PAUV_OUT</th><th>PAPB_IN</th><th>PAPB_OUT</th><th>BOOX_IN</th><th>BOOX_OUT</th><th>LCDP_IN</th><th>LCDP_OUT</th><th>ODFX_IN</th><th>ODFX_OUT</th><th>SEUV_IN</th><th>SEUV_OUT</th></tr><tr><td>str</td><td>datetime[ms]</td><td>datetime[ms]</td><td>datetime[ms]</td><td>datetime[ms]</td><td>datetime[ms]</td><td>datetime[ms]</td><td>datetime[ms]</td><td>datetime[ms]</td><td>datetime[ms]</td><td>datetime[ms]</td><td>datetime[ms]</td><td>datetime[ms]</td><td>datetime[ms]</td><td>datetime[ms]</td></tr></thead><tbody><tr><td>&quot;654A1FP810N010&quot;</td><td>2025-08-26 19:08:03</td><td>2025-08-26 19:18:13</td><td>2025-08-26 22:07:18</td><td>2025-08-26 22:07:25</td><td>2025-08-26 23:53:50</td><td>2025-08-27 00:24:13</td><td>null</td><td>null</td><td>null</td><td>null</td><td>null</td><td>null</td><td>null</td><td>null</td></tr><tr><td>&quot;654A1AP80Q3002&quot;</td><td>2025-08-26 17:13:09</td><td>2025-08-26 17:23:26</td><td>2025-08-27 11:57:29</td><td>2025-08-27 11:57:38</td><td>2025-08-27 12:20:39</td><td>2025-08-27 12:50:39</td><td>2025-08-27 17:35:31</td><td>2025-08-27 17:35:38</td><td>2025-08-27 17:51:00</td><td>2025-08-27 17:53:15</td><td>2025-08-27 17:55:22</td><td>2025-08-27 17:58:32</td><td>2025-08-27 18:00:35</td><td>2025-08-27 18:02:14</td></tr><tr><td>&quot;654A1FP810J015&quot;</td><td>2025-08-25 21:16:46</td><td>2025-08-25 21:27:15</td><td>2025-08-25 22:30:57</td><td>2025-08-25 22:31:07</td><td>2025-08-26 00:09:23</td><td>2025-08-26 00:39:31</td><td>null</td><td>null</td><td>null</td><td>null</td><td>null</td><td>null</td><td>null</td><td>null</td></tr><tr><td>&quot;654A1FP810S033&quot;</td><td>2025-08-26 19:49:23</td><td>2025-08-26 19:59:29</td><td>2025-08-26 23:38:59</td><td>2025-08-26 23:39:07</td><td>2025-08-27 01:01:42</td><td>2025-08-27 01:31:53</td><td>null</td><td>null</td><td>null</td><td>null</td><td>null</td><td>null</td><td>null</td><td>null</td></tr><tr><td>&quot;654A1AP80DL006&quot;</td><td>2025-08-26 13:29:00</td><td>2025-08-26 13:39:15</td><td>2025-08-26 19:28:31</td><td>2025-08-26 19:28:38</td><td>2025-08-26 19:45:45</td><td>2025-08-26 20:16:05</td><td>2025-08-27 16:24:17</td><td>2025-08-27 16:24:24</td><td>2025-08-27 16:46:51</td><td>2025-08-27 16:52:15</td><td>2025-08-27 16:55:15</td><td>2025-08-27 16:58:58</td><td>2025-08-27 17:01:06</td><td>2025-08-27 17:02:57</td></tr><tr><td>&hellip;</td><td>&hellip;</td><td>&hellip;</td><td>&hellip;</td><td>&hellip;</td><td>&hellip;</td><td>&hellip;</td><td>&hellip;</td><td>&hellip;</td><td>&hellip;</td><td>&hellip;</td><td>&hellip;</td><td>&hellip;</td><td>&hellip;</td><td>&hellip;</td></tr><tr><td>&quot;654A1AP80Q0019&quot;</td><td>2025-08-26 00:19:35</td><td>2025-08-26 00:29:54</td><td>2025-08-26 02:07:57</td><td>2025-08-26 02:08:04</td><td>2025-08-26 02:26:53</td><td>2025-08-26 02:56:55</td><td>2025-08-26 20:19:09</td><td>2025-08-26 20:19:16</td><td>2025-08-26 20:34:39</td><td>2025-08-26 20:37:07</td><td>2025-08-26 20:38:45</td><td>2025-08-26 20:41:57</td><td>2025-08-26 20:44:00</td><td>2025-08-26 20:45:39</td></tr><tr><td>&quot;654A1FP810R050&quot;</td><td>2025-08-26 19:48:35</td><td>2025-08-26 19:58:45</td><td>2025-08-26 23:39:44</td><td>2025-08-26 23:39:52</td><td>2025-08-27 01:01:42</td><td>2025-08-27 01:31:53</td><td>null</td><td>null</td><td>null</td><td>null</td><td>null</td><td>null</td><td>null</td><td>null</td></tr><tr><td>&quot;654A1AP80DL007&quot;</td><td>2025-08-26 13:28:59</td><td>2025-08-26 13:39:14</td><td>2025-08-26 19:29:16</td><td>2025-08-26 19:29:23</td><td>2025-08-26 19:45:45</td><td>2025-08-26 20:16:05</td><td>2025-08-27 16:25:36</td><td>2025-08-27 16:25:43</td><td>2025-08-27 16:55:36</td><td>2025-08-27 16:57:56</td><td>2025-08-27 16:59:58</td><td>2025-08-27 17:03:32</td><td>2025-08-27 17:05:41</td><td>2025-08-27 17:07:41</td></tr><tr><td>&quot;654A1AP80T0024&quot;</td><td>2025-08-26 13:30:22</td><td>2025-08-26 13:40:55</td><td>2025-08-26 19:25:29</td><td>2025-08-26 19:25:36</td><td>2025-08-26 19:47:31</td><td>2025-08-26 20:17:35</td><td>2025-08-27 15:59:01</td><td>2025-08-27 15:59:08</td><td>2025-08-27 16:15:38</td><td>2025-08-27 16:17:30</td><td>2025-08-27 16:20:49</td><td>2025-08-27 16:24:34</td><td>2025-08-27 16:26:45</td><td>2025-08-27 16:28:19</td></tr><tr><td>&quot;654A1FP810B020&quot;</td><td>2025-08-25 21:09:49</td><td>2025-08-25 21:20:08</td><td>2025-08-25 22:49:22</td><td>2025-08-25 22:49:32</td><td>2025-08-26 00:04:24</td><td>2025-08-26 00:34:32</td><td>null</td><td>null</td><td>null</td><td>null</td><td>null</td><td>null</td><td>null</td><td>null</td></tr></tbody></table></div>"
      ],
      "text/plain": [
       "shape: (34, 15)\n",
       "┌───────────┬───────────┬───────────┬───────────┬───┬───────────┬───────────┬───────────┬──────────┐\n",
       "│ ID        ┆ PIPB_IN   ┆ PIPB_OUT  ┆ PAUV_IN   ┆ … ┆ ODFX_IN   ┆ ODFX_OUT  ┆ SEUV_IN   ┆ SEUV_OUT │\n",
       "│ ---       ┆ ---       ┆ ---       ┆ ---       ┆   ┆ ---       ┆ ---       ┆ ---       ┆ ---      │\n",
       "│ str       ┆ datetime[ ┆ datetime[ ┆ datetime[ ┆   ┆ datetime[ ┆ datetime[ ┆ datetime[ ┆ datetime │\n",
       "│           ┆ ms]       ┆ ms]       ┆ ms]       ┆   ┆ ms]       ┆ ms]       ┆ ms]       ┆ [ms]     │\n",
       "╞═══════════╪═══════════╪═══════════╪═══════════╪═══╪═══════════╪═══════════╪═══════════╪══════════╡\n",
       "│ 654A1FP81 ┆ 2025-08-2 ┆ 2025-08-2 ┆ 2025-08-2 ┆ … ┆ null      ┆ null      ┆ null      ┆ null     │\n",
       "│ 0N010     ┆ 6         ┆ 6         ┆ 6         ┆   ┆           ┆           ┆           ┆          │\n",
       "│           ┆ 19:08:03  ┆ 19:18:13  ┆ 22:07:18  ┆   ┆           ┆           ┆           ┆          │\n",
       "│ 654A1AP80 ┆ 2025-08-2 ┆ 2025-08-2 ┆ 2025-08-2 ┆ … ┆ 2025-08-2 ┆ 2025-08-2 ┆ 2025-08-2 ┆ 2025-08- │\n",
       "│ Q3002     ┆ 6         ┆ 6         ┆ 7         ┆   ┆ 7         ┆ 7         ┆ 7         ┆ 27       │\n",
       "│           ┆ 17:13:09  ┆ 17:23:26  ┆ 11:57:29  ┆   ┆ 17:55:22  ┆ 17:58:32  ┆ 18:00:35  ┆ 18:02:14 │\n",
       "│ 654A1FP81 ┆ 2025-08-2 ┆ 2025-08-2 ┆ 2025-08-2 ┆ … ┆ null      ┆ null      ┆ null      ┆ null     │\n",
       "│ 0J015     ┆ 5         ┆ 5         ┆ 5         ┆   ┆           ┆           ┆           ┆          │\n",
       "│           ┆ 21:16:46  ┆ 21:27:15  ┆ 22:30:57  ┆   ┆           ┆           ┆           ┆          │\n",
       "│ 654A1FP81 ┆ 2025-08-2 ┆ 2025-08-2 ┆ 2025-08-2 ┆ … ┆ null      ┆ null      ┆ null      ┆ null     │\n",
       "│ 0S033     ┆ 6         ┆ 6         ┆ 6         ┆   ┆           ┆           ┆           ┆          │\n",
       "│           ┆ 19:49:23  ┆ 19:59:29  ┆ 23:38:59  ┆   ┆           ┆           ┆           ┆          │\n",
       "│ 654A1AP80 ┆ 2025-08-2 ┆ 2025-08-2 ┆ 2025-08-2 ┆ … ┆ 2025-08-2 ┆ 2025-08-2 ┆ 2025-08-2 ┆ 2025-08- │\n",
       "│ DL006     ┆ 6         ┆ 6         ┆ 6         ┆   ┆ 7         ┆ 7         ┆ 7         ┆ 27       │\n",
       "│           ┆ 13:29:00  ┆ 13:39:15  ┆ 19:28:31  ┆   ┆ 16:55:15  ┆ 16:58:58  ┆ 17:01:06  ┆ 17:02:57 │\n",
       "│ …         ┆ …         ┆ …         ┆ …         ┆ … ┆ …         ┆ …         ┆ …         ┆ …        │\n",
       "│ 654A1AP80 ┆ 2025-08-2 ┆ 2025-08-2 ┆ 2025-08-2 ┆ … ┆ 2025-08-2 ┆ 2025-08-2 ┆ 2025-08-2 ┆ 2025-08- │\n",
       "│ Q0019     ┆ 6         ┆ 6         ┆ 6         ┆   ┆ 6         ┆ 6         ┆ 6         ┆ 26       │\n",
       "│           ┆ 00:19:35  ┆ 00:29:54  ┆ 02:07:57  ┆   ┆ 20:38:45  ┆ 20:41:57  ┆ 20:44:00  ┆ 20:45:39 │\n",
       "│ 654A1FP81 ┆ 2025-08-2 ┆ 2025-08-2 ┆ 2025-08-2 ┆ … ┆ null      ┆ null      ┆ null      ┆ null     │\n",
       "│ 0R050     ┆ 6         ┆ 6         ┆ 6         ┆   ┆           ┆           ┆           ┆          │\n",
       "│           ┆ 19:48:35  ┆ 19:58:45  ┆ 23:39:44  ┆   ┆           ┆           ┆           ┆          │\n",
       "│ 654A1AP80 ┆ 2025-08-2 ┆ 2025-08-2 ┆ 2025-08-2 ┆ … ┆ 2025-08-2 ┆ 2025-08-2 ┆ 2025-08-2 ┆ 2025-08- │\n",
       "│ DL007     ┆ 6         ┆ 6         ┆ 6         ┆   ┆ 7         ┆ 7         ┆ 7         ┆ 27       │\n",
       "│           ┆ 13:28:59  ┆ 13:39:14  ┆ 19:29:16  ┆   ┆ 16:59:58  ┆ 17:03:32  ┆ 17:05:41  ┆ 17:07:41 │\n",
       "│ 654A1AP80 ┆ 2025-08-2 ┆ 2025-08-2 ┆ 2025-08-2 ┆ … ┆ 2025-08-2 ┆ 2025-08-2 ┆ 2025-08-2 ┆ 2025-08- │\n",
       "│ T0024     ┆ 6         ┆ 6         ┆ 6         ┆   ┆ 7         ┆ 7         ┆ 7         ┆ 27       │\n",
       "│           ┆ 13:30:22  ┆ 13:40:55  ┆ 19:25:29  ┆   ┆ 16:20:49  ┆ 16:24:34  ┆ 16:26:45  ┆ 16:28:19 │\n",
       "│ 654A1FP81 ┆ 2025-08-2 ┆ 2025-08-2 ┆ 2025-08-2 ┆ … ┆ null      ┆ null      ┆ null      ┆ null     │\n",
       "│ 0B020     ┆ 5         ┆ 5         ┆ 5         ┆   ┆           ┆           ┆           ┆          │\n",
       "│           ┆ 21:09:49  ┆ 21:20:08  ┆ 22:49:22  ┆   ┆           ┆           ┆           ┆          │\n",
       "└───────────┴───────────┴───────────┴───────────┴───┴───────────┴───────────┴───────────┴──────────┘"
      ]
     },
     "execution_count": 9,
     "metadata": {},
     "output_type": "execute_result"
    }
   ],
   "source": [
    "qtime_1"
   ]
  },
  {
   "cell_type": "code",
   "execution_count": 31,
   "metadata": {},
   "outputs": [],
   "source": [
    "qtime_2 = condition_table.join(\n",
    "    qtime_1.select([col for col in qtime_1.columns if qtime_1[col].null_count() == 0]),\n",
    "    left_on=\"CF\",\n",
    "    right_on='ID',\n",
    "    suffix=\"_CF\",\n",
    "    maintain_order=\"left\",\n",
    ").join(\n",
    "    qtime_1,\n",
    "    left_on=\"TFT\",\n",
    "    right_on=\"ID\",\n",
    "    suffix=\"_TFT\",\n",
    "    maintain_order=\"left\",\n",
    ")"
   ]
  },
  {
   "cell_type": "code",
   "execution_count": 32,
   "metadata": {},
   "outputs": [
    {
     "data": {
      "text/html": [
       "<div><style>\n",
       ".dataframe > thead > tr,\n",
       ".dataframe > tbody > tr {\n",
       "  text-align: right;\n",
       "  white-space: pre-wrap;\n",
       "}\n",
       "</style>\n",
       "<small>shape: (12, 24)</small><table border=\"1\" class=\"dataframe\"><thead><tr><th>條件編號</th><th>條件</th><th>TFT</th><th>CF</th><th>PIPB_IN</th><th>PIPB_OUT</th><th>PAUV_IN</th><th>PAUV_OUT</th><th>PAPB_IN</th><th>PAPB_OUT</th><th>PIPB_IN_TFT</th><th>PIPB_OUT_TFT</th><th>PAUV_IN_TFT</th><th>PAUV_OUT_TFT</th><th>PAPB_IN_TFT</th><th>PAPB_OUT_TFT</th><th>BOOX_IN</th><th>BOOX_OUT</th><th>LCDP_IN</th><th>LCDP_OUT</th><th>ODFX_IN</th><th>ODFX_OUT</th><th>SEUV_IN</th><th>SEUV_OUT</th></tr><tr><td>i64</td><td>str</td><td>str</td><td>str</td><td>datetime[ms]</td><td>datetime[ms]</td><td>datetime[ms]</td><td>datetime[ms]</td><td>datetime[ms]</td><td>datetime[ms]</td><td>datetime[ms]</td><td>datetime[ms]</td><td>datetime[ms]</td><td>datetime[ms]</td><td>datetime[ms]</td><td>datetime[ms]</td><td>datetime[ms]</td><td>datetime[ms]</td><td>datetime[ms]</td><td>datetime[ms]</td><td>datetime[ms]</td><td>datetime[ms]</td><td>datetime[ms]</td><td>datetime[ms]</td></tr></thead><tbody><tr><td>1</td><td>&quot;PAUV 224 mJ(出力 100%)&quot;</td><td>&quot;654A1AP80Q3002&quot;</td><td>&quot;654A1FP810W045&quot;</td><td>2025-08-26 23:50:10</td><td>2025-08-27 00:03:10</td><td>2025-08-27 11:16:27</td><td>2025-08-27 11:16:35</td><td>2025-08-27 11:49:51</td><td>2025-08-27 12:20:13</td><td>2025-08-26 17:13:09</td><td>2025-08-26 17:23:26</td><td>2025-08-27 11:57:29</td><td>2025-08-27 11:57:38</td><td>2025-08-27 12:20:39</td><td>2025-08-27 12:50:39</td><td>2025-08-27 17:35:31</td><td>2025-08-27 17:35:38</td><td>2025-08-27 17:51:00</td><td>2025-08-27 17:53:15</td><td>2025-08-27 17:55:22</td><td>2025-08-27 17:58:32</td><td>2025-08-27 18:00:35</td><td>2025-08-27 18:02:14</td></tr><tr><td>2</td><td>&quot;PAUV 224 mJ(出力 70%)&quot;</td><td>&quot;654A1AP80DH004&quot;</td><td>&quot;654A1FP810D069&quot;</td><td>2025-08-26 23:49:21</td><td>2025-08-27 00:02:33</td><td>2025-08-27 11:23:42</td><td>2025-08-27 11:23:49</td><td>2025-08-27 11:49:51</td><td>2025-08-27 12:20:13</td><td>2025-08-26 17:12:19</td><td>2025-08-26 17:22:38</td><td>2025-08-27 12:03:11</td><td>2025-08-27 12:03:20</td><td>2025-08-27 12:20:39</td><td>2025-08-27 12:50:39</td><td>2025-08-27 17:57:50</td><td>2025-08-27 17:57:56</td><td>2025-08-27 18:12:53</td><td>2025-08-27 18:15:07</td><td>2025-08-27 18:16:39</td><td>2025-08-27 18:20:26</td><td>2025-08-27 18:23:01</td><td>2025-08-27 18:24:41</td></tr><tr><td>3</td><td>&quot;PAUV 280 mJ(出力 100%)&quot;</td><td>&quot;654A1AP80PX020&quot;</td><td>&quot;654A1FP810A023&quot;</td><td>2025-08-26 23:49:20</td><td>2025-08-27 00:02:32</td><td>2025-08-27 11:33:49</td><td>2025-08-27 11:33:56</td><td>2025-08-27 11:49:13</td><td>2025-08-27 12:19:17</td><td>2025-08-26 17:12:18</td><td>2025-08-26 17:22:37</td><td>2025-08-27 12:09:12</td><td>2025-08-27 12:09:21</td><td>2025-08-27 12:19:44</td><td>2025-08-27 12:49:46</td><td>2025-08-27 18:19:40</td><td>2025-08-27 18:19:47</td><td>2025-08-27 18:34:51</td><td>2025-08-27 18:37:05</td><td>2025-08-27 18:39:27</td><td>2025-08-27 18:42:41</td><td>2025-08-27 18:45:25</td><td>2025-08-27 18:47:04</td></tr><tr><td>4</td><td>&quot;PAUV 280 mJ(出力 70%)(同量產條件)&quot;</td><td>&quot;654A1AP813V005&quot;</td><td>&quot;654A1FP810N010&quot;</td><td>2025-08-26 19:08:03</td><td>2025-08-26 19:18:13</td><td>2025-08-26 22:07:18</td><td>2025-08-26 22:07:25</td><td>2025-08-26 23:53:50</td><td>2025-08-27 00:24:13</td><td>2025-08-26 12:37:59</td><td>2025-08-26 12:48:23</td><td>2025-08-26 17:54:46</td><td>2025-08-26 17:54:54</td><td>2025-08-26 18:13:21</td><td>2025-08-26 18:43:31</td><td>2025-08-27 11:32:44</td><td>2025-08-27 11:44:33</td><td>2025-08-27 12:02:32</td><td>2025-08-27 12:04:54</td><td>2025-08-27 12:06:30</td><td>2025-08-27 12:10:20</td><td>2025-08-27 12:12:34</td><td>2025-08-27 12:14:15</td></tr><tr><td>6</td><td>&quot;PAUV 336 mJ(出力 70%)&quot;</td><td>&quot;654A1AP80Q3004&quot;</td><td>&quot;654A1FP810T030&quot;</td><td>2025-08-26 23:48:33</td><td>2025-08-26 23:59:02</td><td>2025-08-27 11:40:43</td><td>2025-08-27 11:40:51</td><td>2025-08-27 11:49:13</td><td>2025-08-27 12:19:17</td><td>2025-08-26 17:11:28</td><td>2025-08-26 17:21:47</td><td>2025-08-27 12:15:37</td><td>2025-08-27 12:15:46</td><td>2025-08-27 12:19:44</td><td>2025-08-27 12:49:46</td><td>2025-08-27 18:39:45</td><td>2025-08-27 18:39:52</td><td>2025-08-27 18:54:52</td><td>2025-08-27 18:56:34</td><td>2025-08-27 18:59:15</td><td>2025-08-27 19:03:04</td><td>2025-08-27 19:05:16</td><td>2025-08-27 19:06:54</td></tr><tr><td>&hellip;</td><td>&hellip;</td><td>&hellip;</td><td>&hellip;</td><td>&hellip;</td><td>&hellip;</td><td>&hellip;</td><td>&hellip;</td><td>&hellip;</td><td>&hellip;</td><td>&hellip;</td><td>&hellip;</td><td>&hellip;</td><td>&hellip;</td><td>&hellip;</td><td>&hellip;</td><td>&hellip;</td><td>&hellip;</td><td>&hellip;</td><td>&hellip;</td><td>&hellip;</td><td>&hellip;</td><td>&hellip;</td><td>&hellip;</td></tr><tr><td>9</td><td>&quot;ODF 加抽 85 sec&quot;</td><td>&quot;654A1AP80DL001&quot;</td><td>&quot;654A1FP810S033&quot;</td><td>2025-08-26 19:49:23</td><td>2025-08-26 19:59:29</td><td>2025-08-26 23:38:59</td><td>2025-08-26 23:39:07</td><td>2025-08-27 01:01:42</td><td>2025-08-27 01:31:53</td><td>2025-08-26 13:30:21</td><td>2025-08-26 13:40:54</td><td>2025-08-26 19:26:14</td><td>2025-08-26 19:26:21</td><td>2025-08-26 19:47:31</td><td>2025-08-26 20:17:35</td><td>2025-08-27 16:20:06</td><td>2025-08-27 16:20:13</td><td>2025-08-27 16:39:35</td><td>2025-08-27 16:41:21</td><td>2025-08-27 16:42:56</td><td>2025-08-27 16:47:13</td><td>2025-08-27 16:49:31</td><td>2025-08-27 16:51:12</td></tr><tr><td>10</td><td>&quot;SEUV 3600&quot;</td><td>&quot;654A1AP80DL004&quot;</td><td>&quot;654A1FP810R050&quot;</td><td>2025-08-26 19:48:35</td><td>2025-08-26 19:58:45</td><td>2025-08-26 23:39:44</td><td>2025-08-26 23:39:52</td><td>2025-08-27 01:01:42</td><td>2025-08-27 01:31:53</td><td>2025-08-26 13:29:42</td><td>2025-08-26 13:40:07</td><td>2025-08-26 19:27:00</td><td>2025-08-26 19:27:07</td><td>2025-08-26 19:46:37</td><td>2025-08-26 20:16:58</td><td>2025-08-27 16:21:25</td><td>2025-08-27 16:21:32</td><td>2025-08-27 16:42:16</td><td>2025-08-27 16:44:29</td><td>2025-08-27 16:47:03</td><td>2025-08-27 16:51:53</td><td>2025-08-27 16:54:10</td><td>2025-08-27 16:55:27</td></tr><tr><td>11</td><td>&quot;SEUV 5000&quot;</td><td>&quot;654A1AP80DL005&quot;</td><td>&quot;654A1FP8113006&quot;</td><td>2025-08-26 19:48:34</td><td>2025-08-26 19:58:44</td><td>2025-08-26 23:40:30</td><td>2025-08-26 23:40:38</td><td>2025-08-27 01:00:50</td><td>2025-08-27 01:30:53</td><td>2025-08-26 13:29:41</td><td>2025-08-26 13:40:06</td><td>2025-08-26 19:27:45</td><td>2025-08-26 19:27:52</td><td>2025-08-26 19:46:37</td><td>2025-08-26 20:16:58</td><td>2025-08-27 16:22:44</td><td>2025-08-27 16:22:52</td><td>2025-08-27 16:44:34</td><td>2025-08-27 16:46:46</td><td>2025-08-27 16:51:42</td><td>2025-08-27 16:55:26</td><td>2025-08-27 16:57:43</td><td>2025-08-27 16:59:14</td></tr><tr><td>12</td><td>&quot;SEUV 7000&quot;</td><td>&quot;654A1AP80DL006&quot;</td><td>&quot;654A1FP810C039&quot;</td><td>2025-08-26 19:47:44</td><td>2025-08-26 19:58:02</td><td>2025-08-26 23:41:15</td><td>2025-08-26 23:41:23</td><td>2025-08-27 01:00:50</td><td>2025-08-27 01:30:53</td><td>2025-08-26 13:29:00</td><td>2025-08-26 13:39:15</td><td>2025-08-26 19:28:31</td><td>2025-08-26 19:28:38</td><td>2025-08-26 19:45:45</td><td>2025-08-26 20:16:05</td><td>2025-08-27 16:24:17</td><td>2025-08-27 16:24:24</td><td>2025-08-27 16:46:51</td><td>2025-08-27 16:52:15</td><td>2025-08-27 16:55:15</td><td>2025-08-27 16:58:58</td><td>2025-08-27 17:01:06</td><td>2025-08-27 17:02:57</td></tr><tr><td>13</td><td>&quot;SEUV 8000&quot;</td><td>&quot;654A1AP80DL007&quot;</td><td>&quot;654A1FP810N049&quot;</td><td>2025-08-26 19:47:43</td><td>2025-08-26 19:58:01</td><td>2025-08-26 23:42:01</td><td>2025-08-26 23:42:09</td><td>2025-08-27 00:59:58</td><td>2025-08-27 01:30:19</td><td>2025-08-26 13:28:59</td><td>2025-08-26 13:39:14</td><td>2025-08-26 19:29:16</td><td>2025-08-26 19:29:23</td><td>2025-08-26 19:45:45</td><td>2025-08-26 20:16:05</td><td>2025-08-27 16:25:36</td><td>2025-08-27 16:25:43</td><td>2025-08-27 16:55:36</td><td>2025-08-27 16:57:56</td><td>2025-08-27 16:59:58</td><td>2025-08-27 17:03:32</td><td>2025-08-27 17:05:41</td><td>2025-08-27 17:07:41</td></tr></tbody></table></div>"
      ],
      "text/plain": [
       "shape: (12, 24)\n",
       "┌──────────┬───────────┬───────────┬───────────┬───┬───────────┬───────────┬───────────┬───────────┐\n",
       "│ 條件編號 ┆ 條件      ┆ TFT       ┆ CF        ┆ … ┆ ODFX_IN   ┆ ODFX_OUT  ┆ SEUV_IN   ┆ SEUV_OUT  │\n",
       "│ ---      ┆ ---       ┆ ---       ┆ ---       ┆   ┆ ---       ┆ ---       ┆ ---       ┆ ---       │\n",
       "│ i64      ┆ str       ┆ str       ┆ str       ┆   ┆ datetime[ ┆ datetime[ ┆ datetime[ ┆ datetime[ │\n",
       "│          ┆           ┆           ┆           ┆   ┆ ms]       ┆ ms]       ┆ ms]       ┆ ms]       │\n",
       "╞══════════╪═══════════╪═══════════╪═══════════╪═══╪═══════════╪═══════════╪═══════════╪═══════════╡\n",
       "│ 1        ┆ PAUV 224  ┆ 654A1AP80 ┆ 654A1FP81 ┆ … ┆ 2025-08-2 ┆ 2025-08-2 ┆ 2025-08-2 ┆ 2025-08-2 │\n",
       "│          ┆ mJ(出力   ┆ Q3002     ┆ 0W045     ┆   ┆ 7         ┆ 7         ┆ 7         ┆ 7         │\n",
       "│          ┆ 100%)     ┆           ┆           ┆   ┆ 17:55:22  ┆ 17:58:32  ┆ 18:00:35  ┆ 18:02:14  │\n",
       "│ 2        ┆ PAUV 224  ┆ 654A1AP80 ┆ 654A1FP81 ┆ … ┆ 2025-08-2 ┆ 2025-08-2 ┆ 2025-08-2 ┆ 2025-08-2 │\n",
       "│          ┆ mJ(出力   ┆ DH004     ┆ 0D069     ┆   ┆ 7         ┆ 7         ┆ 7         ┆ 7         │\n",
       "│          ┆ 70%)      ┆           ┆           ┆   ┆ 18:16:39  ┆ 18:20:26  ┆ 18:23:01  ┆ 18:24:41  │\n",
       "│ 3        ┆ PAUV 280  ┆ 654A1AP80 ┆ 654A1FP81 ┆ … ┆ 2025-08-2 ┆ 2025-08-2 ┆ 2025-08-2 ┆ 2025-08-2 │\n",
       "│          ┆ mJ(出力   ┆ PX020     ┆ 0A023     ┆   ┆ 7         ┆ 7         ┆ 7         ┆ 7         │\n",
       "│          ┆ 100%)     ┆           ┆           ┆   ┆ 18:39:27  ┆ 18:42:41  ┆ 18:45:25  ┆ 18:47:04  │\n",
       "│ 4        ┆ PAUV 280  ┆ 654A1AP81 ┆ 654A1FP81 ┆ … ┆ 2025-08-2 ┆ 2025-08-2 ┆ 2025-08-2 ┆ 2025-08-2 │\n",
       "│          ┆ mJ(出力   ┆ 3V005     ┆ 0N010     ┆   ┆ 7         ┆ 7         ┆ 7         ┆ 7         │\n",
       "│          ┆ 70%)(同量 ┆           ┆           ┆   ┆ 12:06:30  ┆ 12:10:20  ┆ 12:12:34  ┆ 12:14:15  │\n",
       "│          ┆ 產條件)   ┆           ┆           ┆   ┆           ┆           ┆           ┆           │\n",
       "│ 6        ┆ PAUV 336  ┆ 654A1AP80 ┆ 654A1FP81 ┆ … ┆ 2025-08-2 ┆ 2025-08-2 ┆ 2025-08-2 ┆ 2025-08-2 │\n",
       "│          ┆ mJ(出力   ┆ Q3004     ┆ 0T030     ┆   ┆ 7         ┆ 7         ┆ 7         ┆ 7         │\n",
       "│          ┆ 70%)      ┆           ┆           ┆   ┆ 18:59:15  ┆ 19:03:04  ┆ 19:05:16  ┆ 19:06:54  │\n",
       "│ …        ┆ …         ┆ …         ┆ …         ┆ … ┆ …         ┆ …         ┆ …         ┆ …         │\n",
       "│ 9        ┆ ODF 加抽  ┆ 654A1AP80 ┆ 654A1FP81 ┆ … ┆ 2025-08-2 ┆ 2025-08-2 ┆ 2025-08-2 ┆ 2025-08-2 │\n",
       "│          ┆ 85 sec    ┆ DL001     ┆ 0S033     ┆   ┆ 7         ┆ 7         ┆ 7         ┆ 7         │\n",
       "│          ┆           ┆           ┆           ┆   ┆ 16:42:56  ┆ 16:47:13  ┆ 16:49:31  ┆ 16:51:12  │\n",
       "│ 10       ┆ SEUV 3600 ┆ 654A1AP80 ┆ 654A1FP81 ┆ … ┆ 2025-08-2 ┆ 2025-08-2 ┆ 2025-08-2 ┆ 2025-08-2 │\n",
       "│          ┆           ┆ DL004     ┆ 0R050     ┆   ┆ 7         ┆ 7         ┆ 7         ┆ 7         │\n",
       "│          ┆           ┆           ┆           ┆   ┆ 16:47:03  ┆ 16:51:53  ┆ 16:54:10  ┆ 16:55:27  │\n",
       "│ 11       ┆ SEUV 5000 ┆ 654A1AP80 ┆ 654A1FP81 ┆ … ┆ 2025-08-2 ┆ 2025-08-2 ┆ 2025-08-2 ┆ 2025-08-2 │\n",
       "│          ┆           ┆ DL005     ┆ 13006     ┆   ┆ 7         ┆ 7         ┆ 7         ┆ 7         │\n",
       "│          ┆           ┆           ┆           ┆   ┆ 16:51:42  ┆ 16:55:26  ┆ 16:57:43  ┆ 16:59:14  │\n",
       "│ 12       ┆ SEUV 7000 ┆ 654A1AP80 ┆ 654A1FP81 ┆ … ┆ 2025-08-2 ┆ 2025-08-2 ┆ 2025-08-2 ┆ 2025-08-2 │\n",
       "│          ┆           ┆ DL006     ┆ 0C039     ┆   ┆ 7         ┆ 7         ┆ 7         ┆ 7         │\n",
       "│          ┆           ┆           ┆           ┆   ┆ 16:55:15  ┆ 16:58:58  ┆ 17:01:06  ┆ 17:02:57  │\n",
       "│ 13       ┆ SEUV 8000 ┆ 654A1AP80 ┆ 654A1FP81 ┆ … ┆ 2025-08-2 ┆ 2025-08-2 ┆ 2025-08-2 ┆ 2025-08-2 │\n",
       "│          ┆           ┆ DL007     ┆ 0N049     ┆   ┆ 7         ┆ 7         ┆ 7         ┆ 7         │\n",
       "│          ┆           ┆           ┆           ┆   ┆ 16:59:58  ┆ 17:03:32  ┆ 17:05:41  ┆ 17:07:41  │\n",
       "└──────────┴───────────┴───────────┴───────────┴───┴───────────┴───────────┴───────────┴───────────┘"
      ]
     },
     "execution_count": 32,
     "metadata": {},
     "output_type": "execute_result"
    }
   ],
   "source": [
    "qtime_2"
   ]
  },
  {
   "cell_type": "code",
   "execution_count": 33,
   "metadata": {},
   "outputs": [],
   "source": [
    "q_time_3 = qtime_2.select(\n",
    "    \"條件\", \"TFT\", \"CF\",\n",
    "    (pl.col('PAUV_IN'    ) - pl.col('PIPB_OUT'    )).alias('PIPB to PAUV - C'),\n",
    "    (pl.col('PAUV_IN_TFT') - pl.col('PIPB_OUT_TFT')).alias('PIPB to PAUV - T'),\n",
    "    (pl.col('BOOX_IN'    ) - pl.col('PAPB_OUT'    )).alias('PAPB to BOOX - C'),\n",
    "    (pl.col('BOOX_IN'    ) - pl.col('PAPB_OUT_TFT')).alias('PAPB to BOOX - T'),\n",
    "    (pl.col('ODFX_IN'    ) - pl.col('LCDP_OUT'    )).alias('LCDP to ODFX'    ),\n",
    "    (pl.col('SEUV_IN'    ) - pl.col('ODFX_OUT'    )).alias('ODFX to SEUV'    ),\n",
    ")"
   ]
  },
  {
   "cell_type": "code",
   "execution_count": 34,
   "metadata": {},
   "outputs": [
    {
     "data": {
      "text/plain": [
       "<xlsxwriter.workbook.Workbook at 0x1e908c67890>"
      ]
     },
     "execution_count": 34,
     "metadata": {},
     "output_type": "execute_result"
    }
   ],
   "source": [
    "q_time_3.write_excel(\"./q_time.xlsx\")"
   ]
  },
  {
   "cell_type": "code",
   "execution_count": 29,
   "metadata": {},
   "outputs": [
    {
     "data": {
      "text/html": [
       "<div><style>\n",
       ".dataframe > thead > tr,\n",
       ".dataframe > tbody > tr {\n",
       "  text-align: right;\n",
       "  white-space: pre-wrap;\n",
       "}\n",
       "</style>\n",
       "<small>shape: (12, 9)</small><table border=\"1\" class=\"dataframe\"><thead><tr><th>條件</th><th>TFT</th><th>CF</th><th>PIPB to PAUV - C</th><th>PIPB to PAUV - T</th><th>PAPB to BOOX - C</th><th>PAPB to BOOX - T</th><th>LCDP to ODFX</th><th>ODFX to SEUV</th></tr><tr><td>str</td><td>str</td><td>str</td><td>duration[ms]</td><td>duration[ms]</td><td>duration[ms]</td><td>duration[ms]</td><td>duration[ms]</td><td>duration[ms]</td></tr></thead><tbody><tr><td>&quot;PAUV 224 mJ(出力 100%)&quot;</td><td>&quot;654A1AP80Q3002&quot;</td><td>&quot;654A1FP810W045&quot;</td><td>11h 13m 17s</td><td>18h 34m 3s</td><td>5h 15m 18s</td><td>4h 44m 52s</td><td>2m 7s</td><td>2m 3s</td></tr><tr><td>&quot;SEUV 7000&quot;</td><td>&quot;654A1AP80DL006&quot;</td><td>&quot;654A1FP810C039&quot;</td><td>3h 43m 13s</td><td>5h 49m 16s</td><td>14h 53m 24s</td><td>20h 8m 12s</td><td>3m</td><td>2m 8s</td></tr><tr><td>&quot;PAUV 336 mJ(出力 70%)&quot;</td><td>&quot;654A1AP80Q3004&quot;</td><td>&quot;654A1FP810T030&quot;</td><td>11h 41m 41s</td><td>18h 53m 50s</td><td>6h 20m 28s</td><td>5h 49m 59s</td><td>2m 41s</td><td>2m 12s</td></tr><tr><td>&quot;LC Pattern 1&quot;</td><td>&quot;654A1AP80T0023&quot;</td><td>&quot;654A1FP810Q036&quot;</td><td>3h 36m 55s</td><td>5h 42m 55s</td><td>14h 24m 49s</td><td>19h 39m 12s</td><td>1m 36s</td><td>2m 9s</td></tr><tr><td>&quot;SEUV 5000&quot;</td><td>&quot;654A1AP80DL005&quot;</td><td>&quot;654A1FP8113006&quot;</td><td>3h 41m 46s</td><td>5h 47m 39s</td><td>14h 51m 51s</td><td>20h 5m 46s</td><td>4m 56s</td><td>2m 17s</td></tr><tr><td>&hellip;</td><td>&hellip;</td><td>&hellip;</td><td>&hellip;</td><td>&hellip;</td><td>&hellip;</td><td>&hellip;</td><td>&hellip;</td><td>&hellip;</td></tr><tr><td>&quot;SEUV 3600&quot;</td><td>&quot;654A1AP80DL004&quot;</td><td>&quot;654A1FP810R050&quot;</td><td>3h 40m 59s</td><td>5h 46m 53s</td><td>14h 49m 32s</td><td>20h 4m 27s</td><td>2m 34s</td><td>2m 17s</td></tr><tr><td>&quot;PAUV 224 mJ(出力 70%)&quot;</td><td>&quot;654A1AP80DH004&quot;</td><td>&quot;654A1FP810D069&quot;</td><td>11h 21m 9s</td><td>18h 40m 33s</td><td>5h 37m 37s</td><td>5h 7m 11s</td><td>1m 32s</td><td>2m 35s</td></tr><tr><td>&quot;PAUV 280 mJ(出力 100%)&quot;</td><td>&quot;654A1AP80PX020&quot;</td><td>&quot;654A1FP810A023&quot;</td><td>11h 31m 17s</td><td>18h 46m 35s</td><td>6h 23s</td><td>5h 29m 54s</td><td>2m 22s</td><td>2m 44s</td></tr><tr><td>&quot;SEUV 8000&quot;</td><td>&quot;654A1AP80DL007&quot;</td><td>&quot;654A1FP810N049&quot;</td><td>3h 44m</td><td>5h 50m 2s</td><td>14h 55m 17s</td><td>20h 9m 31s</td><td>2m 2s</td><td>2m 9s</td></tr><tr><td>&quot;LC Pattern 2&quot;</td><td>&quot;654A1AP80T0024&quot;</td><td>&quot;654A1FP810Z070&quot;</td><td>3h 38m 43s</td><td>5h 44m 34s</td><td>14h 26m 8s</td><td>19h 41m 26s</td><td>3m 19s</td><td>2m 11s</td></tr></tbody></table></div>"
      ],
      "text/plain": [
       "shape: (12, 9)\n",
       "┌───────────┬───────────┬───────────┬───────────┬───┬───────────┬───────────┬───────────┬──────────┐\n",
       "│ 條件      ┆ TFT       ┆ CF        ┆ PIPB to   ┆ … ┆ PAPB to   ┆ PAPB to   ┆ LCDP to   ┆ ODFX to  │\n",
       "│ ---       ┆ ---       ┆ ---       ┆ PAUV - C  ┆   ┆ BOOX - C  ┆ BOOX - T  ┆ ODFX      ┆ SEUV     │\n",
       "│ str       ┆ str       ┆ str       ┆ ---       ┆   ┆ ---       ┆ ---       ┆ ---       ┆ ---      │\n",
       "│           ┆           ┆           ┆ duration[ ┆   ┆ duration[ ┆ duration[ ┆ duration[ ┆ duration │\n",
       "│           ┆           ┆           ┆ ms]       ┆   ┆ ms]       ┆ ms]       ┆ ms]       ┆ [ms]     │\n",
       "╞═══════════╪═══════════╪═══════════╪═══════════╪═══╪═══════════╪═══════════╪═══════════╪══════════╡\n",
       "│ PAUV 224  ┆ 654A1AP80 ┆ 654A1FP81 ┆ 11h 13m   ┆ … ┆ 5h 15m    ┆ 4h 44m    ┆ 2m 7s     ┆ 2m 3s    │\n",
       "│ mJ(出力   ┆ Q3002     ┆ 0W045     ┆ 17s       ┆   ┆ 18s       ┆ 52s       ┆           ┆          │\n",
       "│ 100%)     ┆           ┆           ┆           ┆   ┆           ┆           ┆           ┆          │\n",
       "│ SEUV 7000 ┆ 654A1AP80 ┆ 654A1FP81 ┆ 3h 43m    ┆ … ┆ 14h 53m   ┆ 20h 8m    ┆ 3m        ┆ 2m 8s    │\n",
       "│           ┆ DL006     ┆ 0C039     ┆ 13s       ┆   ┆ 24s       ┆ 12s       ┆           ┆          │\n",
       "│ PAUV 336  ┆ 654A1AP80 ┆ 654A1FP81 ┆ 11h 41m   ┆ … ┆ 6h 20m    ┆ 5h 49m    ┆ 2m 41s    ┆ 2m 12s   │\n",
       "│ mJ(出力   ┆ Q3004     ┆ 0T030     ┆ 41s       ┆   ┆ 28s       ┆ 59s       ┆           ┆          │\n",
       "│ 70%)      ┆           ┆           ┆           ┆   ┆           ┆           ┆           ┆          │\n",
       "│ LC        ┆ 654A1AP80 ┆ 654A1FP81 ┆ 3h 36m    ┆ … ┆ 14h 24m   ┆ 19h 39m   ┆ 1m 36s    ┆ 2m 9s    │\n",
       "│ Pattern 1 ┆ T0023     ┆ 0Q036     ┆ 55s       ┆   ┆ 49s       ┆ 12s       ┆           ┆          │\n",
       "│ SEUV 5000 ┆ 654A1AP80 ┆ 654A1FP81 ┆ 3h 41m    ┆ … ┆ 14h 51m   ┆ 20h 5m    ┆ 4m 56s    ┆ 2m 17s   │\n",
       "│           ┆ DL005     ┆ 13006     ┆ 46s       ┆   ┆ 51s       ┆ 46s       ┆           ┆          │\n",
       "│ …         ┆ …         ┆ …         ┆ …         ┆ … ┆ …         ┆ …         ┆ …         ┆ …        │\n",
       "│ SEUV 3600 ┆ 654A1AP80 ┆ 654A1FP81 ┆ 3h 40m    ┆ … ┆ 14h 49m   ┆ 20h 4m    ┆ 2m 34s    ┆ 2m 17s   │\n",
       "│           ┆ DL004     ┆ 0R050     ┆ 59s       ┆   ┆ 32s       ┆ 27s       ┆           ┆          │\n",
       "│ PAUV 224  ┆ 654A1AP80 ┆ 654A1FP81 ┆ 11h 21m   ┆ … ┆ 5h 37m    ┆ 5h 7m 11s ┆ 1m 32s    ┆ 2m 35s   │\n",
       "│ mJ(出力   ┆ DH004     ┆ 0D069     ┆ 9s        ┆   ┆ 37s       ┆           ┆           ┆          │\n",
       "│ 70%)      ┆           ┆           ┆           ┆   ┆           ┆           ┆           ┆          │\n",
       "│ PAUV 280  ┆ 654A1AP80 ┆ 654A1FP81 ┆ 11h 31m   ┆ … ┆ 6h 23s    ┆ 5h 29m    ┆ 2m 22s    ┆ 2m 44s   │\n",
       "│ mJ(出力   ┆ PX020     ┆ 0A023     ┆ 17s       ┆   ┆           ┆ 54s       ┆           ┆          │\n",
       "│ 100%)     ┆           ┆           ┆           ┆   ┆           ┆           ┆           ┆          │\n",
       "│ SEUV 8000 ┆ 654A1AP80 ┆ 654A1FP81 ┆ 3h 44m    ┆ … ┆ 14h 55m   ┆ 20h 9m    ┆ 2m 2s     ┆ 2m 9s    │\n",
       "│           ┆ DL007     ┆ 0N049     ┆           ┆   ┆ 17s       ┆ 31s       ┆           ┆          │\n",
       "│ LC        ┆ 654A1AP80 ┆ 654A1FP81 ┆ 3h 38m    ┆ … ┆ 14h 26m   ┆ 19h 41m   ┆ 3m 19s    ┆ 2m 11s   │\n",
       "│ Pattern 2 ┆ T0024     ┆ 0Z070     ┆ 43s       ┆   ┆ 8s        ┆ 26s       ┆           ┆          │\n",
       "└───────────┴───────────┴───────────┴───────────┴───┴───────────┴───────────┴───────────┴──────────┘"
      ]
     },
     "execution_count": 29,
     "metadata": {},
     "output_type": "execute_result"
    }
   ],
   "source": [
    "q_time_3"
   ]
  },
  {
   "cell_type": "code",
   "execution_count": 20,
   "metadata": {},
   "outputs": [
    {
     "name": "stderr",
     "output_type": "stream",
     "text": [
      "Could not determine dtype for column 7, falling back to string\n"
     ]
    },
    {
     "data": {
      "text/html": [
       "<div><style>\n",
       ".dataframe > thead > tr,\n",
       ".dataframe > tbody > tr {\n",
       "  text-align: right;\n",
       "  white-space: pre-wrap;\n",
       "}\n",
       "</style>\n",
       "<small>shape: (33_900, 25)</small><table border=\"1\" class=\"dataframe\"><thead><tr><th>STEP_ID</th><th>PARAM_COLLECTION</th><th>PARAM_NAME</th><th>COMPONENT_ID</th><th>TRACK_OUT_TIME</th><th>PRODUCT_ID</th><th>SUB_EQUIP_ID</th><th>CHAMBER_ID</th><th>BATCH_ID</th><th>GLASS_ID</th><th>PARAM_TYPE</th><th>RECIPE_NAME</th><th>OPERATOR_ID</th><th>PLAN_ID</th><th>EQUIP_ID</th><th>CARRIER_ID</th><th>FAB_AREA</th><th>PRODUCT_VERSION</th><th>AVG_VALUE</th><th>STD_VALUE</th><th>MAX_VALUE</th><th>MIN_VALUE</th><th>COUNT_VALUE</th><th>PARAM_VALUE</th><th>RN</th></tr><tr><td>i64</td><td>str</td><td>str</td><td>str</td><td>datetime[ms]</td><td>str</td><td>str</td><td>str</td><td>str</td><td>str</td><td>i64</td><td>str</td><td>str</td><td>str</td><td>str</td><td>str</td><td>str</td><td>str</td><td>f64</td><td>f64</td><td>f64</td><td>f64</td><td>i64</td><td>str</td><td>i64</td></tr></thead><tbody><tr><td>6300</td><td>&quot;PDSG_1CASM100_1CASM1H0&quot;</td><td>&quot;AC2_P_E1-3&quot;</td><td>&quot;654A1AP80DH004&quot;</td><td>2025-08-27 20:41:36</td><td>&quot;654A1C&quot;</td><td>&quot;1CASM1H0&quot;</td><td>&quot;N/A&quot;</td><td>&quot;EF58270V&quot;</td><td>&quot;654A1AP80DH004&quot;</td><td>2</td><td>&quot;R1_654F_T_01&quot;</td><td>&quot;InlineBC&quot;</td><td>&quot;654A1C_FB_A_T1_1&quot;</td><td>&quot;1CASM100&quot;</td><td>&quot;1D124&quot;</td><td>&quot;T1&quot;</td><td>&quot; &quot;</td><td>-2.0</td><td>0.0</td><td>-2.0</td><td>-2.0</td><td>1</td><td>&quot; &quot;</td><td>1</td></tr><tr><td>6300</td><td>&quot;PDSG_1CASM100_1CASM1H0&quot;</td><td>&quot;AC2_P_E1-3&quot;</td><td>&quot;654A1AP80DL001&quot;</td><td>2025-08-27 18:26:07</td><td>&quot;654A1C&quot;</td><td>&quot;1CASM1H0&quot;</td><td>&quot;N/A&quot;</td><td>&quot;EF58250Z&quot;</td><td>&quot;654A1AP80DL001&quot;</td><td>2</td><td>&quot;R1_654F_T_01&quot;</td><td>&quot;InlineBC&quot;</td><td>&quot;654A1C_FB_A_T1_1&quot;</td><td>&quot;1CASM100&quot;</td><td>&quot;1D087&quot;</td><td>&quot;T1&quot;</td><td>&quot; &quot;</td><td>-21.0</td><td>0.0</td><td>-21.0</td><td>-21.0</td><td>1</td><td>&quot; &quot;</td><td>2</td></tr><tr><td>6300</td><td>&quot;PDSG_1CASM100_1CASM1H0&quot;</td><td>&quot;AC2_P_E1-3&quot;</td><td>&quot;654A1AP80DL004&quot;</td><td>2025-08-27 18:40:54</td><td>&quot;654A1C&quot;</td><td>&quot;1CASM1H0&quot;</td><td>&quot;N/A&quot;</td><td>&quot;EF58250Z&quot;</td><td>&quot;654A1AP80DL004&quot;</td><td>2</td><td>&quot;R1_654F_T_01&quot;</td><td>&quot;InlineBC&quot;</td><td>&quot;654A1C_FB_A_T1_1&quot;</td><td>&quot;1CASM100&quot;</td><td>&quot;1D037&quot;</td><td>&quot;T1&quot;</td><td>&quot; &quot;</td><td>-14.0</td><td>0.0</td><td>-14.0</td><td>-14.0</td><td>1</td><td>&quot; &quot;</td><td>3</td></tr><tr><td>6300</td><td>&quot;PDSG_1CASM100_1CASM1H0&quot;</td><td>&quot;AC2_P_E2-4&quot;</td><td>&quot;654A1AP80DH004&quot;</td><td>2025-08-27 20:41:36</td><td>&quot;654A1C&quot;</td><td>&quot;1CASM1H0&quot;</td><td>&quot;N/A&quot;</td><td>&quot;EF58270V&quot;</td><td>&quot;654A1AP80DH004&quot;</td><td>2</td><td>&quot;R1_654F_T_01&quot;</td><td>&quot;InlineBC&quot;</td><td>&quot;654A1C_FB_A_T1_1&quot;</td><td>&quot;1CASM100&quot;</td><td>&quot;1D124&quot;</td><td>&quot;T1&quot;</td><td>&quot; &quot;</td><td>12.0</td><td>0.0</td><td>12.0</td><td>12.0</td><td>1</td><td>&quot; &quot;</td><td>4</td></tr><tr><td>6300</td><td>&quot;PDSG_1CASM100_1CASM1H0&quot;</td><td>&quot;AC2_P_E2-4&quot;</td><td>&quot;654A1AP80DL001&quot;</td><td>2025-08-27 18:26:07</td><td>&quot;654A1C&quot;</td><td>&quot;1CASM1H0&quot;</td><td>&quot;N/A&quot;</td><td>&quot;EF58250Z&quot;</td><td>&quot;654A1AP80DL001&quot;</td><td>2</td><td>&quot;R1_654F_T_01&quot;</td><td>&quot;InlineBC&quot;</td><td>&quot;654A1C_FB_A_T1_1&quot;</td><td>&quot;1CASM100&quot;</td><td>&quot;1D087&quot;</td><td>&quot;T1&quot;</td><td>&quot; &quot;</td><td>8.0</td><td>0.0</td><td>8.0</td><td>8.0</td><td>1</td><td>&quot; &quot;</td><td>5</td></tr><tr><td>&hellip;</td><td>&hellip;</td><td>&hellip;</td><td>&hellip;</td><td>&hellip;</td><td>&hellip;</td><td>&hellip;</td><td>&hellip;</td><td>&hellip;</td><td>&hellip;</td><td>&hellip;</td><td>&hellip;</td><td>&hellip;</td><td>&hellip;</td><td>&hellip;</td><td>&hellip;</td><td>&hellip;</td><td>&hellip;</td><td>&hellip;</td><td>&hellip;</td><td>&hellip;</td><td>&hellip;</td><td>&hellip;</td><td>&hellip;</td><td>&hellip;</td></tr><tr><td>6100</td><td>&quot;PDSG_1CPIL200_1CPIL2A0&quot;</td><td>&quot;over_curing&quot;</td><td>&quot;654A1FP810Z070&quot;</td><td>2025-08-26 20:10:36</td><td>&quot;654A1F00B_A&quot;</td><td>&quot;1CPIL2A0&quot;</td><td>&quot;N/A&quot;</td><td>&quot;EF58250Z&quot;</td><td>&quot;654A1FP810Z070&quot;</td><td>2</td><td>&quot;R1_654F_F_01&quot;</td><td>&quot;InlineBC&quot;</td><td>&quot;654A1F00B_A_T1_1&quot;</td><td>&quot;1CPIL200&quot;</td><td>&quot;1C503&quot;</td><td>&quot;T1&quot;</td><td>&quot; &quot;</td><td>0.0</td><td>0.0</td><td>0.0</td><td>0.0</td><td>1</td><td>&quot; &quot;</td><td>33896</td></tr><tr><td>6100</td><td>&quot;PDSG_1CPIL200_1CPIL2A0&quot;</td><td>&quot;over_curing&quot;</td><td>&quot;654A1FP8113006&quot;</td><td>2025-08-26 20:10:36</td><td>&quot;654A1F00B_A&quot;</td><td>&quot;1CPIL2A0&quot;</td><td>&quot;N/A&quot;</td><td>&quot;EF58250Z&quot;</td><td>&quot;654A1FP8113006&quot;</td><td>2</td><td>&quot;R1_654F_F_01&quot;</td><td>&quot;InlineBC&quot;</td><td>&quot;654A1F00B_A_T1_1&quot;</td><td>&quot;1CPIL200&quot;</td><td>&quot;1C503&quot;</td><td>&quot;T1&quot;</td><td>&quot; &quot;</td><td>0.0</td><td>0.0</td><td>0.0</td><td>0.0</td><td>1</td><td>&quot; &quot;</td><td>33897</td></tr><tr><td>6100</td><td>&quot;PDSG_1CPIL200_1CPIL2A0&quot;</td><td>&quot;over_curing&quot;</td><td>&quot;654A1AP80PX020&quot;</td><td>2025-08-26 17:34:49</td><td>&quot;654A1C&quot;</td><td>&quot;1CPIL2A0&quot;</td><td>&quot;N/A&quot;</td><td>&quot;EF58250Z&quot;</td><td>&quot;654A1AP80PX020&quot;</td><td>2</td><td>&quot;R1_654F_T_01&quot;</td><td>&quot;InlineBC&quot;</td><td>&quot;654A1C_FB_A_T1_1&quot;</td><td>&quot;1CPIL200&quot;</td><td>&quot;1C119&quot;</td><td>&quot;T1&quot;</td><td>&quot; &quot;</td><td>0.0</td><td>0.0</td><td>0.0</td><td>0.0</td><td>1</td><td>&quot; &quot;</td><td>33898</td></tr><tr><td>6204</td><td>&quot;PDSG_1CPHA200_1CPHA240&quot;</td><td>&quot;Work_angle&quot;</td><td>&quot;654A1AP80DL006&quot;</td><td>2025-08-26 19:28:41</td><td>&quot;654A1C&quot;</td><td>&quot;1CPHA240&quot;</td><td>&quot;N/A&quot;</td><td>&quot;EF58250Z&quot;</td><td>&quot;654A1AP80DL006&quot;</td><td>2</td><td>&quot;R1_654F_T_01&quot;</td><td>&quot;BC&quot;</td><td>&quot;654A1C_FB_A_T1_1&quot;</td><td>&quot;1CPHA200&quot;</td><td>&quot;100000000000000001440594758724…</td><td>&quot;T1&quot;</td><td>&quot; &quot;</td><td>270.0</td><td>0.0</td><td>270.0</td><td>270.0</td><td>1</td><td>&quot; &quot;</td><td>33899</td></tr><tr><td>6100</td><td>&quot;PDSG_1CPIL200_1CPIL2A0&quot;</td><td>&quot;over_curing&quot;</td><td>&quot;654A1AP80DL001&quot;</td><td>2025-08-26 13:53:10</td><td>&quot;654A1C&quot;</td><td>&quot;1CPIL2A0&quot;</td><td>&quot;N/A&quot;</td><td>&quot;EF58250Z&quot;</td><td>&quot;654A1AP80DL001&quot;</td><td>2</td><td>&quot;R1_654F_T_01&quot;</td><td>&quot;InlineBC&quot;</td><td>&quot;654A1C_FB_A_T1_1&quot;</td><td>&quot;1CPIL200&quot;</td><td>&quot;100000000000000001440594758724…</td><td>&quot;T1&quot;</td><td>&quot; &quot;</td><td>0.0</td><td>0.0</td><td>0.0</td><td>0.0</td><td>1</td><td>&quot; &quot;</td><td>33900</td></tr></tbody></table></div>"
      ],
      "text/plain": [
       "shape: (33_900, 25)\n",
       "┌─────────┬────────────┬────────────┬────────────┬───┬───────────┬────────────┬────────────┬───────┐\n",
       "│ STEP_ID ┆ PARAM_COLL ┆ PARAM_NAME ┆ COMPONENT_ ┆ … ┆ MIN_VALUE ┆ COUNT_VALU ┆ PARAM_VALU ┆ RN    │\n",
       "│ ---     ┆ ECTION     ┆ ---        ┆ ID         ┆   ┆ ---       ┆ E          ┆ E          ┆ ---   │\n",
       "│ i64     ┆ ---        ┆ str        ┆ ---        ┆   ┆ f64       ┆ ---        ┆ ---        ┆ i64   │\n",
       "│         ┆ str        ┆            ┆ str        ┆   ┆           ┆ i64        ┆ str        ┆       │\n",
       "╞═════════╪════════════╪════════════╪════════════╪═══╪═══════════╪════════════╪════════════╪═══════╡\n",
       "│ 6300    ┆ PDSG_1CASM ┆ AC2_P_E1-3 ┆ 654A1AP80D ┆ … ┆ -2.0      ┆ 1          ┆            ┆ 1     │\n",
       "│         ┆ 100_1CASM1 ┆            ┆ H004       ┆   ┆           ┆            ┆            ┆       │\n",
       "│         ┆ H0         ┆            ┆            ┆   ┆           ┆            ┆            ┆       │\n",
       "│ 6300    ┆ PDSG_1CASM ┆ AC2_P_E1-3 ┆ 654A1AP80D ┆ … ┆ -21.0     ┆ 1          ┆            ┆ 2     │\n",
       "│         ┆ 100_1CASM1 ┆            ┆ L001       ┆   ┆           ┆            ┆            ┆       │\n",
       "│         ┆ H0         ┆            ┆            ┆   ┆           ┆            ┆            ┆       │\n",
       "│ 6300    ┆ PDSG_1CASM ┆ AC2_P_E1-3 ┆ 654A1AP80D ┆ … ┆ -14.0     ┆ 1          ┆            ┆ 3     │\n",
       "│         ┆ 100_1CASM1 ┆            ┆ L004       ┆   ┆           ┆            ┆            ┆       │\n",
       "│         ┆ H0         ┆            ┆            ┆   ┆           ┆            ┆            ┆       │\n",
       "│ 6300    ┆ PDSG_1CASM ┆ AC2_P_E2-4 ┆ 654A1AP80D ┆ … ┆ 12.0      ┆ 1          ┆            ┆ 4     │\n",
       "│         ┆ 100_1CASM1 ┆            ┆ H004       ┆   ┆           ┆            ┆            ┆       │\n",
       "│         ┆ H0         ┆            ┆            ┆   ┆           ┆            ┆            ┆       │\n",
       "│ 6300    ┆ PDSG_1CASM ┆ AC2_P_E2-4 ┆ 654A1AP80D ┆ … ┆ 8.0       ┆ 1          ┆            ┆ 5     │\n",
       "│         ┆ 100_1CASM1 ┆            ┆ L001       ┆   ┆           ┆            ┆            ┆       │\n",
       "│         ┆ H0         ┆            ┆            ┆   ┆           ┆            ┆            ┆       │\n",
       "│ …       ┆ …          ┆ …          ┆ …          ┆ … ┆ …         ┆ …          ┆ …          ┆ …     │\n",
       "│ 6100    ┆ PDSG_1CPIL ┆ over_curin ┆ 654A1FP810 ┆ … ┆ 0.0       ┆ 1          ┆            ┆ 33896 │\n",
       "│         ┆ 200_1CPIL2 ┆ g          ┆ Z070       ┆   ┆           ┆            ┆            ┆       │\n",
       "│         ┆ A0         ┆            ┆            ┆   ┆           ┆            ┆            ┆       │\n",
       "│ 6100    ┆ PDSG_1CPIL ┆ over_curin ┆ 654A1FP811 ┆ … ┆ 0.0       ┆ 1          ┆            ┆ 33897 │\n",
       "│         ┆ 200_1CPIL2 ┆ g          ┆ 3006       ┆   ┆           ┆            ┆            ┆       │\n",
       "│         ┆ A0         ┆            ┆            ┆   ┆           ┆            ┆            ┆       │\n",
       "│ 6100    ┆ PDSG_1CPIL ┆ over_curin ┆ 654A1AP80P ┆ … ┆ 0.0       ┆ 1          ┆            ┆ 33898 │\n",
       "│         ┆ 200_1CPIL2 ┆ g          ┆ X020       ┆   ┆           ┆            ┆            ┆       │\n",
       "│         ┆ A0         ┆            ┆            ┆   ┆           ┆            ┆            ┆       │\n",
       "│ 6204    ┆ PDSG_1CPHA ┆ Work_angle ┆ 654A1AP80D ┆ … ┆ 270.0     ┆ 1          ┆            ┆ 33899 │\n",
       "│         ┆ 200_1CPHA2 ┆            ┆ L006       ┆   ┆           ┆            ┆            ┆       │\n",
       "│         ┆ 40         ┆            ┆            ┆   ┆           ┆            ┆            ┆       │\n",
       "│ 6100    ┆ PDSG_1CPIL ┆ over_curin ┆ 654A1AP80D ┆ … ┆ 0.0       ┆ 1          ┆            ┆ 33900 │\n",
       "│         ┆ 200_1CPIL2 ┆ g          ┆ L001       ┆   ┆           ┆            ┆            ┆       │\n",
       "│         ┆ A0         ┆            ┆            ┆   ┆           ┆            ┆            ┆       │\n",
       "└─────────┴────────────┴────────────┴────────────┴───┴───────────┴────────────┴────────────┴───────┘"
      ]
     },
     "execution_count": 20,
     "metadata": {},
     "output_type": "execute_result"
    }
   ],
   "source": [
    "edc_raw = pl.read_excel(data_path / \"T1 6634 6053 製程改善\" / \"t1_eda_raw.xlsx\")\n",
    "edc_raw"
   ]
  },
  {
   "cell_type": "code",
   "execution_count": 21,
   "metadata": {},
   "outputs": [],
   "source": [
    "edc_1 = edc_raw.select(\n",
    "    \"GLASS_ID\",\n",
    "    \"STEP_ID\",\n",
    "    \"SUB_EQUIP_ID\",\n",
    "    \"TRACK_OUT_TIME\",\n",
    "    \"PARAM_NAME\",\n",
    "    \"AVG_VALUE\",\n",
    ")"
   ]
  },
  {
   "cell_type": "code",
   "execution_count": 22,
   "metadata": {},
   "outputs": [],
   "source": [
    "# edc_steps = {\n",
    "#     \"PIPR TEMP\": {\"step\": (\"1CPIL\", \"PreCur[1-4]_temp\"), \"filter\": None},\n",
    "#     \"PIPR TIME\": {\"step\": (\"1CPIL\", \"Heater_Time\"),      \"filter\": None},\n",
    "#     \"PIPB TEMP\": {\"step\": (\"1CPIL\", \"Oven[A-D]_Temp\"),   \"filter\": None},\n",
    "#     \"PIPB TIME\": {\"step\": (\"1CPIL\", \"Heating_Time\"),     \"filter\": None},\n",
    "#     \"PAUV\"     : {\"step\": (\"1CPHA\", \"S[1-2]_EXP_MON\"),   \"filter\": [pl.col(\"AVG_VALUE\") > 100]},\n",
    "#     \"PAPB TEMP\": {\"step\": (\"1CPAO\", \"Heating_Temp\"),     \"filter\": None},\n",
    "#     \"PAPB TIME\": {\"step\": (\"1CPAO\", \"Heating_Time\"),     \"filter\": None},\n",
    "#     \"BOOX TEMP\": {\"step\": (\"1CASM\", \"Current_Temp\"),     \"filter\": None},\n",
    "#     \"BOOX TIME\": {\"step\": (\"1CASM\", \"HEAT_TIME\"),        \"filter\": None},\n",
    "#     \"ODFX Q2\"  : {\"step\": (\"1CASM\", \"ASMQ2_TIME\"),       \"filter\": None}, # ODFX in -> SEUV out\n",
    "#     \"SEUV\"     : {\"step\": (\"1CASM\", \"(?i)uv_energy_2\"),  \"filter\": None},\n",
    "#     \"SEPB TEMP\": {\"step\": (\"1CASM\", \"Oven_temp\"),        \"filter\": None},\n",
    "#     \"SEPB TIME\": {\"step\": (\"1CASM\", \"HeatingTime\"),      \"filter\": None},\n",
    "# }\n",
    "\n",
    "def get_val(df: pl.DataFrame, step: tuple[str, str], filter: list[pl.Expr] | None = None) -> pl.DataFrame:\n",
    "    result = (\n",
    "        df.filter(\n",
    "            pl.col(\"SUB_EQUIP_ID\").str.contains(step[0]),\n",
    "            pl.col(\"PARAM_NAME\").str.contains(step[1])\n",
    "        )\n",
    "        # .select(\n",
    "        #     \"GLASS_ID\", \"SUB_EQUIP_ID\", \"PARAM_NAME\", \"AVG_VALUE\"\n",
    "        # )\n",
    "        .select(\n",
    "            \"GLASS_ID\", \"AVG_VALUE\"\n",
    "        )\n",
    "    )\n",
    "    \n",
    "    if filter is not None:\n",
    "        result = result.filter(*filter)\n",
    "    \n",
    "    return result.group_by(['GLASS_ID']).mean()"
   ]
  },
  {
   "cell_type": "code",
   "execution_count": 23,
   "metadata": {},
   "outputs": [
    {
     "data": {
      "text/html": [
       "<div><style>\n",
       ".dataframe > thead > tr,\n",
       ".dataframe > tbody > tr {\n",
       "  text-align: right;\n",
       "  white-space: pre-wrap;\n",
       "}\n",
       "</style>\n",
       "<small>shape: (24, 14)</small><table border=\"1\" class=\"dataframe\"><thead><tr><th>ID</th><th>PIPR TEMP</th><th>PIPR TIME</th><th>PIPB TEMP</th><th>PIPB TIME</th><th>PAUV</th><th>PAPB TEMP</th><th>PAPB TIME</th><th>BOOX TEMP</th><th>BOOX TIME</th><th>ODFX Q2</th><th>SEUV</th><th>SEPB TEMP</th><th>SEPB TIME</th></tr><tr><td>str</td><td>f64</td><td>f64</td><td>f64</td><td>f64</td><td>f64</td><td>f64</td><td>f64</td><td>f64</td><td>f64</td><td>f64</td><td>f64</td><td>f64</td><td>f64</td></tr></thead><tbody><tr><td>&quot;654A1AP80DL004&quot;</td><td>135.0</td><td>70.0</td><td>211.25</td><td>624.0</td><td>278.0</td><td>229.8</td><td>1821.0</td><td>150.125</td><td>626.0</td><td>504.0</td><td>3600.0</td><td>119.0</td><td>3579.0</td></tr><tr><td>&quot;654A1FP810R050&quot;</td><td>135.0</td><td>70.0</td><td>211.333333</td><td>609.0</td><td>280.0</td><td>229.9</td><td>1812.0</td><td>null</td><td>null</td><td>null</td><td>null</td><td>null</td><td>null</td></tr><tr><td>&quot;654A1FP810A023&quot;</td><td>135.0</td><td>70.0</td><td>211.333333</td><td>790.0</td><td>281.666667</td><td>231.0</td><td>1804.0</td><td>null</td><td>null</td><td>null</td><td>null</td><td>null</td><td>null</td></tr><tr><td>&quot;654A1AP80DH004&quot;</td><td>135.0</td><td>70.0</td><td>211.166667</td><td>619.0</td><td>221.666667</td><td>230.4</td><td>1801.0</td><td>150.083333</td><td>625.0</td><td>482.0</td><td>6010.0</td><td>119.0</td><td>3578.0</td></tr><tr><td>&quot;654A1FP810W045&quot;</td><td>135.0</td><td>70.0</td><td>211.333333</td><td>780.0</td><td>225.666667</td><td>230.5</td><td>1822.0</td><td>null</td><td>null</td><td>null</td><td>null</td><td>null</td><td>null</td></tr><tr><td>&hellip;</td><td>&hellip;</td><td>&hellip;</td><td>&hellip;</td><td>&hellip;</td><td>&hellip;</td><td>&hellip;</td><td>&hellip;</td><td>&hellip;</td><td>&hellip;</td><td>&hellip;</td><td>&hellip;</td><td>&hellip;</td><td>&hellip;</td></tr><tr><td>&quot;654A1FP810Z070&quot;</td><td>135.0</td><td>70.0</td><td>211.333333</td><td>606.0</td><td>280.0</td><td>230.0</td><td>1820.0</td><td>null</td><td>null</td><td>null</td><td>null</td><td>null</td><td>null</td></tr><tr><td>&quot;654A1FP810D069&quot;</td><td>135.0</td><td>70.0</td><td>211.333333</td><td>790.0</td><td>222.333333</td><td>231.0</td><td>1822.0</td><td>null</td><td>null</td><td>null</td><td>null</td><td>null</td><td>null</td></tr><tr><td>&quot;654A1AP80T0023&quot;</td><td>135.0</td><td>70.0</td><td>211.25</td><td>641.0</td><td>280.0</td><td>230.3</td><td>1809.0</td><td>150.116667</td><td>625.0</td><td>454.0</td><td>6000.0</td><td>120.0</td><td>3578.0</td></tr><tr><td>&quot;654A1AP80PX020&quot;</td><td>135.0</td><td>70.0</td><td>211.166667</td><td>619.0</td><td>281.0</td><td>231.1</td><td>1802.0</td><td>150.091667</td><td>625.0</td><td>457.0</td><td>6010.0</td><td>120.0</td><td>3619.0</td></tr><tr><td>&quot;654A1AP80Q3002&quot;</td><td>135.0</td><td>70.0</td><td>211.166667</td><td>619.0</td><td>225.333333</td><td>229.9</td><td>1801.0</td><td>150.083333</td><td>625.0</td><td>412.0</td><td>6010.0</td><td>120.0</td><td>3579.0</td></tr></tbody></table></div>"
      ],
      "text/plain": [
       "shape: (24, 14)\n",
       "┌──────────────┬───────────┬───────────┬────────────┬───┬─────────┬────────┬───────────┬───────────┐\n",
       "│ ID           ┆ PIPR TEMP ┆ PIPR TIME ┆ PIPB TEMP  ┆ … ┆ ODFX Q2 ┆ SEUV   ┆ SEPB TEMP ┆ SEPB TIME │\n",
       "│ ---          ┆ ---       ┆ ---       ┆ ---        ┆   ┆ ---     ┆ ---    ┆ ---       ┆ ---       │\n",
       "│ str          ┆ f64       ┆ f64       ┆ f64        ┆   ┆ f64     ┆ f64    ┆ f64       ┆ f64       │\n",
       "╞══════════════╪═══════════╪═══════════╪════════════╪═══╪═════════╪════════╪═══════════╪═══════════╡\n",
       "│ 654A1AP80DL0 ┆ 135.0     ┆ 70.0      ┆ 211.25     ┆ … ┆ 504.0   ┆ 3600.0 ┆ 119.0     ┆ 3579.0    │\n",
       "│ 04           ┆           ┆           ┆            ┆   ┆         ┆        ┆           ┆           │\n",
       "│ 654A1FP810R0 ┆ 135.0     ┆ 70.0      ┆ 211.333333 ┆ … ┆ null    ┆ null   ┆ null      ┆ null      │\n",
       "│ 50           ┆           ┆           ┆            ┆   ┆         ┆        ┆           ┆           │\n",
       "│ 654A1FP810A0 ┆ 135.0     ┆ 70.0      ┆ 211.333333 ┆ … ┆ null    ┆ null   ┆ null      ┆ null      │\n",
       "│ 23           ┆           ┆           ┆            ┆   ┆         ┆        ┆           ┆           │\n",
       "│ 654A1AP80DH0 ┆ 135.0     ┆ 70.0      ┆ 211.166667 ┆ … ┆ 482.0   ┆ 6010.0 ┆ 119.0     ┆ 3578.0    │\n",
       "│ 04           ┆           ┆           ┆            ┆   ┆         ┆        ┆           ┆           │\n",
       "│ 654A1FP810W0 ┆ 135.0     ┆ 70.0      ┆ 211.333333 ┆ … ┆ null    ┆ null   ┆ null      ┆ null      │\n",
       "│ 45           ┆           ┆           ┆            ┆   ┆         ┆        ┆           ┆           │\n",
       "│ …            ┆ …         ┆ …         ┆ …          ┆ … ┆ …       ┆ …      ┆ …         ┆ …         │\n",
       "│ 654A1FP810Z0 ┆ 135.0     ┆ 70.0      ┆ 211.333333 ┆ … ┆ null    ┆ null   ┆ null      ┆ null      │\n",
       "│ 70           ┆           ┆           ┆            ┆   ┆         ┆        ┆           ┆           │\n",
       "│ 654A1FP810D0 ┆ 135.0     ┆ 70.0      ┆ 211.333333 ┆ … ┆ null    ┆ null   ┆ null      ┆ null      │\n",
       "│ 69           ┆           ┆           ┆            ┆   ┆         ┆        ┆           ┆           │\n",
       "│ 654A1AP80T00 ┆ 135.0     ┆ 70.0      ┆ 211.25     ┆ … ┆ 454.0   ┆ 6000.0 ┆ 120.0     ┆ 3578.0    │\n",
       "│ 23           ┆           ┆           ┆            ┆   ┆         ┆        ┆           ┆           │\n",
       "│ 654A1AP80PX0 ┆ 135.0     ┆ 70.0      ┆ 211.166667 ┆ … ┆ 457.0   ┆ 6010.0 ┆ 120.0     ┆ 3619.0    │\n",
       "│ 20           ┆           ┆           ┆            ┆   ┆         ┆        ┆           ┆           │\n",
       "│ 654A1AP80Q30 ┆ 135.0     ┆ 70.0      ┆ 211.166667 ┆ … ┆ 412.0   ┆ 6010.0 ┆ 120.0     ┆ 3579.0    │\n",
       "│ 02           ┆           ┆           ┆            ┆   ┆         ┆        ┆           ┆           │\n",
       "└──────────────┴───────────┴───────────┴────────────┴───┴─────────┴────────┴───────────┴───────────┘"
      ]
     },
     "execution_count": 23,
     "metadata": {},
     "output_type": "execute_result"
    }
   ],
   "source": [
    "edc_2 = edc_1.select(\n",
    "    pl.col(\"GLASS_ID\").alias(\"ID\"),\n",
    ").unique()\n",
    "\n",
    "for step, kwargs in fabs[\"T1\"][\"edc\"].items():\n",
    "    edc_2 = edc_2.join(\n",
    "        get_val(edc_1, **kwargs)\n",
    "        .select(\n",
    "            pl.col(\"GLASS_ID\").alias(\"ID\"),\n",
    "            pl.col(\"AVG_VALUE\").alias(step),\n",
    "        ),\n",
    "        on='ID',\n",
    "        how='left'\n",
    "    )\n",
    "edc_2"
   ]
  },
  {
   "cell_type": "code",
   "execution_count": 26,
   "metadata": {},
   "outputs": [],
   "source": [
    "edc_3 = condition_table.join(\n",
    "    edc_2.select([col for col in edc_2.columns if edc_2[col].null_count() == 0]),\n",
    "    left_on=\"CF\",\n",
    "    right_on='ID',\n",
    "    suffix=\"_CF\",\n",
    "    maintain_order=\"left\",\n",
    ").join(\n",
    "    edc_2,\n",
    "    left_on=\"TFT\",\n",
    "    right_on=\"ID\",\n",
    "    suffix=\" - T\",\n",
    "    maintain_order=\"left\",\n",
    ")"
   ]
  },
  {
   "cell_type": "code",
   "execution_count": 27,
   "metadata": {},
   "outputs": [],
   "source": [
    "edc_4 = edc_3.select(\n",
    "    pl.col('條件編號'),\n",
    "    pl.col('條件'),\n",
    "    pl.col('TFT'),\n",
    "    pl.col('CF'),\n",
    "    pl.col('PIPR TEMP - T'),\n",
    "    pl.col('PIPR TEMP').alias('PIPR TEMP - C'),\n",
    "    pl.col('PIPR TIME - T'),\n",
    "    pl.col('PIPR TIME').alias('PIPR TIME - C'),\n",
    "    pl.col('PIPB TEMP - T'),\n",
    "    pl.col('PIPB TEMP').alias('PIPB TEMP - C'),\n",
    "    pl.col('PIPB TIME - T'),\n",
    "    pl.col('PIPB TIME').alias('PIPB TIME - C'),\n",
    "    pl.col('PAUV - T'),\n",
    "    pl.col('PAUV').alias('PAUV - C'),\n",
    "    pl.col('PAPB TEMP - T'),\n",
    "    pl.col('PAPB TEMP').alias('PAPB TEMP - C'),\n",
    "    pl.col('PAPB TIME - T'),\n",
    "    pl.col('PAPB TIME').alias('PAPB TIME - C'),\n",
    "    pl.col('BOOX TEMP'),\n",
    "    pl.col('BOOX TIME'),\n",
    "    pl.col('ODFX Q2'),\n",
    "    pl.col('SEUV'),\n",
    "    pl.col('SEPB TEMP'),\n",
    "    pl.col('SEPB TIME'),\n",
    ")"
   ]
  },
  {
   "cell_type": "code",
   "execution_count": 28,
   "metadata": {},
   "outputs": [
    {
     "data": {
      "text/html": [
       "<div><style>\n",
       ".dataframe > thead > tr,\n",
       ".dataframe > tbody > tr {\n",
       "  text-align: right;\n",
       "  white-space: pre-wrap;\n",
       "}\n",
       "</style>\n",
       "<small>shape: (12, 24)</small><table border=\"1\" class=\"dataframe\"><thead><tr><th>條件編號</th><th>條件</th><th>TFT</th><th>CF</th><th>PIPR TEMP - T</th><th>PIPR TEMP - C</th><th>PIPR TIME - T</th><th>PIPR TIME - C</th><th>PIPB TEMP - T</th><th>PIPB TEMP - C</th><th>PIPB TIME - T</th><th>PIPB TIME - C</th><th>PAUV - T</th><th>PAUV - C</th><th>PAPB TEMP - T</th><th>PAPB TEMP - C</th><th>PAPB TIME - T</th><th>PAPB TIME - C</th><th>BOOX TEMP</th><th>BOOX TIME</th><th>ODFX Q2</th><th>SEUV</th><th>SEPB TEMP</th><th>SEPB TIME</th></tr><tr><td>i64</td><td>str</td><td>str</td><td>str</td><td>f64</td><td>f64</td><td>f64</td><td>f64</td><td>f64</td><td>f64</td><td>f64</td><td>f64</td><td>f64</td><td>f64</td><td>f64</td><td>f64</td><td>f64</td><td>f64</td><td>f64</td><td>f64</td><td>f64</td><td>f64</td><td>f64</td><td>f64</td></tr></thead><tbody><tr><td>1</td><td>&quot;PAUV 224 mJ(出力 100%)&quot;</td><td>&quot;654A1AP80Q3002&quot;</td><td>&quot;654A1FP810W045&quot;</td><td>135.0</td><td>135.0</td><td>70.0</td><td>70.0</td><td>211.166667</td><td>211.333333</td><td>619.0</td><td>780.0</td><td>225.333333</td><td>225.666667</td><td>229.9</td><td>230.5</td><td>1801.0</td><td>1822.0</td><td>150.083333</td><td>625.0</td><td>412.0</td><td>6010.0</td><td>120.0</td><td>3579.0</td></tr><tr><td>2</td><td>&quot;PAUV 224 mJ(出力 70%)&quot;</td><td>&quot;654A1AP80DH004&quot;</td><td>&quot;654A1FP810D069&quot;</td><td>135.0</td><td>135.0</td><td>70.0</td><td>70.0</td><td>211.166667</td><td>211.333333</td><td>619.0</td><td>790.0</td><td>221.666667</td><td>222.333333</td><td>230.4</td><td>231.0</td><td>1801.0</td><td>1822.0</td><td>150.083333</td><td>625.0</td><td>482.0</td><td>6010.0</td><td>119.0</td><td>3578.0</td></tr><tr><td>3</td><td>&quot;PAUV 280 mJ(出力 100%)&quot;</td><td>&quot;654A1AP80PX020&quot;</td><td>&quot;654A1FP810A023&quot;</td><td>135.0</td><td>135.0</td><td>70.0</td><td>70.0</td><td>211.166667</td><td>211.333333</td><td>619.0</td><td>790.0</td><td>281.0</td><td>281.666667</td><td>231.1</td><td>231.0</td><td>1802.0</td><td>1804.0</td><td>150.091667</td><td>625.0</td><td>457.0</td><td>6010.0</td><td>120.0</td><td>3619.0</td></tr><tr><td>4</td><td>&quot;PAUV 280 mJ(出力 70%)(同量產條件)&quot;</td><td>&quot;654A1AP813V005&quot;</td><td>&quot;654A1FP810N010&quot;</td><td>135.0</td><td>135.0</td><td>70.0</td><td>70.0</td><td>211.0</td><td>211.166667</td><td>623.0</td><td>610.0</td><td>277.666667</td><td>279.666667</td><td>232.6</td><td>231.3</td><td>1811.0</td><td>1823.0</td><td>150.05</td><td>637.5</td><td>465.0</td><td>6000.0</td><td>118.0</td><td>3630.0</td></tr><tr><td>6</td><td>&quot;PAUV 336 mJ(出力 70%)&quot;</td><td>&quot;654A1AP80Q3004&quot;</td><td>&quot;654A1FP810T030&quot;</td><td>135.0</td><td>135.0</td><td>70.0</td><td>70.0</td><td>211.166667</td><td>211.333333</td><td>619.0</td><td>629.0</td><td>342.333333</td><td>342.666667</td><td>230.4</td><td>230.1</td><td>1802.0</td><td>1804.0</td><td>150.075</td><td>625.0</td><td>459.0</td><td>6010.0</td><td>120.0</td><td>3592.0</td></tr><tr><td>&hellip;</td><td>&hellip;</td><td>&hellip;</td><td>&hellip;</td><td>&hellip;</td><td>&hellip;</td><td>&hellip;</td><td>&hellip;</td><td>&hellip;</td><td>&hellip;</td><td>&hellip;</td><td>&hellip;</td><td>&hellip;</td><td>&hellip;</td><td>&hellip;</td><td>&hellip;</td><td>&hellip;</td><td>&hellip;</td><td>&hellip;</td><td>&hellip;</td><td>&hellip;</td><td>&hellip;</td><td>&hellip;</td><td>&hellip;</td></tr><tr><td>9</td><td>&quot;ODF 加抽 85 sec&quot;</td><td>&quot;654A1AP80DL001&quot;</td><td>&quot;654A1FP810S033&quot;</td><td>135.0</td><td>135.0</td><td>70.0</td><td>70.0</td><td>211.25</td><td>211.333333</td><td>633.0</td><td>606.0</td><td>279.666667</td><td>278.0</td><td>231.4</td><td>229.8</td><td>1805.0</td><td>1812.0</td><td>150.108333</td><td>625.0</td><td>496.0</td><td>6010.0</td><td>120.0</td><td>3579.0</td></tr><tr><td>10</td><td>&quot;SEUV 3600&quot;</td><td>&quot;654A1AP80DL004&quot;</td><td>&quot;654A1FP810R050&quot;</td><td>135.0</td><td>135.0</td><td>70.0</td><td>70.0</td><td>211.25</td><td>211.333333</td><td>624.0</td><td>609.0</td><td>278.0</td><td>280.0</td><td>229.8</td><td>229.9</td><td>1821.0</td><td>1812.0</td><td>150.125</td><td>626.0</td><td>504.0</td><td>3600.0</td><td>119.0</td><td>3579.0</td></tr><tr><td>11</td><td>&quot;SEUV 5000&quot;</td><td>&quot;654A1AP80DL005&quot;</td><td>&quot;654A1FP8113006&quot;</td><td>135.0</td><td>135.0</td><td>70.0</td><td>70.0</td><td>211.25</td><td>211.25</td><td>624.0</td><td>609.0</td><td>280.0</td><td>278.333333</td><td>230.9</td><td>230.7</td><td>1821.0</td><td>1803.0</td><td>150.133333</td><td>626.5</td><td>452.0</td><td>5010.0</td><td>120.0</td><td>3579.0</td></tr><tr><td>12</td><td>&quot;SEUV 7000&quot;</td><td>&quot;654A1AP80DL006&quot;</td><td>&quot;654A1FP810C039&quot;</td><td>135.0</td><td>135.0</td><td>70.0</td><td>70.0</td><td>211.416667</td><td>211.166667</td><td>615.0</td><td>617.0</td><td>278.0</td><td>280.0</td><td>230.1</td><td>229.9</td><td>1819.0</td><td>1803.0</td><td>150.108333</td><td>639.0</td><td>462.0</td><td>7010.0</td><td>120.0</td><td>3619.0</td></tr><tr><td>13</td><td>&quot;SEUV 8000&quot;</td><td>&quot;654A1AP80DL007&quot;</td><td>&quot;654A1FP810N049&quot;</td><td>135.0</td><td>135.0</td><td>70.0</td><td>70.0</td><td>211.416667</td><td>211.166667</td><td>615.0</td><td>617.0</td><td>279.666667</td><td>278.0</td><td>229.6</td><td>231.0</td><td>1819.0</td><td>1821.0</td><td>150.05</td><td>638.0</td><td>463.0</td><td>8010.0</td><td>120.0</td><td>3579.0</td></tr></tbody></table></div>"
      ],
      "text/plain": [
       "shape: (12, 24)\n",
       "┌──────────┬─────────────┬─────────────┬────────────┬───┬─────────┬────────┬───────────┬───────────┐\n",
       "│ 條件編號 ┆ 條件        ┆ TFT         ┆ CF         ┆ … ┆ ODFX Q2 ┆ SEUV   ┆ SEPB TEMP ┆ SEPB TIME │\n",
       "│ ---      ┆ ---         ┆ ---         ┆ ---        ┆   ┆ ---     ┆ ---    ┆ ---       ┆ ---       │\n",
       "│ i64      ┆ str         ┆ str         ┆ str        ┆   ┆ f64     ┆ f64    ┆ f64       ┆ f64       │\n",
       "╞══════════╪═════════════╪═════════════╪════════════╪═══╪═════════╪════════╪═══════════╪═══════════╡\n",
       "│ 1        ┆ PAUV 224    ┆ 654A1AP80Q3 ┆ 654A1FP810 ┆ … ┆ 412.0   ┆ 6010.0 ┆ 120.0     ┆ 3579.0    │\n",
       "│          ┆ mJ(出力     ┆ 002         ┆ W045       ┆   ┆         ┆        ┆           ┆           │\n",
       "│          ┆ 100%)       ┆             ┆            ┆   ┆         ┆        ┆           ┆           │\n",
       "│ 2        ┆ PAUV 224    ┆ 654A1AP80DH ┆ 654A1FP810 ┆ … ┆ 482.0   ┆ 6010.0 ┆ 119.0     ┆ 3578.0    │\n",
       "│          ┆ mJ(出力     ┆ 004         ┆ D069       ┆   ┆         ┆        ┆           ┆           │\n",
       "│          ┆ 70%)        ┆             ┆            ┆   ┆         ┆        ┆           ┆           │\n",
       "│ 3        ┆ PAUV 280    ┆ 654A1AP80PX ┆ 654A1FP810 ┆ … ┆ 457.0   ┆ 6010.0 ┆ 120.0     ┆ 3619.0    │\n",
       "│          ┆ mJ(出力     ┆ 020         ┆ A023       ┆   ┆         ┆        ┆           ┆           │\n",
       "│          ┆ 100%)       ┆             ┆            ┆   ┆         ┆        ┆           ┆           │\n",
       "│ 4        ┆ PAUV 280    ┆ 654A1AP813V ┆ 654A1FP810 ┆ … ┆ 465.0   ┆ 6000.0 ┆ 118.0     ┆ 3630.0    │\n",
       "│          ┆ mJ(出力 70% ┆ 005         ┆ N010       ┆   ┆         ┆        ┆           ┆           │\n",
       "│          ┆ )(同量產條  ┆             ┆            ┆   ┆         ┆        ┆           ┆           │\n",
       "│          ┆ 件)         ┆             ┆            ┆   ┆         ┆        ┆           ┆           │\n",
       "│ 6        ┆ PAUV 336    ┆ 654A1AP80Q3 ┆ 654A1FP810 ┆ … ┆ 459.0   ┆ 6010.0 ┆ 120.0     ┆ 3592.0    │\n",
       "│          ┆ mJ(出力     ┆ 004         ┆ T030       ┆   ┆         ┆        ┆           ┆           │\n",
       "│          ┆ 70%)        ┆             ┆            ┆   ┆         ┆        ┆           ┆           │\n",
       "│ …        ┆ …           ┆ …           ┆ …          ┆ … ┆ …       ┆ …      ┆ …         ┆ …         │\n",
       "│ 9        ┆ ODF 加抽 85 ┆ 654A1AP80DL ┆ 654A1FP810 ┆ … ┆ 496.0   ┆ 6010.0 ┆ 120.0     ┆ 3579.0    │\n",
       "│          ┆ sec         ┆ 001         ┆ S033       ┆   ┆         ┆        ┆           ┆           │\n",
       "│ 10       ┆ SEUV 3600   ┆ 654A1AP80DL ┆ 654A1FP810 ┆ … ┆ 504.0   ┆ 3600.0 ┆ 119.0     ┆ 3579.0    │\n",
       "│          ┆             ┆ 004         ┆ R050       ┆   ┆         ┆        ┆           ┆           │\n",
       "│ 11       ┆ SEUV 5000   ┆ 654A1AP80DL ┆ 654A1FP811 ┆ … ┆ 452.0   ┆ 5010.0 ┆ 120.0     ┆ 3579.0    │\n",
       "│          ┆             ┆ 005         ┆ 3006       ┆   ┆         ┆        ┆           ┆           │\n",
       "│ 12       ┆ SEUV 7000   ┆ 654A1AP80DL ┆ 654A1FP810 ┆ … ┆ 462.0   ┆ 7010.0 ┆ 120.0     ┆ 3619.0    │\n",
       "│          ┆             ┆ 006         ┆ C039       ┆   ┆         ┆        ┆           ┆           │\n",
       "│ 13       ┆ SEUV 8000   ┆ 654A1AP80DL ┆ 654A1FP810 ┆ … ┆ 463.0   ┆ 8010.0 ┆ 120.0     ┆ 3579.0    │\n",
       "│          ┆             ┆ 007         ┆ N049       ┆   ┆         ┆        ┆           ┆           │\n",
       "└──────────┴─────────────┴─────────────┴────────────┴───┴─────────┴────────┴───────────┴───────────┘"
      ]
     },
     "execution_count": 28,
     "metadata": {},
     "output_type": "execute_result"
    }
   ],
   "source": [
    "edc_4"
   ]
  },
  {
   "cell_type": "code",
   "execution_count": 208,
   "metadata": {},
   "outputs": [
    {
     "data": {
      "text/plain": [
       "<xlsxwriter.workbook.Workbook at 0x1e9076e7ed0>"
      ]
     },
     "execution_count": 208,
     "metadata": {},
     "output_type": "execute_result"
    }
   ],
   "source": [
    "edc_4.write_excel('edc.xlsx')"
   ]
  }
 ],
 "metadata": {
  "kernelspec": {
   "display_name": "innolux",
   "language": "python",
   "name": "python3"
  },
  "language_info": {
   "codemirror_mode": {
    "name": "ipython",
    "version": 3
   },
   "file_extension": ".py",
   "mimetype": "text/x-python",
   "name": "python",
   "nbconvert_exporter": "python",
   "pygments_lexer": "ipython3",
   "version": "3.13.3"
  }
 },
 "nbformat": 4,
 "nbformat_minor": 2
}
